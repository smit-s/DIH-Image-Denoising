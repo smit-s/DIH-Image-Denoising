{
  "nbformat": 4,
  "nbformat_minor": 0,
  "metadata": {
    "colab": {
      "name": "Copy of Copy of convmixeddata.ipynb",
      "provenance": [],
      "collapsed_sections": []
    },
    "kernelspec": {
      "name": "python3",
      "display_name": "Python 3"
    },
    "accelerator": "GPU"
  },
  "cells": [
    {
      "cell_type": "code",
      "metadata": {
        "id": "nYaUb4i9C2o2",
        "outputId": "28543d2b-49ac-4b76-9815-812009aa7bf1",
        "colab": {
          "base_uri": "https://localhost:8080/",
          "height": 122
        }
      },
      "source": [
        "# do\n",
        "from google.colab import drive\n",
        "drive.mount('/content/drive')"
      ],
      "execution_count": null,
      "outputs": [
        {
          "output_type": "stream",
          "text": [
            "Go to this URL in a browser: https://accounts.google.com/o/oauth2/auth?client_id=947318989803-6bn6qk8qdgf4n4g3pfee6491hc0brc4i.apps.googleusercontent.com&redirect_uri=urn%3aietf%3awg%3aoauth%3a2.0%3aoob&response_type=code&scope=email%20https%3a%2f%2fwww.googleapis.com%2fauth%2fdocs.test%20https%3a%2f%2fwww.googleapis.com%2fauth%2fdrive%20https%3a%2f%2fwww.googleapis.com%2fauth%2fdrive.photos.readonly%20https%3a%2f%2fwww.googleapis.com%2fauth%2fpeopleapi.readonly\n",
            "\n",
            "Enter your authorization code:\n",
            "··········\n",
            "Mounted at /content/drive\n"
          ],
          "name": "stdout"
        }
      ]
    },
    {
      "cell_type": "code",
      "metadata": {
        "id": "neEVD5Z1Drtd"
      },
      "source": [
        "import matplotlib.pyplot as plt\n",
        "#User should change input nodes and hidden nodes as per input size\n",
        "import tensorflow as tf\n",
        "import pandas as pd\n",
        "import cv2\n",
        "import glob\n",
        "import numpy as np\n",
        "import random\n",
        "from google.colab.patches import cv2_imshow"
      ],
      "execution_count": null,
      "outputs": []
    },
    {
      "cell_type": "code",
      "metadata": {
        "id": "fwMjpIDBDVGF"
      },
      "source": [
        "def rotate_image(image, angle ):\n",
        "    img_center = tuple(np.array(image.shape[1::-1]) / 2)\n",
        "    rot_mat = cv2.getRotationMatrix2D(img_center, angle, 1.0)\n",
        "    rotated = cv2.warpAffine(image, rot_mat, image.shape[1::-1], flags=cv2.INTER_LINEAR)\n",
        "    return rotated\n",
        "def img_augmentor(image):\n",
        "  res= []\n",
        "  for angle in np.arange(0, 360, 15):\n",
        "    #background mask\n",
        "    bgmask=np.zeros((image.shape[:2]), np.uint8)\n",
        "    cv2.circle(bgmask, ( int(bgmask.shape[0]/2), int(bgmask.shape[1]/2) ), 32, (255), -1)\n",
        "    #cell mask\n",
        "    cellmask=cv2.bitwise_not(bgmask)\n",
        "    #cell background\n",
        "    bg = cv2.bitwise_or(image, image, mask=cellmask)\n",
        "    #rotate img\n",
        "    rotated=rotate_image(image, angle)\n",
        "    #cell cropping\n",
        "    cell= cv2.bitwise_or(rotated, rotated, mask=bgmask)\n",
        "    final = cv2.bitwise_or(bg, cell)\n",
        "    #cv2_imshow(final)\n",
        "    final = np.array(final)\n",
        "    res.append(final)\n",
        "  return res\n",
        "    #disp\n",
        "    #cv.imshow(\"final mask\", final)\n",
        "    #cv.waitKey(0)\n",
        "    \n",
        "    #save rotated image on pc\n",
        "    #cv.imwrite(\"imgrot\"+str(angle)+\".png\", final)\n",
        "    \n",
        "    #save flattened img into csv\n",
        "    #finalflat= final.flatten()/255.0\n",
        "    #write this to excel\n",
        "    \n",
        "    #cv.destroyAllWindows()\n",
        "def canaug(img):\n",
        "  img = np.array(img)\n",
        "  img = img.reshape((50,50))\n",
        "  final_train_data = []\n",
        "  final_train_data.append(img)\n",
        "  final_train_data.append(np.fliplr(img))\n",
        "  final_train_data.append(np.flipud(img))\n",
        "  for i in range(1,12):\n",
        "    for j in range(3):\n",
        "      final_train_data.append(rotate(final_train_data[j], angle=i, mode = 'edge'))\n",
        "      final_train_data.append(rotate(final_train_data[j], angle=360-i, mode = 'edge'))\n",
        "    if(i==11):\n",
        "      cv2_imshow(final_train_data[-1])\n",
        "  return final_train_data \n",
        "\n",
        "def noisy(image):\n",
        "      row,col= image.shape\n",
        "      mean = 0\n",
        "      var = 100\n",
        "      sigma = var**0.5\n",
        "      gauss = np.random.normal(mean,sigma,(row,col))\n",
        "      gauss = gauss.reshape(row,col)\n",
        "      noisy = image + gauss\n",
        "      return noisy   "
      ],
      "execution_count": null,
      "outputs": []
    },
    {
      "cell_type": "code",
      "metadata": {
        "id": "SYprVHzQC34x",
        "outputId": "c5b8cbcd-9280-4038-abe3-19a9c253281f",
        "colab": {
          "base_uri": "https://localhost:8080/",
          "height": 54
        }
      },
      "source": [
        "sz=50\n",
        "xc=8\n",
        "yc=58\n",
        "input_nodes=sz*sz\n",
        "hidden_nodes=2700\n",
        "output_nodes =sz*sz\n",
        "train_x_list=glob.glob(\"drive/My Drive/tdata/rbc/*.png\")\n",
        "train_x_list.extend(glob.glob(\"drive/My Drive/tdata/HepG2/*.png\"))\n",
        "train_x_list.extend(glob.glob(\"drive/My Drive/tdata/MCF7/*.png\"))\n",
        "train_x_list.extend(glob.glob(\"drive/My Drive/tdata/10/*.png\"))\n",
        "train_x_list.extend(glob.glob(\"drive/My Drive/tdata/20/*.png\"))\n",
        "train_x_list.extend(glob.glob(\"drive/My Drive/tdata/cd4/*.png\"))\n",
        "train_x_list.extend(glob.glob(\"drive/My Drive/tdata/cd8/*.png\"))\n",
        "#random.shuffle(train_x_list)\n",
        "print(train_x_list)\n",
        "train_images=[]\n",
        "train_lis = []\n",
        "x_list = []\n",
        "train_lis_auginp = []\n",
        "noise=[]\n",
        "noise_test = []\n",
        "file_name=[]\n",
        "for i in range(len(train_x_list)):\n",
        "  if(i%30==0):\n",
        "    file_name.append(train_x_list[i])\n",
        "    x_list.append(cv2.imread(train_x_list[i],0)[xc:yc,xc:yc].flatten())\n",
        "  else:\n",
        "    a = cv2.imread(train_x_list[i],0)\n",
        "    if(train_x_list[i].split('/')[3]=='HepG2' or train_x_list[i].split('/')[3]=='MCF7'):\n",
        "      for ag in img_augmentor(a):\n",
        "        #train_lis_auginp.append(ag[xc:yc,xc:yc])\n",
        "        train_images.append(ag[xc:yc,xc:yc].flatten())\n",
        "    else:\n",
        "      train_lis_auginp.append(a[xc:yc,xc:yc])\n",
        "      train_images.append(a[xc:yc,xc:yc].flatten())\n",
        "    #noise.append(noisy(cv2.imread(train_x_list[i],0))[11:55,11:55].flatten())\n",
        "    #cv2_imshow(np.resize(noise[i],(44,44)))\n",
        "#saving input list before conv to np array\n",
        "train_lis = train_images\n",
        "train_images=np.array(train_images)\n",
        "#x_list contains test images and train_lis contains train images\n",
        "print(train_images.shape)\n",
        "\n",
        "print(train_images)"
      ],
      "execution_count": null,
      "outputs": [
        {
          "output_type": "stream",
          "text": [
            "['drive/My Drive/tdata/rbc/5 (10).png', 'drive/My Drive/tdata/rbc/5 (1).png', 'drive/My Drive/tdata/rbc/5 (100).png', 'drive/My Drive/tdata/rbc/5 (102).png', 'drive/My Drive/tdata/rbc/5 (11).png', 'drive/My Drive/tdata/rbc/5 (107).png', 'drive/My Drive/tdata/rbc/5 (105).png', 'drive/My Drive/tdata/rbc/5 (109).png', 'drive/My Drive/tdata/rbc/5 (108).png', 'drive/My Drive/tdata/rbc/5 (106).png', 'drive/My Drive/tdata/rbc/5 (101).png', 'drive/My Drive/tdata/rbc/5 (103).png', 'drive/My Drive/tdata/rbc/5 (104).png', 'drive/My Drive/tdata/rbc/5 (113).png', 'drive/My Drive/tdata/rbc/5 (119).png', 'drive/My Drive/tdata/rbc/5 (117).png', 'drive/My Drive/tdata/rbc/5 (116).png', 'drive/My Drive/tdata/rbc/5 (112).png', 'drive/My Drive/tdata/rbc/5 (118).png', 'drive/My Drive/tdata/rbc/5 (111).png', 'drive/My Drive/tdata/rbc/5 (114).png', 'drive/My Drive/tdata/rbc/5 (110).png', 'drive/My Drive/tdata/rbc/5 (115).png', 'drive/My Drive/tdata/rbc/5 (12).png', 'drive/My Drive/tdata/rbc/5 (124).png', 'drive/My Drive/tdata/rbc/5 (122).png', 'drive/My Drive/tdata/rbc/5 (121).png', 'drive/My Drive/tdata/rbc/5 (127).png', 'drive/My Drive/tdata/rbc/5 (126).png', 'drive/My Drive/tdata/rbc/5 (125).png', 'drive/My Drive/tdata/rbc/5 (128).png', 'drive/My Drive/tdata/rbc/5 (123).png', 'drive/My Drive/tdata/rbc/5 (120).png', 'drive/My Drive/tdata/rbc/5 (129).png', 'drive/My Drive/tdata/rbc/5 (131).png', 'drive/My Drive/tdata/rbc/5 (136).png', 'drive/My Drive/tdata/rbc/5 (134).png', 'drive/My Drive/tdata/rbc/5 (133).png', 'drive/My Drive/tdata/rbc/5 (13).png', 'drive/My Drive/tdata/rbc/5 (130).png', 'drive/My Drive/tdata/rbc/5 (137).png', 'drive/My Drive/tdata/rbc/5 (132).png', 'drive/My Drive/tdata/rbc/5 (135).png', 'drive/My Drive/tdata/rbc/5 (138).png', 'drive/My Drive/tdata/rbc/5 (144).png', 'drive/My Drive/tdata/rbc/5 (141).png', 'drive/My Drive/tdata/rbc/5 (146).png', 'drive/My Drive/tdata/rbc/5 (140).png', 'drive/My Drive/tdata/rbc/5 (139).png', 'drive/My Drive/tdata/rbc/5 (145).png', 'drive/My Drive/tdata/rbc/5 (14).png', 'drive/My Drive/tdata/rbc/5 (142).png', 'drive/My Drive/tdata/rbc/5 (143).png', 'drive/My Drive/tdata/rbc/5 (147).png', 'drive/My Drive/tdata/rbc/5 (152).png', 'drive/My Drive/tdata/rbc/5 (151).png', 'drive/My Drive/tdata/rbc/5 (155).png', 'drive/My Drive/tdata/rbc/5 (149).png', 'drive/My Drive/tdata/rbc/5 (150).png', 'drive/My Drive/tdata/rbc/5 (148).png', 'drive/My Drive/tdata/rbc/5 (154).png', 'drive/My Drive/tdata/rbc/5 (153).png', 'drive/My Drive/tdata/rbc/5 (15).png', 'drive/My Drive/tdata/rbc/5 (157).png', 'drive/My Drive/tdata/rbc/5 (158).png', 'drive/My Drive/tdata/rbc/5 (161).png', 'drive/My Drive/tdata/rbc/5 (160).png', 'drive/My Drive/tdata/rbc/5 (16).png', 'drive/My Drive/tdata/rbc/5 (159).png', 'drive/My Drive/tdata/rbc/5 (162).png', 'drive/My Drive/tdata/rbc/5 (163).png', 'drive/My Drive/tdata/rbc/5 (156).png', 'drive/My Drive/tdata/rbc/5 (164).png', 'drive/My Drive/tdata/rbc/5 (167).png', 'drive/My Drive/tdata/rbc/5 (171).png', 'drive/My Drive/tdata/rbc/5 (17).png', 'drive/My Drive/tdata/rbc/5 (170).png', 'drive/My Drive/tdata/rbc/5 (173).png', 'drive/My Drive/tdata/rbc/5 (172).png', 'drive/My Drive/tdata/rbc/5 (168).png', 'drive/My Drive/tdata/rbc/5 (169).png', 'drive/My Drive/tdata/rbc/5 (165).png', 'drive/My Drive/tdata/rbc/5 (166).png', 'drive/My Drive/tdata/rbc/5 (175).png', 'drive/My Drive/tdata/rbc/5 (178).png', 'drive/My Drive/tdata/rbc/5 (179).png', 'drive/My Drive/tdata/rbc/5 (181).png', 'drive/My Drive/tdata/rbc/5 (176).png', 'drive/My Drive/tdata/rbc/5 (18).png', 'drive/My Drive/tdata/rbc/5 (174).png', 'drive/My Drive/tdata/rbc/5 (177).png', 'drive/My Drive/tdata/rbc/5 (180).png', 'drive/My Drive/tdata/rbc/5 (182).png', 'drive/My Drive/tdata/rbc/5 (183).png', 'drive/My Drive/tdata/rbc/5 (185).png', 'drive/My Drive/tdata/rbc/5 (187).png', 'drive/My Drive/tdata/rbc/5 (184).png', 'drive/My Drive/tdata/rbc/5 (189).png', 'drive/My Drive/tdata/rbc/5 (19).png', 'drive/My Drive/tdata/rbc/5 (191).png', 'drive/My Drive/tdata/rbc/5 (186).png', 'drive/My Drive/tdata/rbc/5 (188).png', 'drive/My Drive/tdata/rbc/5 (190).png', 'drive/My Drive/tdata/rbc/5 (198).png', 'drive/My Drive/tdata/rbc/5 (192).png', 'drive/My Drive/tdata/rbc/5 (197).png', 'drive/My Drive/tdata/rbc/5 (20).png', 'drive/My Drive/tdata/rbc/5 (194).png', 'drive/My Drive/tdata/rbc/5 (199).png', 'drive/My Drive/tdata/rbc/5 (195).png', 'drive/My Drive/tdata/rbc/5 (193).png', 'drive/My Drive/tdata/rbc/5 (2).png', 'drive/My Drive/tdata/rbc/5 (196).png', 'drive/My Drive/tdata/rbc/5 (202).png', 'drive/My Drive/tdata/rbc/5 (209).png', 'drive/My Drive/tdata/rbc/5 (204).png', 'drive/My Drive/tdata/rbc/5 (200).png', 'drive/My Drive/tdata/rbc/5 (206).png', 'drive/My Drive/tdata/rbc/5 (203).png', 'drive/My Drive/tdata/rbc/5 (205).png', 'drive/My Drive/tdata/rbc/5 (201).png', 'drive/My Drive/tdata/rbc/5 (208).png', 'drive/My Drive/tdata/rbc/5 (207).png', 'drive/My Drive/tdata/rbc/5 (21).png', 'drive/My Drive/tdata/rbc/5 (210).png', 'drive/My Drive/tdata/rbc/5 (215).png', 'drive/My Drive/tdata/rbc/5 (211).png', 'drive/My Drive/tdata/rbc/5 (214).png', 'drive/My Drive/tdata/rbc/5 (212).png', 'drive/My Drive/tdata/rbc/5 (218).png', 'drive/My Drive/tdata/rbc/5 (216).png', 'drive/My Drive/tdata/rbc/5 (213).png', 'drive/My Drive/tdata/rbc/5 (217).png', 'drive/My Drive/tdata/rbc/5 (221).png', 'drive/My Drive/tdata/rbc/5 (226).png', 'drive/My Drive/tdata/rbc/5 (224).png', 'drive/My Drive/tdata/rbc/5 (219).png', 'drive/My Drive/tdata/rbc/5 (220).png', 'drive/My Drive/tdata/rbc/5 (225).png', 'drive/My Drive/tdata/rbc/5 (22).png', 'drive/My Drive/tdata/rbc/5 (223).png', 'drive/My Drive/tdata/rbc/5 (222).png', 'drive/My Drive/tdata/rbc/5 (227).png', 'drive/My Drive/tdata/rbc/5 (228).png', 'drive/My Drive/tdata/rbc/5 (233).png', 'drive/My Drive/tdata/rbc/5 (232).png', 'drive/My Drive/tdata/rbc/5 (236).png', 'drive/My Drive/tdata/rbc/5 (235).png', 'drive/My Drive/tdata/rbc/5 (230).png', 'drive/My Drive/tdata/rbc/5 (231).png', 'drive/My Drive/tdata/rbc/5 (229).png', 'drive/My Drive/tdata/rbc/5 (234).png', 'drive/My Drive/tdata/rbc/5 (23).png', 'drive/My Drive/tdata/rbc/5 (237).png', 'drive/My Drive/tdata/rbc/5 (242).png', 'drive/My Drive/tdata/rbc/5 (245).png', 'drive/My Drive/tdata/rbc/5 (238).png', 'drive/My Drive/tdata/rbc/5 (241).png', 'drive/My Drive/tdata/rbc/5 (24).png', 'drive/My Drive/tdata/rbc/5 (244).png', 'drive/My Drive/tdata/rbc/5 (239).png', 'drive/My Drive/tdata/rbc/5 (243).png', 'drive/My Drive/tdata/rbc/5 (240).png', 'drive/My Drive/tdata/rbc/5 (249).png', 'drive/My Drive/tdata/rbc/5 (250).png', 'drive/My Drive/tdata/rbc/5 (253).png', 'drive/My Drive/tdata/rbc/5 (248).png', 'drive/My Drive/tdata/rbc/5 (254).png', 'drive/My Drive/tdata/rbc/5 (25).png', 'drive/My Drive/tdata/rbc/5 (246).png', 'drive/My Drive/tdata/rbc/5 (251).png', 'drive/My Drive/tdata/rbc/5 (247).png', 'drive/My Drive/tdata/rbc/5 (252).png', 'drive/My Drive/tdata/rbc/5 (257).png', 'drive/My Drive/tdata/rbc/5 (258).png', 'drive/My Drive/tdata/rbc/5 (262).png', 'drive/My Drive/tdata/rbc/5 (260).png', 'drive/My Drive/tdata/rbc/5 (259).png', 'drive/My Drive/tdata/rbc/5 (256).png', 'drive/My Drive/tdata/rbc/5 (263).png', 'drive/My Drive/tdata/rbc/5 (26).png', 'drive/My Drive/tdata/rbc/5 (255).png', 'drive/My Drive/tdata/rbc/5 (261).png', 'drive/My Drive/tdata/rbc/5 (270).png', 'drive/My Drive/tdata/rbc/5 (269).png', 'drive/My Drive/tdata/rbc/5 (272).png', 'drive/My Drive/tdata/rbc/5 (266).png', 'drive/My Drive/tdata/rbc/5 (27).png', 'drive/My Drive/tdata/rbc/5 (268).png', 'drive/My Drive/tdata/rbc/5 (264).png', 'drive/My Drive/tdata/rbc/5 (265).png', 'drive/My Drive/tdata/rbc/5 (271).png', 'drive/My Drive/tdata/rbc/5 (267).png', 'drive/My Drive/tdata/rbc/5 (274).png', 'drive/My Drive/tdata/rbc/5 (276).png', 'drive/My Drive/tdata/rbc/5 (273).png', 'drive/My Drive/tdata/rbc/5 (277).png', 'drive/My Drive/tdata/rbc/5 (28).png', 'drive/My Drive/tdata/rbc/5 (280).png', 'drive/My Drive/tdata/rbc/5 (279).png', 'drive/My Drive/tdata/rbc/5 (275).png', 'drive/My Drive/tdata/rbc/5 (278).png', 'drive/My Drive/tdata/rbc/5 (281).png', 'drive/My Drive/tdata/rbc/5 (284).png', 'drive/My Drive/tdata/rbc/5 (286).png', 'drive/My Drive/tdata/rbc/5 (290).png', 'drive/My Drive/tdata/rbc/5 (288).png', 'drive/My Drive/tdata/rbc/5 (289).png', 'drive/My Drive/tdata/rbc/5 (283).png', 'drive/My Drive/tdata/rbc/5 (29).png', 'drive/My Drive/tdata/rbc/5 (287).png', 'drive/My Drive/tdata/rbc/5 (282).png', 'drive/My Drive/tdata/rbc/5 (285).png', 'drive/My Drive/tdata/rbc/5 (291).png', 'drive/My Drive/tdata/rbc/5 (297).png', 'drive/My Drive/tdata/rbc/5 (3).png', 'drive/My Drive/tdata/rbc/5 (292).png', 'drive/My Drive/tdata/rbc/5 (296).png', 'drive/My Drive/tdata/rbc/5 (293).png', 'drive/My Drive/tdata/rbc/5 (295).png', 'drive/My Drive/tdata/rbc/5 (299).png', 'drive/My Drive/tdata/rbc/5 (298).png', 'drive/My Drive/tdata/rbc/5 (294).png', 'drive/My Drive/tdata/rbc/5 (30).png', 'drive/My Drive/tdata/rbc/5 (302).png', 'drive/My Drive/tdata/rbc/5 (305).png', 'drive/My Drive/tdata/rbc/5 (303).png', 'drive/My Drive/tdata/rbc/5 (304).png', 'drive/My Drive/tdata/rbc/5 (308).png', 'drive/My Drive/tdata/rbc/5 (306).png', 'drive/My Drive/tdata/rbc/5 (307).png', 'drive/My Drive/tdata/rbc/5 (300).png', 'drive/My Drive/tdata/rbc/5 (301).png', 'drive/My Drive/tdata/rbc/5 (310).png', 'drive/My Drive/tdata/rbc/5 (316).png', 'drive/My Drive/tdata/rbc/5 (31).png', 'drive/My Drive/tdata/rbc/5 (315).png', 'drive/My Drive/tdata/rbc/5 (309).png', 'drive/My Drive/tdata/rbc/5 (317).png', 'drive/My Drive/tdata/rbc/5 (311).png', 'drive/My Drive/tdata/rbc/5 (313).png', 'drive/My Drive/tdata/rbc/5 (314).png', 'drive/My Drive/tdata/rbc/5 (312).png', 'drive/My Drive/tdata/rbc/5 (318).png', 'drive/My Drive/tdata/rbc/5 (32).png', 'drive/My Drive/tdata/rbc/5 (319).png', 'drive/My Drive/tdata/rbc/5 (34).png', 'drive/My Drive/tdata/rbc/5 (38).png', 'drive/My Drive/tdata/rbc/5 (35).png', 'drive/My Drive/tdata/rbc/5 (37).png', 'drive/My Drive/tdata/rbc/5 (320).png', 'drive/My Drive/tdata/rbc/5 (36).png', 'drive/My Drive/tdata/rbc/5 (33).png', 'drive/My Drive/tdata/rbc/5 (39).png', 'drive/My Drive/tdata/rbc/5 (40).png', 'drive/My Drive/tdata/rbc/5 (43).png', 'drive/My Drive/tdata/rbc/5 (46).png', 'drive/My Drive/tdata/rbc/5 (44).png', 'drive/My Drive/tdata/rbc/5 (47).png', 'drive/My Drive/tdata/rbc/5 (45).png', 'drive/My Drive/tdata/rbc/5 (42).png', 'drive/My Drive/tdata/rbc/5 (41).png', 'drive/My Drive/tdata/rbc/5 (4).png', 'drive/My Drive/tdata/rbc/5 (49) (1).png', 'drive/My Drive/tdata/rbc/5 (55) (1).png', 'drive/My Drive/tdata/rbc/5 (50) (1).png', 'drive/My Drive/tdata/rbc/5 (52) (1).png', 'drive/My Drive/tdata/rbc/5 (53) (1).png', 'drive/My Drive/tdata/rbc/5 (51) (1).png', 'drive/My Drive/tdata/rbc/5 (48) (1).png', 'drive/My Drive/tdata/rbc/5 (56) (1).png', 'drive/My Drive/tdata/rbc/5 (5) (1).png', 'drive/My Drive/tdata/rbc/5 (54) (1).png', 'drive/My Drive/tdata/rbc/5 (64).png', 'drive/My Drive/tdata/rbc/5 (6).png', 'drive/My Drive/tdata/rbc/5 (63).png', 'drive/My Drive/tdata/rbc/5 (62).png', 'drive/My Drive/tdata/rbc/5 (57).png', 'drive/My Drive/tdata/rbc/5 (60).png', 'drive/My Drive/tdata/rbc/5 (61).png', 'drive/My Drive/tdata/rbc/5 (65).png', 'drive/My Drive/tdata/rbc/5 (58).png', 'drive/My Drive/tdata/rbc/5 (59).png', 'drive/My Drive/tdata/rbc/5 (49).png', 'drive/My Drive/tdata/rbc/5 (50).png', 'drive/My Drive/tdata/rbc/5 (56).png', 'drive/My Drive/tdata/rbc/5 (52).png', 'drive/My Drive/tdata/rbc/5 (97).png', 'drive/My Drive/tdata/rbc/5 (53).png', 'drive/My Drive/tdata/rbc/5 (99).png', 'drive/My Drive/tdata/rbc/5 (96).png', 'drive/My Drive/tdata/rbc/5 (48).png', 'drive/My Drive/tdata/rbc/5 (55).png', 'drive/My Drive/tdata/rbc/5 (93).png', 'drive/My Drive/tdata/rbc/5 (89).png', 'drive/My Drive/tdata/rbc/5 (54).png', 'drive/My Drive/tdata/rbc/5 (95).png', 'drive/My Drive/tdata/rbc/5 (51).png', 'drive/My Drive/tdata/rbc/5 (94).png', 'drive/My Drive/tdata/rbc/5 (88).png', 'drive/My Drive/tdata/rbc/5 (5).png', 'drive/My Drive/tdata/rbc/5 (85).png', 'drive/My Drive/tdata/rbc/5 (98).png', 'drive/My Drive/tdata/rbc/5 (84).png', 'drive/My Drive/tdata/rbc/5 (9).png', 'drive/My Drive/tdata/rbc/5 (87).png', 'drive/My Drive/tdata/rbc/5 (86).png', 'drive/My Drive/tdata/rbc/5 (90).png', 'drive/My Drive/tdata/rbc/5 (83).png', 'drive/My Drive/tdata/rbc/5 (81).png', 'drive/My Drive/tdata/rbc/5 (91).png', 'drive/My Drive/tdata/rbc/5 (79).png', 'drive/My Drive/tdata/rbc/5 (92).png', 'drive/My Drive/tdata/rbc/5 (82).png', 'drive/My Drive/tdata/rbc/5 (8).png', 'drive/My Drive/tdata/rbc/5 (66).png', 'drive/My Drive/tdata/rbc/5 (75).png', 'drive/My Drive/tdata/rbc/5 (78).png', 'drive/My Drive/tdata/rbc/5 (7).png', 'drive/My Drive/tdata/rbc/5 (76).png', 'drive/My Drive/tdata/rbc/5 (80).png', 'drive/My Drive/tdata/rbc/5 (77).png', 'drive/My Drive/tdata/rbc/5 (68).png', 'drive/My Drive/tdata/rbc/5 (70).png', 'drive/My Drive/tdata/rbc/5 (71).png', 'drive/My Drive/tdata/rbc/5 (69).png', 'drive/My Drive/tdata/rbc/5 (74).png', 'drive/My Drive/tdata/rbc/5 (73).png', 'drive/My Drive/tdata/rbc/5 (67).png', 'drive/My Drive/tdata/rbc/5 (72).png', 'drive/My Drive/tdata/HepG2/3 (1).png', 'drive/My Drive/tdata/HepG2/3 (17).png', 'drive/My Drive/tdata/HepG2/3 (12).png', 'drive/My Drive/tdata/HepG2/3 (15).png', 'drive/My Drive/tdata/HepG2/3 (14).png', 'drive/My Drive/tdata/HepG2/3 (16).png', 'drive/My Drive/tdata/HepG2/3 (10).png', 'drive/My Drive/tdata/HepG2/3 (11).png', 'drive/My Drive/tdata/HepG2/3 (13).png', 'drive/My Drive/tdata/HepG2/3 (19).png', 'drive/My Drive/tdata/HepG2/3 (23).png', 'drive/My Drive/tdata/HepG2/3 (20).png', 'drive/My Drive/tdata/HepG2/3 (25).png', 'drive/My Drive/tdata/HepG2/3 (24).png', 'drive/My Drive/tdata/HepG2/3 (26).png', 'drive/My Drive/tdata/HepG2/3 (18).png', 'drive/My Drive/tdata/HepG2/3 (2).png', 'drive/My Drive/tdata/HepG2/3 (21).png', 'drive/My Drive/tdata/HepG2/3 (22).png', 'drive/My Drive/tdata/HepG2/3 (27).png', 'drive/My Drive/tdata/HepG2/3 (28).png', 'drive/My Drive/tdata/HepG2/3 (33).png', 'drive/My Drive/tdata/HepG2/3 (34).png', 'drive/My Drive/tdata/HepG2/3 (32).png', 'drive/My Drive/tdata/HepG2/3 (3).png', 'drive/My Drive/tdata/HepG2/3 (29).png', 'drive/My Drive/tdata/HepG2/3 (31).png', 'drive/My Drive/tdata/HepG2/3 (30).png', 'drive/My Drive/tdata/HepG2/3 (35).png', 'drive/My Drive/tdata/HepG2/3 (36).png', 'drive/My Drive/tdata/HepG2/3 (41).png', 'drive/My Drive/tdata/HepG2/3 (4).png', 'drive/My Drive/tdata/HepG2/3 (39).png', 'drive/My Drive/tdata/HepG2/3 (42).png', 'drive/My Drive/tdata/HepG2/3 (38).png', 'drive/My Drive/tdata/HepG2/3 (37).png', 'drive/My Drive/tdata/HepG2/3 (44).png', 'drive/My Drive/tdata/HepG2/3 (43).png', 'drive/My Drive/tdata/HepG2/3 (40).png', 'drive/My Drive/tdata/HepG2/3 (45).png', 'drive/My Drive/tdata/HepG2/3 (48).png', 'drive/My Drive/tdata/HepG2/3 (47).png', 'drive/My Drive/tdata/HepG2/3 (50).png', 'drive/My Drive/tdata/HepG2/3 (5).png', 'drive/My Drive/tdata/HepG2/3 (52).png', 'drive/My Drive/tdata/HepG2/3 (53).png', 'drive/My Drive/tdata/HepG2/3 (51).png', 'drive/My Drive/tdata/HepG2/3 (46).png', 'drive/My Drive/tdata/HepG2/3 (49).png', 'drive/My Drive/tdata/HepG2/3 (54).png', 'drive/My Drive/tdata/HepG2/3 (58).png', 'drive/My Drive/tdata/HepG2/3 (55).png', 'drive/My Drive/tdata/HepG2/3 (6).png', 'drive/My Drive/tdata/HepG2/3 (60).png', 'drive/My Drive/tdata/HepG2/3 (61).png', 'drive/My Drive/tdata/HepG2/3 (7).png', 'drive/My Drive/tdata/HepG2/3 (57).png', 'drive/My Drive/tdata/HepG2/3 (56).png', 'drive/My Drive/tdata/HepG2/3 (59).png', 'drive/My Drive/tdata/HepG2/3 (8).png', 'drive/My Drive/tdata/HepG2/3 (9).png', 'drive/My Drive/tdata/MCF7/4 (14).png', 'drive/My Drive/tdata/MCF7/4 (11).png', 'drive/My Drive/tdata/MCF7/4 (15).png', 'drive/My Drive/tdata/MCF7/4 (1).png', 'drive/My Drive/tdata/MCF7/4 (12).png', 'drive/My Drive/tdata/MCF7/4 (10).png', 'drive/My Drive/tdata/MCF7/4 (16).png', 'drive/My Drive/tdata/MCF7/4 (13).png', 'drive/My Drive/tdata/MCF7/4 (20).png', 'drive/My Drive/tdata/MCF7/4 (18).png', 'drive/My Drive/tdata/MCF7/4 (2).png', 'drive/My Drive/tdata/MCF7/4 (21).png', 'drive/My Drive/tdata/MCF7/4 (25).png', 'drive/My Drive/tdata/MCF7/4 (22).png', 'drive/My Drive/tdata/MCF7/4 (17).png', 'drive/My Drive/tdata/MCF7/4 (23).png', 'drive/My Drive/tdata/MCF7/4 (19).png', 'drive/My Drive/tdata/MCF7/4 (24).png', 'drive/My Drive/tdata/MCF7/4 (26).png', 'drive/My Drive/tdata/MCF7/4 (30).png', 'drive/My Drive/tdata/MCF7/4 (3).png', 'drive/My Drive/tdata/MCF7/4 (29).png', 'drive/My Drive/tdata/MCF7/4 (31).png', 'drive/My Drive/tdata/MCF7/4 (33).png', 'drive/My Drive/tdata/MCF7/4 (34).png', 'drive/My Drive/tdata/MCF7/4 (32).png', 'drive/My Drive/tdata/MCF7/4 (28).png', 'drive/My Drive/tdata/MCF7/4 (27).png', 'drive/My Drive/tdata/MCF7/4 (35).png', 'drive/My Drive/tdata/MCF7/4 (40).png', 'drive/My Drive/tdata/MCF7/4 (41).png', 'drive/My Drive/tdata/MCF7/4 (37).png', 'drive/My Drive/tdata/MCF7/4 (42).png', 'drive/My Drive/tdata/MCF7/4 (4).png', 'drive/My Drive/tdata/MCF7/4 (38).png', 'drive/My Drive/tdata/MCF7/4 (39).png', 'drive/My Drive/tdata/MCF7/4 (43).png', 'drive/My Drive/tdata/MCF7/4 (36).png', 'drive/My Drive/tdata/MCF7/4 (44).png', 'drive/My Drive/tdata/MCF7/4 (49).png', 'drive/My Drive/tdata/MCF7/4 (45).png', 'drive/My Drive/tdata/MCF7/4 (5).png', 'drive/My Drive/tdata/MCF7/4 (50).png', 'drive/My Drive/tdata/MCF7/4 (52).png', 'drive/My Drive/tdata/MCF7/4 (48).png', 'drive/My Drive/tdata/MCF7/4 (47).png', 'drive/My Drive/tdata/MCF7/4 (46).png', 'drive/My Drive/tdata/MCF7/4 (51).png', 'drive/My Drive/tdata/MCF7/4 (53).png', 'drive/My Drive/tdata/MCF7/4 (54).png', 'drive/My Drive/tdata/MCF7/4 (8).png', 'drive/My Drive/tdata/MCF7/4 (6).png', 'drive/My Drive/tdata/MCF7/4 (55).png', 'drive/My Drive/tdata/MCF7/4 (7).png', 'drive/My Drive/tdata/MCF7/4 (9).png', 'drive/My Drive/tdata/10/1 (1).png', 'drive/My Drive/tdata/10/1 (106).png', 'drive/My Drive/tdata/10/1 (104).png', 'drive/My Drive/tdata/10/1 (10).png', 'drive/My Drive/tdata/10/1 (102).png', 'drive/My Drive/tdata/10/1 (107).png', 'drive/My Drive/tdata/10/1 (100).png', 'drive/My Drive/tdata/10/1 (103).png', 'drive/My Drive/tdata/10/1 (105).png', 'drive/My Drive/tdata/10/1 (101).png', 'drive/My Drive/tdata/10/1 (108).png', 'drive/My Drive/tdata/10/1 (11).png', 'drive/My Drive/tdata/10/1 (111).png', 'drive/My Drive/tdata/10/1 (113).png', 'drive/My Drive/tdata/10/1 (116).png', 'drive/My Drive/tdata/10/1 (110).png', 'drive/My Drive/tdata/10/1 (114).png', 'drive/My Drive/tdata/10/1 (112).png', 'drive/My Drive/tdata/10/1 (115).png', 'drive/My Drive/tdata/10/1 (109).png', 'drive/My Drive/tdata/10/1 (118).png', 'drive/My Drive/tdata/10/1 (117).png', 'drive/My Drive/tdata/10/1 (123).png', 'drive/My Drive/tdata/10/1 (121).png', 'drive/My Drive/tdata/10/1 (120).png', 'drive/My Drive/tdata/10/1 (122).png', 'drive/My Drive/tdata/10/1 (119).png', 'drive/My Drive/tdata/10/1 (124).png', 'drive/My Drive/tdata/10/1 (125).png', 'drive/My Drive/tdata/10/1 (12).png', 'drive/My Drive/tdata/10/1 (126).png', 'drive/My Drive/tdata/10/1 (132).png', 'drive/My Drive/tdata/10/1 (133).png', 'drive/My Drive/tdata/10/1 (127).png', 'drive/My Drive/tdata/10/1 (134).png', 'drive/My Drive/tdata/10/1 (128).png', 'drive/My Drive/tdata/10/1 (130).png', 'drive/My Drive/tdata/10/1 (129).png', 'drive/My Drive/tdata/10/1 (13).png', 'drive/My Drive/tdata/10/1 (131).png', 'drive/My Drive/tdata/10/1 (135).png', 'drive/My Drive/tdata/10/1 (139).png', 'drive/My Drive/tdata/10/1 (142).png', 'drive/My Drive/tdata/10/1 (138).png', 'drive/My Drive/tdata/10/1 (143).png', 'drive/My Drive/tdata/10/1 (141).png', 'drive/My Drive/tdata/10/1 (137).png', 'drive/My Drive/tdata/10/1 (140).png', 'drive/My Drive/tdata/10/1 (136).png', 'drive/My Drive/tdata/10/1 (14).png', 'drive/My Drive/tdata/10/1 (144).png', 'drive/My Drive/tdata/10/1 (15).png', 'drive/My Drive/tdata/10/1 (148).png', 'drive/My Drive/tdata/10/1 (150).png', 'drive/My Drive/tdata/10/1 (147).png', 'drive/My Drive/tdata/10/1 (146).png', 'drive/My Drive/tdata/10/1 (149).png', 'drive/My Drive/tdata/10/1 (151).png', 'drive/My Drive/tdata/10/1 (145).png', 'drive/My Drive/tdata/10/1 (152).png', 'drive/My Drive/tdata/10/1 (153).png', 'drive/My Drive/tdata/10/1 (155).png', 'drive/My Drive/tdata/10/1 (154).png', 'drive/My Drive/tdata/10/1 (157).png', 'drive/My Drive/tdata/10/1 (160).png', 'drive/My Drive/tdata/10/1 (159).png', 'drive/My Drive/tdata/10/1 (156).png', 'drive/My Drive/tdata/10/1 (158).png', 'drive/My Drive/tdata/10/1 (16).png', 'drive/My Drive/tdata/10/1 (161).png', 'drive/My Drive/tdata/10/1 (162).png', 'drive/My Drive/tdata/10/1 (17).png', 'drive/My Drive/tdata/10/1 (169).png', 'drive/My Drive/tdata/10/1 (164).png', 'drive/My Drive/tdata/10/1 (163).png', 'drive/My Drive/tdata/10/1 (167).png', 'drive/My Drive/tdata/10/1 (166).png', 'drive/My Drive/tdata/10/1 (165).png', 'drive/My Drive/tdata/10/1 (168).png', 'drive/My Drive/tdata/10/1 (170).png', 'drive/My Drive/tdata/10/1 (171).png', 'drive/My Drive/tdata/10/1 (18).png', 'drive/My Drive/tdata/10/1 (173).png', 'drive/My Drive/tdata/10/1 (178).png', 'drive/My Drive/tdata/10/1 (179).png', 'drive/My Drive/tdata/10/1 (177).png', 'drive/My Drive/tdata/10/1 (172).png', 'drive/My Drive/tdata/10/1 (175).png', 'drive/My Drive/tdata/10/1 (176).png', 'drive/My Drive/tdata/10/1 (174).png', 'drive/My Drive/tdata/10/1 (180).png', 'drive/My Drive/tdata/10/1 (187).png', 'drive/My Drive/tdata/10/1 (183).png', 'drive/My Drive/tdata/10/1 (182).png', 'drive/My Drive/tdata/10/1 (184).png', 'drive/My Drive/tdata/10/1 (189).png', 'drive/My Drive/tdata/10/1 (186).png', 'drive/My Drive/tdata/10/1 (188).png', 'drive/My Drive/tdata/10/1 (185).png', 'drive/My Drive/tdata/10/1 (181).png', 'drive/My Drive/tdata/10/1 (19).png', 'drive/My Drive/tdata/10/1 (25).png', 'drive/My Drive/tdata/10/1 (22).png', 'drive/My Drive/tdata/10/1 (23).png', 'drive/My Drive/tdata/10/1 (20).png', 'drive/My Drive/tdata/10/1 (26).png', 'drive/My Drive/tdata/10/1 (24).png', 'drive/My Drive/tdata/10/1 (2).png', 'drive/My Drive/tdata/10/1 (27).png', 'drive/My Drive/tdata/10/1 (21).png', 'drive/My Drive/tdata/10/1 (28).png', 'drive/My Drive/tdata/10/1 (32).png', 'drive/My Drive/tdata/10/1 (33).png', 'drive/My Drive/tdata/10/1 (29).png', 'drive/My Drive/tdata/10/1 (30).png', 'drive/My Drive/tdata/10/1 (36).png', 'drive/My Drive/tdata/10/1 (35).png', 'drive/My Drive/tdata/10/1 (3).png', 'drive/My Drive/tdata/10/1 (34).png', 'drive/My Drive/tdata/10/1 (31).png', 'drive/My Drive/tdata/10/1 (39).png', 'drive/My Drive/tdata/10/1 (44).png', 'drive/My Drive/tdata/10/1 (40).png', 'drive/My Drive/tdata/10/1 (38).png', 'drive/My Drive/tdata/10/1 (37).png', 'drive/My Drive/tdata/10/1 (45).png', 'drive/My Drive/tdata/10/1 (42).png', 'drive/My Drive/tdata/10/1 (41).png', 'drive/My Drive/tdata/10/1 (43).png', 'drive/My Drive/tdata/10/1 (4).png', 'drive/My Drive/tdata/10/1 (46).png', 'drive/My Drive/tdata/10/1 (52).png', 'drive/My Drive/tdata/10/1 (54).png', 'drive/My Drive/tdata/10/1 (50).png', 'drive/My Drive/tdata/10/1 (53).png', 'drive/My Drive/tdata/10/1 (47).png', 'drive/My Drive/tdata/10/1 (51).png', 'drive/My Drive/tdata/10/1 (49).png', 'drive/My Drive/tdata/10/1 (5).png', 'drive/My Drive/tdata/10/1 (48).png', 'drive/My Drive/tdata/10/1 (55).png', 'drive/My Drive/tdata/10/1 (56).png', 'drive/My Drive/tdata/10/1 (60).png', 'drive/My Drive/tdata/10/1 (62).png', 'drive/My Drive/tdata/10/1 (61).png', 'drive/My Drive/tdata/10/1 (6).png', 'drive/My Drive/tdata/10/1 (63).png', 'drive/My Drive/tdata/10/1 (59).png', 'drive/My Drive/tdata/10/1 (58).png', 'drive/My Drive/tdata/10/1 (57).png', 'drive/My Drive/tdata/10/1 (64).png', 'drive/My Drive/tdata/10/1 (66).png', 'drive/My Drive/tdata/10/1 (71).png', 'drive/My Drive/tdata/10/1 (72).png', 'drive/My Drive/tdata/10/1 (68).png', 'drive/My Drive/tdata/10/1 (67).png', 'drive/My Drive/tdata/10/1 (69).png', 'drive/My Drive/tdata/10/1 (7).png', 'drive/My Drive/tdata/10/1 (70).png', 'drive/My Drive/tdata/10/1 (65).png', 'drive/My Drive/tdata/10/1 (73).png', 'drive/My Drive/tdata/10/1 (77).png', 'drive/My Drive/tdata/10/1 (79).png', 'drive/My Drive/tdata/10/1 (74).png', 'drive/My Drive/tdata/10/1 (75).png', 'drive/My Drive/tdata/10/1 (8).png', 'drive/My Drive/tdata/10/1 (81).png', 'drive/My Drive/tdata/10/1 (80).png', 'drive/My Drive/tdata/10/1 (78).png', 'drive/My Drive/tdata/10/1 (76).png', 'drive/My Drive/tdata/10/1 (82).png', 'drive/My Drive/tdata/10/1 (85).png', 'drive/My Drive/tdata/10/1 (83).png', 'drive/My Drive/tdata/10/1 (88).png', 'drive/My Drive/tdata/10/1 (9).png', 'drive/My Drive/tdata/10/1 (87).png', 'drive/My Drive/tdata/10/1 (89).png', 'drive/My Drive/tdata/10/1 (86).png', 'drive/My Drive/tdata/10/1 (84).png', 'drive/My Drive/tdata/10/1 (90).png', 'drive/My Drive/tdata/10/1 (91).png', 'drive/My Drive/tdata/10/1 (99).png', 'drive/My Drive/tdata/10/1 (96).png', 'drive/My Drive/tdata/10/1 (93).png', 'drive/My Drive/tdata/10/1 (98).png', 'drive/My Drive/tdata/10/1 (97).png', 'drive/My Drive/tdata/10/1 (95).png', 'drive/My Drive/tdata/10/1 (92).png', 'drive/My Drive/tdata/10/1 (94).png', 'drive/My Drive/tdata/20/2 (1).png', 'drive/My Drive/tdata/20/2 (10).png', 'drive/My Drive/tdata/20/2 (101).png', 'drive/My Drive/tdata/20/2 (104).png', 'drive/My Drive/tdata/20/2 (105).png', 'drive/My Drive/tdata/20/2 (100).png', 'drive/My Drive/tdata/20/2 (106).png', 'drive/My Drive/tdata/20/2 (103).png', 'drive/My Drive/tdata/20/2 (107).png', 'drive/My Drive/tdata/20/2 (102).png', 'drive/My Drive/tdata/20/2 (108).png', 'drive/My Drive/tdata/20/2 (109).png', 'drive/My Drive/tdata/20/2 (112).png', 'drive/My Drive/tdata/20/2 (111).png', 'drive/My Drive/tdata/20/2 (110).png', 'drive/My Drive/tdata/20/2 (11).png', 'drive/My Drive/tdata/20/2 (114).png', 'drive/My Drive/tdata/20/2 (113).png', 'drive/My Drive/tdata/20/2 (117).png', 'drive/My Drive/tdata/20/2 (116).png', 'drive/My Drive/tdata/20/2 (115).png', 'drive/My Drive/tdata/20/2 (118).png', 'drive/My Drive/tdata/20/2 (12).png', 'drive/My Drive/tdata/20/2 (119).png', 'drive/My Drive/tdata/20/2 (123).png', 'drive/My Drive/tdata/20/2 (122).png', 'drive/My Drive/tdata/20/2 (125).png', 'drive/My Drive/tdata/20/2 (120).png', 'drive/My Drive/tdata/20/2 (124).png', 'drive/My Drive/tdata/20/2 (121).png', 'drive/My Drive/tdata/20/2 (126).png', 'drive/My Drive/tdata/20/2 (127).png', 'drive/My Drive/tdata/20/2 (128).png', 'drive/My Drive/tdata/20/2 (130).png', 'drive/My Drive/tdata/20/2 (134).png', 'drive/My Drive/tdata/20/2 (129).png', 'drive/My Drive/tdata/20/2 (132).png', 'drive/My Drive/tdata/20/2 (13).png', 'drive/My Drive/tdata/20/2 (131).png', 'drive/My Drive/tdata/20/2 (133).png', 'drive/My Drive/tdata/20/2 (135).png', 'drive/My Drive/tdata/20/2 (136).png', 'drive/My Drive/tdata/20/2 (141).png', 'drive/My Drive/tdata/20/2 (140).png', 'drive/My Drive/tdata/20/2 (138).png', 'drive/My Drive/tdata/20/2 (142).png', 'drive/My Drive/tdata/20/2 (143).png', 'drive/My Drive/tdata/20/2 (14).png', 'drive/My Drive/tdata/20/2 (137).png', 'drive/My Drive/tdata/20/2 (144).png', 'drive/My Drive/tdata/20/2 (139).png', 'drive/My Drive/tdata/20/2 (145).png', 'drive/My Drive/tdata/20/2 (153).png', 'drive/My Drive/tdata/20/2 (147).png', 'drive/My Drive/tdata/20/2 (146).png', 'drive/My Drive/tdata/20/2 (150).png', 'drive/My Drive/tdata/20/2 (15).png', 'drive/My Drive/tdata/20/2 (151).png', 'drive/My Drive/tdata/20/2 (149).png', 'drive/My Drive/tdata/20/2 (152).png', 'drive/My Drive/tdata/20/2 (148).png', 'drive/My Drive/tdata/20/2 (154).png', 'drive/My Drive/tdata/20/2 (162).png', 'drive/My Drive/tdata/20/2 (157).png', 'drive/My Drive/tdata/20/2 (158).png', 'drive/My Drive/tdata/20/2 (161).png', 'drive/My Drive/tdata/20/2 (16).png', 'drive/My Drive/tdata/20/2 (159).png', 'drive/My Drive/tdata/20/2 (160).png', 'drive/My Drive/tdata/20/2 (156).png', 'drive/My Drive/tdata/20/2 (155).png', 'drive/My Drive/tdata/20/2 (163).png', 'drive/My Drive/tdata/20/2 (166).png', 'drive/My Drive/tdata/20/2 (169).png', 'drive/My Drive/tdata/20/2 (171).png', 'drive/My Drive/tdata/20/2 (168).png', 'drive/My Drive/tdata/20/2 (17).png', 'drive/My Drive/tdata/20/2 (170).png', 'drive/My Drive/tdata/20/2 (165).png', 'drive/My Drive/tdata/20/2 (164).png', 'drive/My Drive/tdata/20/2 (167).png', 'drive/My Drive/tdata/20/2 (172).png', 'drive/My Drive/tdata/20/2 (176).png', 'drive/My Drive/tdata/20/2 (18).png', 'drive/My Drive/tdata/20/2 (174).png', 'drive/My Drive/tdata/20/2 (173).png', 'drive/My Drive/tdata/20/2 (177).png', 'drive/My Drive/tdata/20/2 (175).png', 'drive/My Drive/tdata/20/2 (180).png', 'drive/My Drive/tdata/20/2 (179).png', 'drive/My Drive/tdata/20/2 (178).png', 'drive/My Drive/tdata/20/2 (181).png', 'drive/My Drive/tdata/20/2 (183).png', 'drive/My Drive/tdata/20/2 (185).png', 'drive/My Drive/tdata/20/2 (189).png', 'drive/My Drive/tdata/20/2 (19).png', 'drive/My Drive/tdata/20/2 (187).png', 'drive/My Drive/tdata/20/2 (188).png', 'drive/My Drive/tdata/20/2 (186).png', 'drive/My Drive/tdata/20/2 (182).png', 'drive/My Drive/tdata/20/2 (184).png', 'drive/My Drive/tdata/20/2 (190).png', 'drive/My Drive/tdata/20/2 (196).png', 'drive/My Drive/tdata/20/2 (195).png', 'drive/My Drive/tdata/20/2 (194).png', 'drive/My Drive/tdata/20/2 (191).png', 'drive/My Drive/tdata/20/2 (197).png', 'drive/My Drive/tdata/20/2 (198).png', 'drive/My Drive/tdata/20/2 (193).png', 'drive/My Drive/tdata/20/2 (199).png', 'drive/My Drive/tdata/20/2 (192).png', 'drive/My Drive/tdata/20/2 (2).png', 'drive/My Drive/tdata/20/2 (204).png', 'drive/My Drive/tdata/20/2 (202).png', 'drive/My Drive/tdata/20/2 (207).png', 'drive/My Drive/tdata/20/2 (20).png', 'drive/My Drive/tdata/20/2 (200).png', 'drive/My Drive/tdata/20/2 (205).png', 'drive/My Drive/tdata/20/2 (203).png', 'drive/My Drive/tdata/20/2 (206).png', 'drive/My Drive/tdata/20/2 (201).png', 'drive/My Drive/tdata/20/2 (208).png', 'drive/My Drive/tdata/20/2 (214).png', 'drive/My Drive/tdata/20/2 (213).png', 'drive/My Drive/tdata/20/2 (215).png', 'drive/My Drive/tdata/20/2 (212).png', 'drive/My Drive/tdata/20/2 (210).png', 'drive/My Drive/tdata/20/2 (216).png', 'drive/My Drive/tdata/20/2 (209).png', 'drive/My Drive/tdata/20/2 (211).png', 'drive/My Drive/tdata/20/2 (21).png', 'drive/My Drive/tdata/20/2 (217).png', 'drive/My Drive/tdata/20/2 (219).png', 'drive/My Drive/tdata/20/2 (223).png', 'drive/My Drive/tdata/20/2 (220).png', 'drive/My Drive/tdata/20/2 (222).png', 'drive/My Drive/tdata/20/2 (221).png', 'drive/My Drive/tdata/20/2 (225).png', 'drive/My Drive/tdata/20/2 (22).png', 'drive/My Drive/tdata/20/2 (218).png', 'drive/My Drive/tdata/20/2 (224).png', 'drive/My Drive/tdata/20/2 (226).png', 'drive/My Drive/tdata/20/2 (232).png', 'drive/My Drive/tdata/20/2 (23).png', 'drive/My Drive/tdata/20/2 (229).png', 'drive/My Drive/tdata/20/2 (230).png', 'drive/My Drive/tdata/20/2 (233).png', 'drive/My Drive/tdata/20/2 (227).png', 'drive/My Drive/tdata/20/2 (228).png', 'drive/My Drive/tdata/20/2 (234).png', 'drive/My Drive/tdata/20/2 (231).png', 'drive/My Drive/tdata/20/2 (235).png', 'drive/My Drive/tdata/20/2 (3).png', 'drive/My Drive/tdata/20/2 (237).png', 'drive/My Drive/tdata/20/2 (24).png', 'drive/My Drive/tdata/20/2 (28).png', 'drive/My Drive/tdata/20/2 (27).png', 'drive/My Drive/tdata/20/2 (236).png', 'drive/My Drive/tdata/20/2 (26).png', 'drive/My Drive/tdata/20/2 (25).png', 'drive/My Drive/tdata/20/2 (29).png', 'drive/My Drive/tdata/20/2 (30).png', 'drive/My Drive/tdata/20/2 (31).png', 'drive/My Drive/tdata/20/2 (35).png', 'drive/My Drive/tdata/20/2 (33).png', 'drive/My Drive/tdata/20/2 (38).png', 'drive/My Drive/tdata/20/2 (36).png', 'drive/My Drive/tdata/20/2 (32).png', 'drive/My Drive/tdata/20/2 (39).png', 'drive/My Drive/tdata/20/2 (37).png', 'drive/My Drive/tdata/20/2 (34).png', 'drive/My Drive/tdata/20/2 (4).png', 'drive/My Drive/tdata/20/2 (47).png', 'drive/My Drive/tdata/20/2 (45).png', 'drive/My Drive/tdata/20/2 (42).png', 'drive/My Drive/tdata/20/2 (43).png', 'drive/My Drive/tdata/20/2 (46).png', 'drive/My Drive/tdata/20/2 (48).png', 'drive/My Drive/tdata/20/2 (40).png', 'drive/My Drive/tdata/20/2 (41).png', 'drive/My Drive/tdata/20/2 (44).png', 'drive/My Drive/tdata/20/2 (49).png', 'drive/My Drive/tdata/20/2 (51).png', 'drive/My Drive/tdata/20/2 (54).png', 'drive/My Drive/tdata/20/2 (53).png', 'drive/My Drive/tdata/20/2 (50).png', 'drive/My Drive/tdata/20/2 (55).png', 'drive/My Drive/tdata/20/2 (57).png', 'drive/My Drive/tdata/20/2 (5).png', 'drive/My Drive/tdata/20/2 (56).png', 'drive/My Drive/tdata/20/2 (52).png', 'drive/My Drive/tdata/20/2 (58).png', 'drive/My Drive/tdata/20/2 (62).png', 'drive/My Drive/tdata/20/2 (61).png', 'drive/My Drive/tdata/20/2 (64).png', 'drive/My Drive/tdata/20/2 (6).png', 'drive/My Drive/tdata/20/2 (66).png', 'drive/My Drive/tdata/20/2 (60).png', 'drive/My Drive/tdata/20/2 (65).png', 'drive/My Drive/tdata/20/2 (63).png', 'drive/My Drive/tdata/20/2 (59).png', 'drive/My Drive/tdata/20/2 (67).png', 'drive/My Drive/tdata/20/2 (69).png', 'drive/My Drive/tdata/20/2 (72).png', 'drive/My Drive/tdata/20/2 (68).png', 'drive/My Drive/tdata/20/2 (71).png', 'drive/My Drive/tdata/20/2 (70).png', 'drive/My Drive/tdata/20/2 (75).png', 'drive/My Drive/tdata/20/2 (7).png', 'drive/My Drive/tdata/20/2 (74).png', 'drive/My Drive/tdata/20/2 (73).png', 'drive/My Drive/tdata/20/2 (76).png', 'drive/My Drive/tdata/20/2 (79).png', 'drive/My Drive/tdata/20/2 (83).png', 'drive/My Drive/tdata/20/2 (81).png', 'drive/My Drive/tdata/20/2 (8).png', 'drive/My Drive/tdata/20/2 (82).png', 'drive/My Drive/tdata/20/2 (84).png', 'drive/My Drive/tdata/20/2 (80).png', 'drive/My Drive/tdata/20/2 (78).png', 'drive/My Drive/tdata/20/2 (77).png', 'drive/My Drive/tdata/20/2 (85).png', 'drive/My Drive/tdata/20/2 (88).png', 'drive/My Drive/tdata/20/2 (91).png', 'drive/My Drive/tdata/20/2 (92).png', 'drive/My Drive/tdata/20/2 (9).png', 'drive/My Drive/tdata/20/2 (93).png', 'drive/My Drive/tdata/20/2 (90).png', 'drive/My Drive/tdata/20/2 (89).png', 'drive/My Drive/tdata/20/2 (86).png', 'drive/My Drive/tdata/20/2 (87).png', 'drive/My Drive/tdata/20/2 (94).png', 'drive/My Drive/tdata/20/2 (98).png', 'drive/My Drive/tdata/20/2 (99).png', 'drive/My Drive/tdata/20/2 (97).png', 'drive/My Drive/tdata/20/2 (95).png', 'drive/My Drive/tdata/20/2 (96).png', 'drive/My Drive/tdata/cd4/6 (10).png', 'drive/My Drive/tdata/cd4/6 (101).png', 'drive/My Drive/tdata/cd4/6 (1).png', 'drive/My Drive/tdata/cd4/6 (100).png', 'drive/My Drive/tdata/cd4/6 (102).png', 'drive/My Drive/tdata/cd4/6 (109).png', 'drive/My Drive/tdata/cd4/6 (11).png', 'drive/My Drive/tdata/cd4/6 (103).png', 'drive/My Drive/tdata/cd4/6 (106).png', 'drive/My Drive/tdata/cd4/6 (107).png', 'drive/My Drive/tdata/cd4/6 (108).png', 'drive/My Drive/tdata/cd4/6 (104).png', 'drive/My Drive/tdata/cd4/6 (105).png', 'drive/My Drive/tdata/cd4/6 (110).png', 'drive/My Drive/tdata/cd4/6 (111).png', 'drive/My Drive/tdata/cd4/6 (115).png', 'drive/My Drive/tdata/cd4/6 (114).png', 'drive/My Drive/tdata/cd4/6 (118).png', 'drive/My Drive/tdata/cd4/6 (112).png', 'drive/My Drive/tdata/cd4/6 (117).png', 'drive/My Drive/tdata/cd4/6 (116).png', 'drive/My Drive/tdata/cd4/6 (12).png', 'drive/My Drive/tdata/cd4/6 (113).png', 'drive/My Drive/tdata/cd4/6 (119).png', 'drive/My Drive/tdata/cd4/6 (120).png', 'drive/My Drive/tdata/cd4/6 (123).png', 'drive/My Drive/tdata/cd4/6 (121).png', 'drive/My Drive/tdata/cd4/6 (124).png', 'drive/My Drive/tdata/cd4/6 (122).png', 'drive/My Drive/tdata/cd4/6 (125).png', 'drive/My Drive/tdata/cd4/6 (129).png', 'drive/My Drive/tdata/cd4/6 (128).png', 'drive/My Drive/tdata/cd4/6 (127).png', 'drive/My Drive/tdata/cd4/6 (126).png', 'drive/My Drive/tdata/cd4/6 (13).png', 'drive/My Drive/tdata/cd4/6 (134).png', 'drive/My Drive/tdata/cd4/6 (133).png', 'drive/My Drive/tdata/cd4/6 (138).png', 'drive/My Drive/tdata/cd4/6 (132).png', 'drive/My Drive/tdata/cd4/6 (137).png', 'drive/My Drive/tdata/cd4/6 (131).png', 'drive/My Drive/tdata/cd4/6 (135).png', 'drive/My Drive/tdata/cd4/6 (136).png', 'drive/My Drive/tdata/cd4/6 (130).png', 'drive/My Drive/tdata/cd4/6 (139).png', 'drive/My Drive/tdata/cd4/6 (141).png', 'drive/My Drive/tdata/cd4/6 (143).png', 'drive/My Drive/tdata/cd4/6 (144).png', 'drive/My Drive/tdata/cd4/6 (146).png', 'drive/My Drive/tdata/cd4/6 (145).png', 'drive/My Drive/tdata/cd4/6 (14).png', 'drive/My Drive/tdata/cd4/6 (142).png', 'drive/My Drive/tdata/cd4/6 (147).png', 'drive/My Drive/tdata/cd4/6 (140).png', 'drive/My Drive/tdata/cd4/6 (148).png', 'drive/My Drive/tdata/cd4/6 (15).png', 'drive/My Drive/tdata/cd4/6 (152).png', 'drive/My Drive/tdata/cd4/6 (156).png', 'drive/My Drive/tdata/cd4/6 (150).png', 'drive/My Drive/tdata/cd4/6 (149).png', 'drive/My Drive/tdata/cd4/6 (155).png', 'drive/My Drive/tdata/cd4/6 (153).png', 'drive/My Drive/tdata/cd4/6 (154).png', 'drive/My Drive/tdata/cd4/6 (151).png', 'drive/My Drive/tdata/cd4/6 (157).png', 'drive/My Drive/tdata/cd4/6 (158).png', 'drive/My Drive/tdata/cd4/6 (160).png', 'drive/My Drive/tdata/cd4/6 (164).png', 'drive/My Drive/tdata/cd4/6 (16).png', 'drive/My Drive/tdata/cd4/6 (161).png', 'drive/My Drive/tdata/cd4/6 (165).png', 'drive/My Drive/tdata/cd4/6 (162).png', 'drive/My Drive/tdata/cd4/6 (159).png', 'drive/My Drive/tdata/cd4/6 (163).png', 'drive/My Drive/tdata/cd4/6 (167).png', 'drive/My Drive/tdata/cd4/6 (171).png', 'drive/My Drive/tdata/cd4/6 (168).png', 'drive/My Drive/tdata/cd4/6 (174).png', 'drive/My Drive/tdata/cd4/6 (169).png', 'drive/My Drive/tdata/cd4/6 (166).png', 'drive/My Drive/tdata/cd4/6 (173).png', 'drive/My Drive/tdata/cd4/6 (172).png', 'drive/My Drive/tdata/cd4/6 (170).png', 'drive/My Drive/tdata/cd4/6 (17).png', 'drive/My Drive/tdata/cd4/6 (175).png', 'drive/My Drive/tdata/cd4/6 (182).png', 'drive/My Drive/tdata/cd4/6 (176).png', 'drive/My Drive/tdata/cd4/6 (177).png', 'drive/My Drive/tdata/cd4/6 (18).png', 'drive/My Drive/tdata/cd4/6 (178).png', 'drive/My Drive/tdata/cd4/6 (183).png', 'drive/My Drive/tdata/cd4/6 (179).png', 'drive/My Drive/tdata/cd4/6 (180).png', 'drive/My Drive/tdata/cd4/6 (181).png', 'drive/My Drive/tdata/cd4/6 (184).png', 'drive/My Drive/tdata/cd4/6 (189).png', 'drive/My Drive/tdata/cd4/6 (190).png', 'drive/My Drive/tdata/cd4/6 (191).png', 'drive/My Drive/tdata/cd4/6 (185).png', 'drive/My Drive/tdata/cd4/6 (187).png', 'drive/My Drive/tdata/cd4/6 (19).png', 'drive/My Drive/tdata/cd4/6 (186).png', 'drive/My Drive/tdata/cd4/6 (188).png', 'drive/My Drive/tdata/cd4/6 (192).png', 'drive/My Drive/tdata/cd4/6 (195).png', 'drive/My Drive/tdata/cd4/6 (2).png', 'drive/My Drive/tdata/cd4/6 (20).png', 'drive/My Drive/tdata/cd4/6 (200).png', 'drive/My Drive/tdata/cd4/6 (198).png', 'drive/My Drive/tdata/cd4/6 (199).png', 'drive/My Drive/tdata/cd4/6 (196).png', 'drive/My Drive/tdata/cd4/6 (194).png', 'drive/My Drive/tdata/cd4/6 (197).png', 'drive/My Drive/tdata/cd4/6 (193).png', 'drive/My Drive/tdata/cd4/6 (202).png', 'drive/My Drive/tdata/cd4/6 (203).png', 'drive/My Drive/tdata/cd4/6 (205).png', 'drive/My Drive/tdata/cd4/6 (208).png', 'drive/My Drive/tdata/cd4/6 (209).png', 'drive/My Drive/tdata/cd4/6 (21).png', 'drive/My Drive/tdata/cd4/6 (206).png', 'drive/My Drive/tdata/cd4/6 (204).png', 'drive/My Drive/tdata/cd4/6 (207).png', 'drive/My Drive/tdata/cd4/6 (201).png', 'drive/My Drive/tdata/cd4/6 (211).png', 'drive/My Drive/tdata/cd4/6 (218).png', 'drive/My Drive/tdata/cd4/6 (219).png', 'drive/My Drive/tdata/cd4/6 (215).png', 'drive/My Drive/tdata/cd4/6 (212).png', 'drive/My Drive/tdata/cd4/6 (216).png', 'drive/My Drive/tdata/cd4/6 (213).png', 'drive/My Drive/tdata/cd4/6 (214).png', 'drive/My Drive/tdata/cd4/6 (217).png', 'drive/My Drive/tdata/cd4/6 (210).png', 'drive/My Drive/tdata/cd4/6 (22).png', 'drive/My Drive/tdata/cd4/6 (227).png', 'drive/My Drive/tdata/cd4/6 (228).png', 'drive/My Drive/tdata/cd4/6 (220).png', 'drive/My Drive/tdata/cd4/6 (225).png', 'drive/My Drive/tdata/cd4/6 (223).png', 'drive/My Drive/tdata/cd4/6 (222).png', 'drive/My Drive/tdata/cd4/6 (224).png', 'drive/My Drive/tdata/cd4/6 (226).png', 'drive/My Drive/tdata/cd4/6 (221).png', 'drive/My Drive/tdata/cd4/6 (229).png', 'drive/My Drive/tdata/cd4/6 (235).png', 'drive/My Drive/tdata/cd4/6 (231).png', 'drive/My Drive/tdata/cd4/6 (23).png', 'drive/My Drive/tdata/cd4/6 (233).png', 'drive/My Drive/tdata/cd4/6 (237).png', 'drive/My Drive/tdata/cd4/6 (236).png', 'drive/My Drive/tdata/cd4/6 (230).png', 'drive/My Drive/tdata/cd4/6 (232).png', 'drive/My Drive/tdata/cd4/6 (234).png', 'drive/My Drive/tdata/cd4/6 (238).png', 'drive/My Drive/tdata/cd4/6 (245).png', 'drive/My Drive/tdata/cd4/6 (239).png', 'drive/My Drive/tdata/cd4/6 (246).png', 'drive/My Drive/tdata/cd4/6 (242).png', 'drive/My Drive/tdata/cd4/6 (244).png', 'drive/My Drive/tdata/cd4/6 (243).png', 'drive/My Drive/tdata/cd4/6 (240).png', 'drive/My Drive/tdata/cd4/6 (24).png', 'drive/My Drive/tdata/cd4/6 (241).png', 'drive/My Drive/tdata/cd4/6 (247).png', 'drive/My Drive/tdata/cd4/6 (255).png', 'drive/My Drive/tdata/cd4/6 (25).png', 'drive/My Drive/tdata/cd4/6 (249).png', 'drive/My Drive/tdata/cd4/6 (251).png', 'drive/My Drive/tdata/cd4/6 (254).png', 'drive/My Drive/tdata/cd4/6 (248).png', 'drive/My Drive/tdata/cd4/6 (253).png', 'drive/My Drive/tdata/cd4/6 (250).png', 'drive/My Drive/tdata/cd4/6 (252).png', 'drive/My Drive/tdata/cd4/6 (256).png', 'drive/My Drive/tdata/cd4/6 (260).png', 'drive/My Drive/tdata/cd4/6 (262).png', 'drive/My Drive/tdata/cd4/6 (261).png', 'drive/My Drive/tdata/cd4/6 (263).png', 'drive/My Drive/tdata/cd4/6 (258).png', 'drive/My Drive/tdata/cd4/6 (26).png', 'drive/My Drive/tdata/cd4/6 (264).png', 'drive/My Drive/tdata/cd4/6 (257).png', 'drive/My Drive/tdata/cd4/6 (259).png', 'drive/My Drive/tdata/cd4/6 (265).png', 'drive/My Drive/tdata/cd4/6 (268).png', 'drive/My Drive/tdata/cd4/6 (270).png', 'drive/My Drive/tdata/cd4/6 (272).png', 'drive/My Drive/tdata/cd4/6 (267).png', 'drive/My Drive/tdata/cd4/6 (27).png', 'drive/My Drive/tdata/cd4/6 (269).png', 'drive/My Drive/tdata/cd4/6 (271).png', 'drive/My Drive/tdata/cd4/6 (266).png', 'drive/My Drive/tdata/cd4/6 (273).png', 'drive/My Drive/tdata/cd4/6 (274).png', 'drive/My Drive/tdata/cd4/6 (277).png', 'drive/My Drive/tdata/cd4/6 (282).png', 'drive/My Drive/tdata/cd4/6 (280).png', 'drive/My Drive/tdata/cd4/6 (279).png', 'drive/My Drive/tdata/cd4/6 (281).png', 'drive/My Drive/tdata/cd4/6 (275).png', 'drive/My Drive/tdata/cd4/6 (278).png', 'drive/My Drive/tdata/cd4/6 (28).png', 'drive/My Drive/tdata/cd4/6 (276).png', 'drive/My Drive/tdata/cd4/6 (283).png', 'drive/My Drive/tdata/cd4/6 (288).png', 'drive/My Drive/tdata/cd4/6 (286).png', 'drive/My Drive/tdata/cd4/6 (290).png', 'drive/My Drive/tdata/cd4/6 (291).png', 'drive/My Drive/tdata/cd4/6 (284).png', 'drive/My Drive/tdata/cd4/6 (287).png', 'drive/My Drive/tdata/cd4/6 (29).png', 'drive/My Drive/tdata/cd4/6 (289).png', 'drive/My Drive/tdata/cd4/6 (285).png', 'drive/My Drive/tdata/cd4/6 (292).png', 'drive/My Drive/tdata/cd4/6 (298).png', 'drive/My Drive/tdata/cd4/6 (295).png', 'drive/My Drive/tdata/cd4/6 (296).png', 'drive/My Drive/tdata/cd4/6 (297).png', 'drive/My Drive/tdata/cd4/6 (30).png', 'drive/My Drive/tdata/cd4/6 (293).png', 'drive/My Drive/tdata/cd4/6 (299).png', 'drive/My Drive/tdata/cd4/6 (3).png', 'drive/My Drive/tdata/cd4/6 (294).png', 'drive/My Drive/tdata/cd4/6 (300).png', 'drive/My Drive/tdata/cd4/6 (305).png', 'drive/My Drive/tdata/cd4/6 (302).png', 'drive/My Drive/tdata/cd4/6 (304).png', 'drive/My Drive/tdata/cd4/6 (309).png', 'drive/My Drive/tdata/cd4/6 (306).png', 'drive/My Drive/tdata/cd4/6 (301).png', 'drive/My Drive/tdata/cd4/6 (307).png', 'drive/My Drive/tdata/cd4/6 (308).png', 'drive/My Drive/tdata/cd4/6 (303).png', 'drive/My Drive/tdata/cd4/6 (31).png', 'drive/My Drive/tdata/cd4/6 (313).png', 'drive/My Drive/tdata/cd4/6 (318).png', 'drive/My Drive/tdata/cd4/6 (312).png', 'drive/My Drive/tdata/cd4/6 (317).png', 'drive/My Drive/tdata/cd4/6 (310).png', 'drive/My Drive/tdata/cd4/6 (315).png', 'drive/My Drive/tdata/cd4/6 (311).png', 'drive/My Drive/tdata/cd4/6 (316).png', 'drive/My Drive/tdata/cd4/6 (314).png', 'drive/My Drive/tdata/cd4/6 (319).png', 'drive/My Drive/tdata/cd4/6 (325).png', 'drive/My Drive/tdata/cd4/6 (320).png', 'drive/My Drive/tdata/cd4/6 (321).png', 'drive/My Drive/tdata/cd4/6 (323).png', 'drive/My Drive/tdata/cd4/6 (324).png', 'drive/My Drive/tdata/cd4/6 (322).png', 'drive/My Drive/tdata/cd4/6 (326).png', 'drive/My Drive/tdata/cd4/6 (32).png', 'drive/My Drive/tdata/cd4/6 (327).png', 'drive/My Drive/tdata/cd4/6 (328).png', 'drive/My Drive/tdata/cd4/6 (333).png', 'drive/My Drive/tdata/cd4/6 (330).png', 'drive/My Drive/tdata/cd4/6 (329).png', 'drive/My Drive/tdata/cd4/6 (335).png', 'drive/My Drive/tdata/cd4/6 (334).png', 'drive/My Drive/tdata/cd4/6 (332).png', 'drive/My Drive/tdata/cd4/6 (336).png', 'drive/My Drive/tdata/cd4/6 (33).png', 'drive/My Drive/tdata/cd4/6 (331).png', 'drive/My Drive/tdata/cd4/6 (337).png', 'drive/My Drive/tdata/cd4/6 (34).png', 'drive/My Drive/tdata/cd4/6 (345).png', 'drive/My Drive/tdata/cd4/6 (343).png', 'drive/My Drive/tdata/cd4/6 (344).png', 'drive/My Drive/tdata/cd4/6 (340).png', 'drive/My Drive/tdata/cd4/6 (341).png', 'drive/My Drive/tdata/cd4/6 (342).png', 'drive/My Drive/tdata/cd4/6 (339).png', 'drive/My Drive/tdata/cd4/6 (338).png', 'drive/My Drive/tdata/cd4/6 (346).png', 'drive/My Drive/tdata/cd4/6 (347).png', 'drive/My Drive/tdata/cd4/6 (353).png', 'drive/My Drive/tdata/cd4/6 (349).png', 'drive/My Drive/tdata/cd4/6 (348).png', 'drive/My Drive/tdata/cd4/6 (35).png', 'drive/My Drive/tdata/cd4/6 (354).png', 'drive/My Drive/tdata/cd4/6 (351).png', 'drive/My Drive/tdata/cd4/6 (352).png', 'drive/My Drive/tdata/cd4/6 (350).png', 'drive/My Drive/tdata/cd4/6 (355).png', 'drive/My Drive/tdata/cd4/6 (37).png', 'drive/My Drive/tdata/cd4/6 (39).png', 'drive/My Drive/tdata/cd4/6 (36).png', 'drive/My Drive/tdata/cd4/6 (359).png', 'drive/My Drive/tdata/cd4/6 (356).png', 'drive/My Drive/tdata/cd4/6 (38).png', 'drive/My Drive/tdata/cd4/6 (357).png', 'drive/My Drive/tdata/cd4/6 (358).png', 'drive/My Drive/tdata/cd4/6 (4).png', 'drive/My Drive/tdata/cd4/6 (40).png', 'drive/My Drive/tdata/cd4/6 (46).png', 'drive/My Drive/tdata/cd4/6 (49).png', 'drive/My Drive/tdata/cd4/6 (48).png', 'drive/My Drive/tdata/cd4/6 (42).png', 'drive/My Drive/tdata/cd4/6 (44).png', 'drive/My Drive/tdata/cd4/6 (41).png', 'drive/My Drive/tdata/cd4/6 (45).png', 'drive/My Drive/tdata/cd4/6 (47).png', 'drive/My Drive/tdata/cd4/6 (43).png', 'drive/My Drive/tdata/cd4/6 (5).png', 'drive/My Drive/tdata/cd4/6 (50).png', 'drive/My Drive/tdata/cd4/6 (51).png', 'drive/My Drive/tdata/cd4/6 (52).png', 'drive/My Drive/tdata/cd4/6 (55).png', 'drive/My Drive/tdata/cd4/6 (56).png', 'drive/My Drive/tdata/cd4/6 (57).png', 'drive/My Drive/tdata/cd4/6 (58).png', 'drive/My Drive/tdata/cd4/6 (54).png', 'drive/My Drive/tdata/cd4/6 (53).png', 'drive/My Drive/tdata/cd4/6 (59).png', 'drive/My Drive/tdata/cd4/6 (61).png', 'drive/My Drive/tdata/cd4/6 (63).png', 'drive/My Drive/tdata/cd4/6 (67).png', 'drive/My Drive/tdata/cd4/6 (60).png', 'drive/My Drive/tdata/cd4/6 (66).png', 'drive/My Drive/tdata/cd4/6 (62).png', 'drive/My Drive/tdata/cd4/6 (64).png', 'drive/My Drive/tdata/cd4/6 (65).png', 'drive/My Drive/tdata/cd4/6 (6).png', 'drive/My Drive/tdata/cd4/6 (68).png', 'drive/My Drive/tdata/cd4/6 (73).png', 'drive/My Drive/tdata/cd4/6 (74).png', 'drive/My Drive/tdata/cd4/6 (70).png', 'drive/My Drive/tdata/cd4/6 (72).png', 'drive/My Drive/tdata/cd4/6 (7).png', 'drive/My Drive/tdata/cd4/6 (76).png', 'drive/My Drive/tdata/cd4/6 (75).png', 'drive/My Drive/tdata/cd4/6 (69).png', 'drive/My Drive/tdata/cd4/6 (71).png', 'drive/My Drive/tdata/cd4/6 (77).png', 'drive/My Drive/tdata/cd4/6 (82).png', 'drive/My Drive/tdata/cd4/6 (83).png', 'drive/My Drive/tdata/cd4/6 (79).png', 'drive/My Drive/tdata/cd4/6 (84).png', 'drive/My Drive/tdata/cd4/6 (80).png', 'drive/My Drive/tdata/cd4/6 (81).png', 'drive/My Drive/tdata/cd4/6 (78).png', 'drive/My Drive/tdata/cd4/6 (85).png', 'drive/My Drive/tdata/cd4/6 (8).png', 'drive/My Drive/tdata/cd4/6 (86).png', 'drive/My Drive/tdata/cd4/6 (90).png', 'drive/My Drive/tdata/cd4/6 (9).png', 'drive/My Drive/tdata/cd4/6 (93).png', 'drive/My Drive/tdata/cd4/6 (88).png', 'drive/My Drive/tdata/cd4/6 (91).png', 'drive/My Drive/tdata/cd4/6 (92).png', 'drive/My Drive/tdata/cd4/6 (89).png', 'drive/My Drive/tdata/cd4/6 (94).png', 'drive/My Drive/tdata/cd4/6 (87).png', 'drive/My Drive/tdata/cd4/6 (95).png', 'drive/My Drive/tdata/cd4/6 (99).png', 'drive/My Drive/tdata/cd4/6 (97).png', 'drive/My Drive/tdata/cd4/6 (98).png', 'drive/My Drive/tdata/cd4/6 (96).png', 'drive/My Drive/tdata/cd8/7 (100).png', 'drive/My Drive/tdata/cd8/7 (1).png', 'drive/My Drive/tdata/cd8/7 (10).png', 'drive/My Drive/tdata/cd8/7 (102).png', 'drive/My Drive/tdata/cd8/7 (101).png', 'drive/My Drive/tdata/cd8/7 (103).png', 'drive/My Drive/tdata/cd8/7 (104).png', 'drive/My Drive/tdata/cd8/7 (110).png', 'drive/My Drive/tdata/cd8/7 (108).png', 'drive/My Drive/tdata/cd8/7 (107).png', 'drive/My Drive/tdata/cd8/7 (11).png', 'drive/My Drive/tdata/cd8/7 (105).png', 'drive/My Drive/tdata/cd8/7 (109).png', 'drive/My Drive/tdata/cd8/7 (111).png', 'drive/My Drive/tdata/cd8/7 (106).png', 'drive/My Drive/tdata/cd8/7 (112).png', 'drive/My Drive/tdata/cd8/7 (117).png', 'drive/My Drive/tdata/cd8/7 (114).png', 'drive/My Drive/tdata/cd8/7 (116).png', 'drive/My Drive/tdata/cd8/7 (113).png', 'drive/My Drive/tdata/cd8/7 (12).png', 'drive/My Drive/tdata/cd8/7 (115).png', 'drive/My Drive/tdata/cd8/7 (120).png', 'drive/My Drive/tdata/cd8/7 (118).png', 'drive/My Drive/tdata/cd8/7 (119).png', 'drive/My Drive/tdata/cd8/7 (121).png', 'drive/My Drive/tdata/cd8/7 (124).png', 'drive/My Drive/tdata/cd8/7 (123).png', 'drive/My Drive/tdata/cd8/7 (125).png', 'drive/My Drive/tdata/cd8/7 (127).png', 'drive/My Drive/tdata/cd8/7 (128).png', 'drive/My Drive/tdata/cd8/7 (122).png', 'drive/My Drive/tdata/cd8/7 (126).png', 'drive/My Drive/tdata/cd8/7 (129).png', 'drive/My Drive/tdata/cd8/7 (13).png', 'drive/My Drive/tdata/cd8/7 (130).png', 'drive/My Drive/tdata/cd8/7 (139).png', 'drive/My Drive/tdata/cd8/7 (138).png', 'drive/My Drive/tdata/cd8/7 (133).png', 'drive/My Drive/tdata/cd8/7 (132).png', 'drive/My Drive/tdata/cd8/7 (137).png', 'drive/My Drive/tdata/cd8/7 (134).png', 'drive/My Drive/tdata/cd8/7 (135).png', 'drive/My Drive/tdata/cd8/7 (131).png', 'drive/My Drive/tdata/cd8/7 (136).png', 'drive/My Drive/tdata/cd8/7 (14).png', 'drive/My Drive/tdata/cd8/7 (140).png', 'drive/My Drive/tdata/cd8/7 (144).png', 'drive/My Drive/tdata/cd8/7 (142).png', 'drive/My Drive/tdata/cd8/7 (146).png', 'drive/My Drive/tdata/cd8/7 (145).png', 'drive/My Drive/tdata/cd8/7 (141).png', 'drive/My Drive/tdata/cd8/7 (143).png', 'drive/My Drive/tdata/cd8/7 (147).png', 'drive/My Drive/tdata/cd8/7 (148).png', 'drive/My Drive/tdata/cd8/7 (149).png', 'drive/My Drive/tdata/cd8/7 (15).png', 'drive/My Drive/tdata/cd8/7 (150).png', 'drive/My Drive/tdata/cd8/7 (154).png', 'drive/My Drive/tdata/cd8/7 (152).png', 'drive/My Drive/tdata/cd8/7 (151).png', 'drive/My Drive/tdata/cd8/7 (156).png', 'drive/My Drive/tdata/cd8/7 (153).png', 'drive/My Drive/tdata/cd8/7 (155).png', 'drive/My Drive/tdata/cd8/7 (157).png', 'drive/My Drive/tdata/cd8/7 (158).png', 'drive/My Drive/tdata/cd8/7 (160).png', 'drive/My Drive/tdata/cd8/7 (16).png', 'drive/My Drive/tdata/cd8/7 (166).png', 'drive/My Drive/tdata/cd8/7 (162).png', 'drive/My Drive/tdata/cd8/7 (165).png', 'drive/My Drive/tdata/cd8/7 (159).png', 'drive/My Drive/tdata/cd8/7 (164).png', 'drive/My Drive/tdata/cd8/7 (161).png', 'drive/My Drive/tdata/cd8/7 (163).png', 'drive/My Drive/tdata/cd8/7 (167).png', 'drive/My Drive/tdata/cd8/7 (175).png', 'drive/My Drive/tdata/cd8/7 (172).png', 'drive/My Drive/tdata/cd8/7 (171).png', 'drive/My Drive/tdata/cd8/7 (174).png', 'drive/My Drive/tdata/cd8/7 (17).png', 'drive/My Drive/tdata/cd8/7 (170).png', 'drive/My Drive/tdata/cd8/7 (173).png', 'drive/My Drive/tdata/cd8/7 (169).png', 'drive/My Drive/tdata/cd8/7 (168).png', 'drive/My Drive/tdata/cd8/7 (176).png', 'drive/My Drive/tdata/cd8/7 (182).png', 'drive/My Drive/tdata/cd8/7 (181).png', 'drive/My Drive/tdata/cd8/7 (18).png', 'drive/My Drive/tdata/cd8/7 (177).png', 'drive/My Drive/tdata/cd8/7 (180).png', 'drive/My Drive/tdata/cd8/7 (179).png', 'drive/My Drive/tdata/cd8/7 (178).png', 'drive/My Drive/tdata/cd8/7 (183).png', 'drive/My Drive/tdata/cd8/7 (184).png', 'drive/My Drive/tdata/cd8/7 (186).png', 'drive/My Drive/tdata/cd8/7 (187).png', 'drive/My Drive/tdata/cd8/7 (189).png', 'drive/My Drive/tdata/cd8/7 (19).png', 'drive/My Drive/tdata/cd8/7 (191).png', 'drive/My Drive/tdata/cd8/7 (185).png', 'drive/My Drive/tdata/cd8/7 (188).png', 'drive/My Drive/tdata/cd8/7 (192).png', 'drive/My Drive/tdata/cd8/7 (190).png', 'drive/My Drive/tdata/cd8/7 (193).png', 'drive/My Drive/tdata/cd8/7 (194).png', 'drive/My Drive/tdata/cd8/7 (200).png', 'drive/My Drive/tdata/cd8/7 (2).png', 'drive/My Drive/tdata/cd8/7 (20).png', 'drive/My Drive/tdata/cd8/7 (201).png', 'drive/My Drive/tdata/cd8/7 (199).png', 'drive/My Drive/tdata/cd8/7 (197).png', 'drive/My Drive/tdata/cd8/7 (198).png', 'drive/My Drive/tdata/cd8/7 (196).png', 'drive/My Drive/tdata/cd8/7 (195).png', 'drive/My Drive/tdata/cd8/7 (202).png', 'drive/My Drive/tdata/cd8/7 (204).png', 'drive/My Drive/tdata/cd8/7 (210).png', 'drive/My Drive/tdata/cd8/7 (209).png', 'drive/My Drive/tdata/cd8/7 (203).png', 'drive/My Drive/tdata/cd8/7 (208).png', 'drive/My Drive/tdata/cd8/7 (207).png', 'drive/My Drive/tdata/cd8/7 (206).png', 'drive/My Drive/tdata/cd8/7 (205).png', 'drive/My Drive/tdata/cd8/7 (21).png', 'drive/My Drive/tdata/cd8/7 (211).png', 'drive/My Drive/tdata/cd8/7 (213).png', 'drive/My Drive/tdata/cd8/7 (214).png', 'drive/My Drive/tdata/cd8/7 (218).png', 'drive/My Drive/tdata/cd8/7 (217).png', 'drive/My Drive/tdata/cd8/7 (212).png', 'drive/My Drive/tdata/cd8/7 (215).png', 'drive/My Drive/tdata/cd8/7 (22).png', 'drive/My Drive/tdata/cd8/7 (219).png', 'drive/My Drive/tdata/cd8/7 (216).png', 'drive/My Drive/tdata/cd8/7 (220).png', 'drive/My Drive/tdata/cd8/7 (222).png', 'drive/My Drive/tdata/cd8/7 (229).png', 'drive/My Drive/tdata/cd8/7 (225).png', 'drive/My Drive/tdata/cd8/7 (221).png', 'drive/My Drive/tdata/cd8/7 (228).png', 'drive/My Drive/tdata/cd8/7 (226).png', 'drive/My Drive/tdata/cd8/7 (223).png', 'drive/My Drive/tdata/cd8/7 (224).png', 'drive/My Drive/tdata/cd8/7 (227).png', 'drive/My Drive/tdata/cd8/7 (23).png', 'drive/My Drive/tdata/cd8/7 (24).png', 'drive/My Drive/tdata/cd8/7 (235).png', 'drive/My Drive/tdata/cd8/7 (236).png', 'drive/My Drive/tdata/cd8/7 (233).png', 'drive/My Drive/tdata/cd8/7 (232).png', 'drive/My Drive/tdata/cd8/7 (231).png', 'drive/My Drive/tdata/cd8/7 (234).png', 'drive/My Drive/tdata/cd8/7 (230).png', 'drive/My Drive/tdata/cd8/7 (25).png', 'drive/My Drive/tdata/cd8/7 (26).png', 'drive/My Drive/tdata/cd8/7 (3).png', 'drive/My Drive/tdata/cd8/7 (30).png', 'drive/My Drive/tdata/cd8/7 (31).png', 'drive/My Drive/tdata/cd8/7 (27).png', 'drive/My Drive/tdata/cd8/7 (29).png', 'drive/My Drive/tdata/cd8/7 (28).png', 'drive/My Drive/tdata/cd8/7 (33).png', 'drive/My Drive/tdata/cd8/7 (32).png', 'drive/My Drive/tdata/cd8/7 (34).png', 'drive/My Drive/tdata/cd8/7 (35).png', 'drive/My Drive/tdata/cd8/7 (39).png', 'drive/My Drive/tdata/cd8/7 (40).png', 'drive/My Drive/tdata/cd8/7 (41).png', 'drive/My Drive/tdata/cd8/7 (4).png', 'drive/My Drive/tdata/cd8/7 (36).png', 'drive/My Drive/tdata/cd8/7 (42).png', 'drive/My Drive/tdata/cd8/7 (37).png', 'drive/My Drive/tdata/cd8/7 (43).png', 'drive/My Drive/tdata/cd8/7 (38).png', 'drive/My Drive/tdata/cd8/7 (45).png', 'drive/My Drive/tdata/cd8/7 (48).png', 'drive/My Drive/tdata/cd8/7 (44).png', 'drive/My Drive/tdata/cd8/7 (46).png', 'drive/My Drive/tdata/cd8/7 (50).png', 'drive/My Drive/tdata/cd8/7 (52).png', 'drive/My Drive/tdata/cd8/7 (51).png', 'drive/My Drive/tdata/cd8/7 (49).png', 'drive/My Drive/tdata/cd8/7 (5).png', 'drive/My Drive/tdata/cd8/7 (47).png', 'drive/My Drive/tdata/cd8/7 (53).png', 'drive/My Drive/tdata/cd8/7 (57).png', 'drive/My Drive/tdata/cd8/7 (56).png', 'drive/My Drive/tdata/cd8/7 (6).png', 'drive/My Drive/tdata/cd8/7 (61).png', 'drive/My Drive/tdata/cd8/7 (55).png', 'drive/My Drive/tdata/cd8/7 (59).png', 'drive/My Drive/tdata/cd8/7 (58).png', 'drive/My Drive/tdata/cd8/7 (60).png', 'drive/My Drive/tdata/cd8/7 (54).png', 'drive/My Drive/tdata/cd8/7 (62).png', 'drive/My Drive/tdata/cd8/7 (63).png', 'drive/My Drive/tdata/cd8/7 (65).png', 'drive/My Drive/tdata/cd8/7 (70).png', 'drive/My Drive/tdata/cd8/7 (64).png', 'drive/My Drive/tdata/cd8/7 (66).png', 'drive/My Drive/tdata/cd8/7 (69).png', 'drive/My Drive/tdata/cd8/7 (68).png', 'drive/My Drive/tdata/cd8/7 (67).png', 'drive/My Drive/tdata/cd8/7 (7).png', 'drive/My Drive/tdata/cd8/7 (71).png', 'drive/My Drive/tdata/cd8/7 (73).png', 'drive/My Drive/tdata/cd8/7 (79).png', 'drive/My Drive/tdata/cd8/7 (77).png', 'drive/My Drive/tdata/cd8/7 (8).png', 'drive/My Drive/tdata/cd8/7 (78).png', 'drive/My Drive/tdata/cd8/7 (72).png', 'drive/My Drive/tdata/cd8/7 (74).png', 'drive/My Drive/tdata/cd8/7 (75).png', 'drive/My Drive/tdata/cd8/7 (76).png', 'drive/My Drive/tdata/cd8/7 (80).png', 'drive/My Drive/tdata/cd8/7 (84).png', 'drive/My Drive/tdata/cd8/7 (86).png', 'drive/My Drive/tdata/cd8/7 (85).png', 'drive/My Drive/tdata/cd8/7 (88).png', 'drive/My Drive/tdata/cd8/7 (81).png', 'drive/My Drive/tdata/cd8/7 (89).png', 'drive/My Drive/tdata/cd8/7 (87).png', 'drive/My Drive/tdata/cd8/7 (82).png', 'drive/My Drive/tdata/cd8/7 (83).png', 'drive/My Drive/tdata/cd8/7 (9).png', 'drive/My Drive/tdata/cd8/7 (98).png', 'drive/My Drive/tdata/cd8/7 (90).png', 'drive/My Drive/tdata/cd8/7 (94).png', 'drive/My Drive/tdata/cd8/7 (95).png', 'drive/My Drive/tdata/cd8/7 (91).png', 'drive/My Drive/tdata/cd8/7 (92).png', 'drive/My Drive/tdata/cd8/7 (93).png', 'drive/My Drive/tdata/cd8/7 (96).png', 'drive/My Drive/tdata/cd8/7 (97).png', 'drive/My Drive/tdata/cd8/7 (99).png']\n"
          ],
          "name": "stdout"
        }
      ]
    },
    {
      "cell_type": "code",
      "metadata": {
        "id": "I_JXOul-zLXx",
        "outputId": "081bc869-36d6-4054-c294-97d7218a83a4",
        "colab": {
          "base_uri": "https://localhost:8080/",
          "height": 34
        }
      },
      "source": [
        "from keras.datasets import mnist\n",
        "import numpy as np\n",
        "from keras.layers import Input, Dense\n",
        "from keras.models import Model\n",
        "from keras.layers import Input, Dense, Conv2D, MaxPooling2D, UpSampling2D\n",
        "from keras.models import Model\n",
        "from keras import backend as K\n",
        "from keras.callbacks import TensorBoard\n",
        "from keras.models import Sequential\n",
        "from keras.layers import Conv2D, MaxPooling2D\n",
        "from keras.layers import Activation, Dropout, Flatten, Dense\n",
        "import matplotlib.pyplot as plt"
      ],
      "execution_count": null,
      "outputs": [
        {
          "output_type": "stream",
          "text": [
            "Using TensorFlow backend.\n"
          ],
          "name": "stderr"
        }
      ]
    },
    {
      "cell_type": "code",
      "metadata": {
        "id": "JE3D3Weuz4Jz",
        "outputId": "13cf2279-41d1-422a-ce2a-1b2775e6773a",
        "colab": {
          "base_uri": "https://localhost:8080/",
          "height": 34
        }
      },
      "source": [
        "\n",
        "x_train=np.array(noise[:900]).astype('float32')\n",
        "x_test=np.array(train_images[:900]).astype('float32')\n",
        "x_train = np.reshape(x_train, (len(x_train), 44, 44,1))  # adapt this if using `channels_first` image data format\n",
        "x_test = np.reshape(x_test, (len(x_test), 44,44,1))# adapt this if using `channels_first` image data format\n",
        "print(x_train.shape)\n",
        "\n",
        "x_train_noisy = x_train \n",
        "x_test_noisy = x_test"
      ],
      "execution_count": null,
      "outputs": [
        {
          "output_type": "stream",
          "text": [
            "(900, 44, 44, 1)\n"
          ],
          "name": "stdout"
        }
      ]
    },
    {
      "cell_type": "markdown",
      "metadata": {
        "id": "Pn6a6d6ez5cJ"
      },
      "source": [
        "MODEL 1"
      ]
    },
    {
      "cell_type": "code",
      "metadata": {
        "id": "ZOEXrIJjC8DK",
        "outputId": "0f33026a-812e-427f-d7b9-d0623afd2e16",
        "colab": {
          "base_uri": "https://localhost:8080/",
          "height": 768
        }
      },
      "source": [
        "\n",
        "model = Sequential()\n",
        "inp=(44,44,1)\n",
        "model.add(Conv2D(32, (3, 3), input_shape=inp,padding=\"same\"))\n",
        "model.add(Activation('relu'))\n",
        "#model.add(MaxPooling2D(pool_size=(2, 2),padding=\"same\"))\n",
        "model.add(Conv2D(32, (3, 3),padding=\"same\"))\n",
        "model.add(Activation('relu'))\n",
        "#model.add(MaxPooling2D(pool_size=(2, 2),padding=\"same\"))\n",
        "model.add(Conv2D(32, (5, 5),padding=\"same\"))\n",
        "model.add(Activation('relu'))\n",
        "#model.add(UpSampling2D())\n",
        "model.add(Conv2D(1, (1, 1),padding=\"same\"))\n",
        "model.add(Flatten())\n",
        "model.add(Dense(44*44,activation='relu'))\n",
        "model.summary()\n",
        "model.compile(optimizer='adadelta', loss='mean_squared_error',metrics=['accuracy'])\n",
        "\n",
        "model.fit(x_train, x_test,\n",
        "                epochs=1,\n",
        "                batch_size=1,\n",
        "                shuffle=True)\n",
        "decoded_imgs = model.predict(np.array(x_train[901:]))\n",
        "\n"
      ],
      "execution_count": null,
      "outputs": [
        {
          "output_type": "stream",
          "text": [
            "(900, 44, 44, 1)\n",
            "Model: \"sequential_27\"\n",
            "_________________________________________________________________\n",
            "Layer (type)                 Output Shape              Param #   \n",
            "=================================================================\n",
            "conv2d_168 (Conv2D)          (None, 44, 44, 32)        320       \n",
            "_________________________________________________________________\n",
            "activation_142 (Activation)  (None, 44, 44, 32)        0         \n",
            "_________________________________________________________________\n",
            "conv2d_169 (Conv2D)          (None, 44, 44, 32)        9248      \n",
            "_________________________________________________________________\n",
            "activation_143 (Activation)  (None, 44, 44, 32)        0         \n",
            "_________________________________________________________________\n",
            "conv2d_170 (Conv2D)          (None, 44, 44, 32)        25632     \n",
            "_________________________________________________________________\n",
            "activation_144 (Activation)  (None, 44, 44, 32)        0         \n",
            "_________________________________________________________________\n",
            "conv2d_171 (Conv2D)          (None, 44, 44, 1)         33        \n",
            "=================================================================\n",
            "Total params: 35,233\n",
            "Trainable params: 35,233\n",
            "Non-trainable params: 0\n",
            "_________________________________________________________________\n",
            "Epoch 1/10\n",
            "900/900 [==============================] - 12s 13ms/step - loss: 0.0037 - acc: 4.0174e-05\n",
            "Epoch 2/10\n",
            "900/900 [==============================] - 8s 9ms/step - loss: 0.0014 - acc: 4.0174e-05\n",
            "Epoch 3/10\n",
            "900/900 [==============================] - 8s 9ms/step - loss: 0.0011 - acc: 4.0174e-05\n",
            "Epoch 4/10\n",
            "900/900 [==============================] - 7s 8ms/step - loss: 9.3010e-04 - acc: 4.0174e-05\n",
            "Epoch 5/10\n",
            "900/900 [==============================] - 7s 8ms/step - loss: 7.2971e-04 - acc: 4.0174e-05\n",
            "Epoch 6/10\n",
            "900/900 [==============================] - 8s 8ms/step - loss: 7.5876e-04 - acc: 4.0174e-05\n",
            "Epoch 7/10\n",
            "900/900 [==============================] - 8s 9ms/step - loss: 6.9695e-04 - acc: 4.0174e-05\n",
            "Epoch 8/10\n",
            "900/900 [==============================] - 9s 10ms/step - loss: 6.5749e-04 - acc: 4.0174e-05\n",
            "Epoch 9/10\n",
            "900/900 [==============================] - 8s 9ms/step - loss: 6.0239e-04 - acc: 4.0174e-05\n",
            "Epoch 10/10\n",
            "900/900 [==============================] - 8s 9ms/step - loss: 6.0275e-04 - acc: 4.0174e-05\n"
          ],
          "name": "stdout"
        }
      ]
    },
    {
      "cell_type": "code",
      "metadata": {
        "id": "1_Ntkk5iC81z",
        "outputId": "356212a5-aee9-4546-efd7-6e5016f5948a",
        "colab": {
          "base_uri": "https://localhost:8080/",
          "height": 88
        }
      },
      "source": [
        "\n",
        "n = 100\n",
        "decoded_imgs = model.predict(np.reshape(noise[901:], (len(noise[901:]), 44,44,1)))\n",
        "print(x_train.shape)\n",
        "plt.figure(figsize=(20, 4))\n",
        "'''\n",
        "for i in range(n):\n",
        "    plt.figure(figsize=(2,2))\n",
        "    plt.imshow(train_images[901+i].reshape(44,44))\n",
        "    plt.gray()\n",
        "    plt.show()    \n",
        "    plt.figure(figsize=(2,2))\n",
        "    plt.imshow(noise[901+i].reshape(44,44))\n",
        "    plt.gray()\n",
        "    plt.show()\n",
        "    plt.figure(figsize=(2,2))\n",
        "    plt.imshow(decoded_imgs[i].reshape(44, 44))\n",
        "    plt.gray()\n",
        "    plt.show()\n",
        "'''"
      ],
      "execution_count": null,
      "outputs": [
        {
          "output_type": "stream",
          "text": [
            "(900, 44, 44, 1)\n"
          ],
          "name": "stdout"
        },
        {
          "output_type": "execute_result",
          "data": {
            "text/plain": [
              "'\\nfor i in range(n):\\n    plt.figure(figsize=(2,2))\\n    plt.imshow(train_images[901+i].reshape(44,44))\\n    plt.gray()\\n    plt.show()    \\n    plt.figure(figsize=(2,2))\\n    plt.imshow(noise[901+i].reshape(44,44))\\n    plt.gray()\\n    plt.show()\\n    plt.figure(figsize=(2,2))\\n    plt.imshow(decoded_imgs[i].reshape(44, 44))\\n    plt.gray()\\n    plt.show()\\n'"
            ]
          },
          "metadata": {
            "tags": []
          },
          "execution_count": 99
        },
        {
          "output_type": "display_data",
          "data": {
            "text/plain": [
              "<Figure size 1440x288 with 0 Axes>"
            ]
          },
          "metadata": {
            "tags": []
          }
        }
      ]
    },
    {
      "cell_type": "code",
      "metadata": {
        "id": "Gzwj0k64ee8Y",
        "outputId": "65ca2669-b5c1-4a16-e880-0105b19f63b0",
        "colab": {
          "base_uri": "https://localhost:8080/",
          "height": 54
        }
      },
      "source": [
        "'''\n",
        "import math\n",
        "import matplotlib.pyplot as pypt\n",
        "def snr(imgarr,noisarr,reconarr):\n",
        "    imgar = []\n",
        "    noisar  = []\n",
        "    reconar = []\n",
        "    snrfinal = []\n",
        "    snr = []\n",
        "    for t in range(imgarr.shape[0]):\n",
        "        imgar = imgarr[t].reshape(44,44)\n",
        "        noisar = noisarr[t].reshape(44,44)\n",
        "        reconar = reconarr[t].reshape(44,44)\n",
        "        avgimg = np.mean(imgar[22][:])\n",
        "        avgnois = np.mean(noisar[22][:])\n",
        "        avgrecon = np.mean(reconar[22][:])\n",
        "        imgstd = np.std(imgar[22][:])\n",
        "        noisstd = np.std(noisar[22][:])\n",
        "        reconstd = np.std(reconar[22][:])\n",
        "        imgabs = np.amax(imgar[22][:]) - np.amin(imgar[22][:])\n",
        "        noisabs = np.amax(noisar[22][:]) - np.amin(noisar[22][:])\n",
        "        reconabs = np.amax(reconar[22][:]) - np.amin(reconar[22][:])\n",
        "        imgsnr = abs((np.amax(imgar[22][:]) - np.amin(imgar[22][:]))/imgstd)\n",
        "        noissnr = abs((np.amax(noisar[22][:]) - np.amin(noisar[22][:]))/noisstd)\n",
        "        reconsnr = abs((np.amax(reconar[22][:]) - np.amin(reconar[22][:]))/reconstd)\n",
        "        snr.append(imgsnr)\n",
        "        snr.append(noissnr)\n",
        "        snr.append(reconsnr)\n",
        "        snrfinal.append(snr)\n",
        "        \n",
        "        pypt.plot(imgar[22])\n",
        "        pypt.show()\n",
        "        pypt.plot(noisar[22])\n",
        "        pypt.show()\n",
        "        pypt.plot(reconar[22])\n",
        "        pypt.show()\n",
        "        \n",
        "        snr = []\n",
        "        imgar = []\n",
        "        noisar  = []\n",
        "        reconar = []\n",
        "    return snrfinal\n",
        "snratio = []\n",
        "snratio = snr(train_images[901:],noise[901:],decoded_imgs)\n",
        "print(\"SNR 1\")\n",
        "print(snratio)\n",
        "def snr2(imgarr,noisarr,reconarr):\n",
        "    imgar = []\n",
        "    noisar  = []\n",
        "    reconar = []\n",
        "    snrfinal = []\n",
        "    snr = []\n",
        "    for t in range(imgarr.shape[0]):\n",
        "        imgar = imgarr[t].reshape(44,44)\n",
        "        noisar = noisarr[t].reshape(44,44)\n",
        "        reconar = reconarr[t].reshape(44,44)\n",
        "        avgimg = np.mean(imgar[22][:])\n",
        "        avgnois = np.mean(noisar[22][:])\n",
        "        avgrecon = np.mean(reconar[22][:])\n",
        "        imgstd = np.std(imgar[22][:])\n",
        "        noisstd = np.std(noisar[22][:])\n",
        "        reconstd = np.std(reconar[22][:])\n",
        "        imgabs = np.amax(imgar[22][:]) - np.amin(imgar[22][:])\n",
        "        noisabs = np.amax(noisar[22][:]) - np.amin(noisar[22][:])\n",
        "        reconabs = np.amax(reconar[22][:]) - np.amin(reconar[22][:])\n",
        "        imgsnr = 10 * math.log(abs((np.amax(imgar[22][:]) - np.amin(imgar[22][:])))/imgstd,10)\n",
        "        noissnr = 10 * math.log(abs((np.amax(noisar[22][:]) - np.amin(noisar[22][:])))/noisstd,10)\n",
        "        reconsnr = 10 * math.log(abs((np.amax(reconar[22][:]) - np.amin(reconar[22][:])))/reconstd,10)\n",
        "        snr.append(imgsnr)\n",
        "        snr.append(noissnr)\n",
        "        snr.append(reconsnr)\n",
        "        snrfinal.append(snr)\n",
        "        \n",
        "        pypt.plot(imgar[22])\n",
        "        pypt.show()\n",
        "        pypt.plot(noisar[22])\n",
        "        pypt.show()\n",
        "        pypt.plot(reconar[22])\n",
        "        pypt.show()\n",
        "        \n",
        "        snr = []\n",
        "        imgar = []\n",
        "        noisar  = []\n",
        "        reconar = []\n",
        "    return snrfinal\n",
        "snratio = []\n",
        "snratio = snr2(train_images[901:],noise[901:],decoded_imgs)\n",
        "print(\"SNR 2\")\n",
        "print(snratio)\n",
        "def snr3(imgarr,noisarr,reconarr):\n",
        "    imgar = []\n",
        "    noisar  = []\n",
        "    reconar = []\n",
        "    snrfinal = []\n",
        "    snr = []\n",
        "    for t in range(imgarr.shape[0]):\n",
        "        imgar = imgarr[t].reshape(44,44)\n",
        "        noisar = noisarr[t].reshape(44,44)\n",
        "        reconar = reconarr[t].reshape(44,44)\n",
        "        avgimg = np.mean(imgar[22][:])\n",
        "        avgnois = np.mean(noisar[22][:])\n",
        "        avgrecon = np.mean(reconar[22][:])\n",
        "        imgstd = np.std(imgar[22][:])\n",
        "        noisstd = np.std(noisar[22][:])\n",
        "        reconstd = np.std(reconar[22][:])\n",
        "        imgabs = np.amax(imgar[22][:]) - np.amin(imgar[22][:])\n",
        "        noisabs = np.amax(noisar[22][:]) - np.amin(noisar[22][:])\n",
        "        reconabs = np.amax(reconar[22][:]) - np.amin(reconar[22][:])\n",
        "        imgsnr = 10 * math.log(abs((np.amax(imgar[22][:]) - np.amin(imgar[22][:])))**2/imgstd**2,10)\n",
        "        noissnr = 10 * math.log(abs((np.amax(noisar[22][:]) - np.amin(noisar[22][:])))**2/noisstd**2,10)\n",
        "        reconsnr = 10 * math.log(abs((np.amax(reconar[22][:]) - np.amin(reconar[22][:])))**2/reconstd**2,10)\n",
        "        snr.append(imgsnr)\n",
        "        snr.append(noissnr)\n",
        "        snr.append(reconsnr)\n",
        "        snrfinal.append(snr)\n",
        "        \n",
        "        pypt.plot(imgar[22])\n",
        "        pypt.show()\n",
        "        pypt.plot(noisar[22])\n",
        "        pypt.show()\n",
        "        pypt.plot(reconar[22])\n",
        "        pypt.show()\n",
        "        \n",
        "        snr = []\n",
        "        imgar = []\n",
        "        noisar  = []\n",
        "        reconar = []\n",
        "    return snrfinal\n",
        "snratio = []\n",
        "snratio = snr3(train_images[901:],noise[901:],decoded_imgs)\n",
        "print(\"SNR 3\")\n",
        "print(snratio)\n",
        "def snr4(imgarr,noisarr,reconarr):\n",
        "    imgar = []\n",
        "    noisar  = []\n",
        "    reconar = []\n",
        "    snrfinal = []\n",
        "    snr = []\n",
        "    for t in range(imgarr.shape[0]):\n",
        "        imgar = imgarr[t].reshape(44,44)\n",
        "        noisar = noisarr[t].reshape(44,44)\n",
        "        reconar = reconarr[t].reshape(44,44)\n",
        "        avgimg = np.mean(imgar[22][:])\n",
        "        avgnois = np.mean(noisar[22][:])\n",
        "        avgrecon = np.mean(reconar[22][:])\n",
        "        imgstd = np.std(imgar[0][:])\n",
        "        noisstd = np.std(noisar[0][:])\n",
        "        reconstd = np.std(reconar[0][:])\n",
        "        imgabs = np.amax(imgar[22][:]) - np.amin(imgar[22][:])\n",
        "        noisabs = np.amax(noisar[22][:]) - np.amin(noisar[22][:])\n",
        "        reconabs = np.amax(reconar[22][:]) - np.amin(reconar[22][:])\n",
        "        imgsnr = abs((np.amax(imgar[22][:]) - np.amin(imgar[22][:]))/imgstd)\n",
        "        noissnr = abs((np.amax(noisar[22][:]) - np.amin(noisar[22][:]))/noisstd)\n",
        "        reconsnr = abs((np.amax(reconar[22][:]) - np.amin(reconar[22][:]))/reconstd)\n",
        "        snr.append(imgsnr)\n",
        "        snr.append(noissnr)\n",
        "        snr.append(reconsnr)\n",
        "        snrfinal.append(snr)\n",
        "        \n",
        "        pypt.plot(imgar[22])\n",
        "        pypt.show()\n",
        "        pypt.plot(noisar[22])\n",
        "        pypt.show()\n",
        "        pypt.plot(reconar[22])\n",
        "        pypt.show()\n",
        "        \n",
        "        snr = []\n",
        "        imgar = []\n",
        "        noisar  = []\n",
        "        reconar = []\n",
        "    return snrfinal\n",
        "snratio = []\n",
        "snratio = snr4(train_images[901:],noise[901:],decoded_imgs)\n",
        "print(\"SNR 4\")\n",
        "print(snratio)\n",
        "'''"
      ],
      "execution_count": null,
      "outputs": [
        {
          "output_type": "execute_result",
          "data": {
            "text/plain": [
              "'\\nimport math\\nimport matplotlib.pyplot as pypt\\ndef snr(imgarr,noisarr,reconarr):\\n    imgar = []\\n    noisar  = []\\n    reconar = []\\n    snrfinal = []\\n    snr = []\\n    for t in range(imgarr.shape[0]):\\n        imgar = imgarr[t].reshape(44,44)\\n        noisar = noisarr[t].reshape(44,44)\\n        reconar = reconarr[t].reshape(44,44)\\n        avgimg = np.mean(imgar[22][:])\\n        avgnois = np.mean(noisar[22][:])\\n        avgrecon = np.mean(reconar[22][:])\\n        imgstd = np.std(imgar[22][:])\\n        noisstd = np.std(noisar[22][:])\\n        reconstd = np.std(reconar[22][:])\\n        imgabs = np.amax(imgar[22][:]) - np.amin(imgar[22][:])\\n        noisabs = np.amax(noisar[22][:]) - np.amin(noisar[22][:])\\n        reconabs = np.amax(reconar[22][:]) - np.amin(reconar[22][:])\\n        imgsnr = abs((np.amax(imgar[22][:]) - np.amin(imgar[22][:]))/imgstd)\\n        noissnr = abs((np.amax(noisar[22][:]) - np.amin(noisar[22][:]))/noisstd)\\n        reconsnr = abs((np.amax(reconar[22][:]) - np.amin(reconar[22][:]))/reconstd)\\n        snr.append(imgsnr)\\n        snr.append(noissnr)\\n        snr.append(reconsnr)\\n        snrfinal.append(snr)\\n        \\n        pypt.plot(imgar[22])\\n        pypt.show()\\n        pypt.plot(noisar[22])\\n        pypt.show()\\n        pypt.plot(reconar[22])\\n        pypt.show()\\n        \\n        snr = []\\n        imgar = []\\n        noisar  = []\\n        reconar = []\\n    return snrfinal\\nsnratio = []\\nsnratio = snr(train_images[901:],noise[901:],decoded_imgs)\\nprint(\"SNR 1\")\\nprint(snratio)\\ndef snr2(imgarr,noisarr,reconarr):\\n    imgar = []\\n    noisar  = []\\n    reconar = []\\n    snrfinal = []\\n    snr = []\\n    for t in range(imgarr.shape[0]):\\n        imgar = imgarr[t].reshape(44,44)\\n        noisar = noisarr[t].reshape(44,44)\\n        reconar = reconarr[t].reshape(44,44)\\n        avgimg = np.mean(imgar[22][:])\\n        avgnois = np.mean(noisar[22][:])\\n        avgrecon = np.mean(reconar[22][:])\\n        imgstd = np.std(imgar[22][:])\\n        noisstd = np.std(noisar[22][:])\\n        reconstd = np.std(reconar[22][:])\\n        imgabs = np.amax(imgar[22][:]) - np.amin(imgar[22][:])\\n        noisabs = np.amax(noisar[22][:]) - np.amin(noisar[22][:])\\n        reconabs = np.amax(reconar[22][:]) - np.amin(reconar[22][:])\\n        imgsnr = 10 * math.log(abs((np.amax(imgar[22][:]) - np.amin(imgar[22][:])))/imgstd,10)\\n        noissnr = 10 * math.log(abs((np.amax(noisar[22][:]) - np.amin(noisar[22][:])))/noisstd,10)\\n        reconsnr = 10 * math.log(abs((np.amax(reconar[22][:]) - np.amin(reconar[22][:])))/reconstd,10)\\n        snr.append(imgsnr)\\n        snr.append(noissnr)\\n        snr.append(reconsnr)\\n        snrfinal.append(snr)\\n        \\n        pypt.plot(imgar[22])\\n        pypt.show()\\n        pypt.plot(noisar[22])\\n        pypt.show()\\n        pypt.plot(reconar[22])\\n        pypt.show()\\n        \\n        snr = []\\n        imgar = []\\n        noisar  = []\\n        reconar = []\\n    return snrfinal\\nsnratio = []\\nsnratio = snr2(train_images[901:],noise[901:],decoded_imgs)\\nprint(\"SNR 2\")\\nprint(snratio)\\ndef snr3(imgarr,noisarr,reconarr):\\n    imgar = []\\n    noisar  = []\\n    reconar = []\\n    snrfinal = []\\n    snr = []\\n    for t in range(imgarr.shape[0]):\\n        imgar = imgarr[t].reshape(44,44)\\n        noisar = noisarr[t].reshape(44,44)\\n        reconar = reconarr[t].reshape(44,44)\\n        avgimg = np.mean(imgar[22][:])\\n        avgnois = np.mean(noisar[22][:])\\n        avgrecon = np.mean(reconar[22][:])\\n        imgstd = np.std(imgar[22][:])\\n        noisstd = np.std(noisar[22][:])\\n        reconstd = np.std(reconar[22][:])\\n        imgabs = np.amax(imgar[22][:]) - np.amin(imgar[22][:])\\n        noisabs = np.amax(noisar[22][:]) - np.amin(noisar[22][:])\\n        reconabs = np.amax(reconar[22][:]) - np.amin(reconar[22][:])\\n        imgsnr = 10 * math.log(abs((np.amax(imgar[22][:]) - np.amin(imgar[22][:])))**2/imgstd**2,10)\\n        noissnr = 10 * math.log(abs((np.amax(noisar[22][:]) - np.amin(noisar[22][:])))**2/noisstd**2,10)\\n        reconsnr = 10 * math.log(abs((np.amax(reconar[22][:]) - np.amin(reconar[22][:])))**2/reconstd**2,10)\\n        snr.append(imgsnr)\\n        snr.append(noissnr)\\n        snr.append(reconsnr)\\n        snrfinal.append(snr)\\n        \\n        pypt.plot(imgar[22])\\n        pypt.show()\\n        pypt.plot(noisar[22])\\n        pypt.show()\\n        pypt.plot(reconar[22])\\n        pypt.show()\\n        \\n        snr = []\\n        imgar = []\\n        noisar  = []\\n        reconar = []\\n    return snrfinal\\nsnratio = []\\nsnratio = snr3(train_images[901:],noise[901:],decoded_imgs)\\nprint(\"SNR 3\")\\nprint(snratio)\\ndef snr4(imgarr,noisarr,reconarr):\\n    imgar = []\\n    noisar  = []\\n    reconar = []\\n    snrfinal = []\\n    snr = []\\n    for t in range(imgarr.shape[0]):\\n        imgar = imgarr[t].reshape(44,44)\\n        noisar = noisarr[t].reshape(44,44)\\n        reconar = reconarr[t].reshape(44,44)\\n        avgimg = np.mean(imgar[22][:])\\n        avgnois = np.mean(noisar[22][:])\\n        avgrecon = np.mean(reconar[22][:])\\n        imgstd = np.std(imgar[0][:])\\n        noisstd = np.std(noisar[0][:])\\n        reconstd = np.std(reconar[0][:])\\n        imgabs = np.amax(imgar[22][:]) - np.amin(imgar[22][:])\\n        noisabs = np.amax(noisar[22][:]) - np.amin(noisar[22][:])\\n        reconabs = np.amax(reconar[22][:]) - np.amin(reconar[22][:])\\n        imgsnr = abs((np.amax(imgar[22][:]) - np.amin(imgar[22][:]))/imgstd)\\n        noissnr = abs((np.amax(noisar[22][:]) - np.amin(noisar[22][:]))/noisstd)\\n        reconsnr = abs((np.amax(reconar[22][:]) - np.amin(reconar[22][:]))/reconstd)\\n        snr.append(imgsnr)\\n        snr.append(noissnr)\\n        snr.append(reconsnr)\\n        snrfinal.append(snr)\\n        \\n        pypt.plot(imgar[22])\\n        pypt.show()\\n        pypt.plot(noisar[22])\\n        pypt.show()\\n        pypt.plot(reconar[22])\\n        pypt.show()\\n        \\n        snr = []\\n        imgar = []\\n        noisar  = []\\n        reconar = []\\n    return snrfinal\\nsnratio = []\\nsnratio = snr4(train_images[901:],noise[901:],decoded_imgs)\\nprint(\"SNR 4\")\\nprint(snratio)\\n'"
            ]
          },
          "metadata": {
            "tags": []
          },
          "execution_count": 100
        }
      ]
    },
    {
      "cell_type": "code",
      "metadata": {
        "id": "LyMTulW--cZz",
        "outputId": "095599d3-d1dd-441a-c93f-0e3af1d0c3c0",
        "colab": {
          "base_uri": "https://localhost:8080/",
          "height": 156
        }
      },
      "source": [
        "import math\n",
        "import matplotlib.pyplot as pypt\n",
        "\n",
        "def snr5(imgarr,noisarr,reconarr):\n",
        "    imgar = []\n",
        "    noisar  = []\n",
        "    reconar = []\n",
        "    snrfinal = []\n",
        "    snr = []\n",
        "    a = []\n",
        "    b = []\n",
        "    k = []\n",
        "    l = []\n",
        "    m = []\n",
        "    snrinar = []\n",
        "    snroutar = []\n",
        "    for t in range(imgarr.shape[0]):\n",
        "        imgar = imgarr[t].reshape(44,44)\n",
        "        noisar = noisarr[t].reshape(44,44)\n",
        "        reconar = reconarr[t].reshape(44,44)\n",
        "        k = imgar[22][:]\n",
        "        l = noisar[22][:]\n",
        "        m = reconar[22][:]\n",
        "        a = np.subtract(k,l)\n",
        "        b = np.subtract(k,m)\n",
        "        diff1 = sum(map(lambda i : i * i, a))\n",
        "        diff2 = sum(map(lambda i : i * i, b))\n",
        "        img = sum(map(lambda i: i * i,imgar[22][:]))\n",
        "        snrin =  10 * math.log(img/diff1,10)\n",
        "        snrout =  10 * math.log(img/diff2,10)\n",
        "        snrimp = snrout - snrin\n",
        "        snrfinal.append(snrimp)\n",
        "        snrinar.append(snrin)\n",
        "        snroutar.append(snrout)\n",
        "        '''\n",
        "        pypt.plot(imgar[22])\n",
        "        pypt.show()\n",
        "        pypt.plot(noisar[22])\n",
        "        pypt.show()\n",
        "        pypt.plot(reconar[22])\n",
        "        pypt.show()\n",
        "        '''\n",
        "        snr = []\n",
        "        imgar = []\n",
        "        noisar  = []\n",
        "        reconar = []\n",
        "    return snrfinal,snrinar,snroutar\n",
        "snratio = []\n",
        "snrinar = []\n",
        "snroutar =  []\n",
        "snratio,snrinar,snroutar = snr5(train_images[901:],noise[901:],decoded_imgs)\n",
        "print(\"SNR 5\")\n",
        "print(snratio)\n",
        "print(snrinar)\n",
        "print(snroutar)\n",
        "print(np.mean(snratio))\n",
        "print(np.mean(snrinar))\n",
        "print(np.mean(snroutar))\n",
        "snrtablefinal.append(np.mean(snratio))"
      ],
      "execution_count": null,
      "outputs": [
        {
          "output_type": "stream",
          "text": [
            "SNR 5\n",
            "[5.5696945652916305, 6.264017620985289, 5.17476366412923, 6.986316389895688, 5.2964050911182134, 3.464250293887659, 6.256215075716174, 5.337107342349775, 7.996063186740777, 7.915093129147472, 5.695431301887812, 1.66297612884431, 7.40445513406263, 5.631276388999353, 5.793650164028552, 4.912969306548, 6.61584910248969, 2.45732665393869, 5.840038422146144, 3.4173392356856205, 5.238008529504597, 5.785895731682299, 7.439845922721144, 7.620827665131802, 4.838032152207084, 3.8319936987352996, 7.25817600397669, 6.646264795220652, 4.570240794569415, 8.28451997201254, 3.3865119973743845, 4.462306232372146, 7.315903304181578, 5.404521297698551, 5.121822403114287, 5.923410812983306, 4.300139864405438, 4.621008581108242, 4.408207127726676, 4.554881023478401, 4.161891803301117, 8.149083677770768, 4.802836771162454, 5.419829649752135, 6.534585562732886, 4.275015313450336, 2.6991162232918775, 2.400140805221561, 4.608561943085316, 7.542122941527197, 6.588772677976749, 5.622753357736048, 5.308539285065681, 6.775763084328812, 7.254998918545926, 5.87231990453796, 4.564407051160643, 6.991593209942064, 8.004779707529131, 5.5573519454008, 7.989712319942576, 6.031784085237874, 3.634191826496753, 4.272373641774955, 6.822266535038757, 4.0190662078071995, 5.991377835111518, 6.16432022379108, 3.037775448625407, 5.4996089020221035, 4.590149373121243, 5.179509822253536, 5.98279327705017, 7.288431023618838, 5.689776397237669, 4.875891920640392, 5.495644364017064, 4.788351612381344, 4.363326508101959, 5.847487217918339, 6.56501602350594, 5.442547357567207, 9.820881463620584, 4.568627700498627, 3.4435974843355766, 2.436442151751965, 6.953395489562812, 4.251063781611588, 6.658708736339051, 8.417399188552292, 6.674251178096046, 4.550626659080091, 5.437907934978888, 5.003924377126065, 4.080969015204271, 6.288385723121735, 4.587182380158961, 4.918278524857492, 6.852500755802389, 0.6341656830707585, 7.290956521033653, 5.413645309364885, 4.444237902889601, 5.077877699473969, 4.5255031103083, 6.123859857846732, 5.270586516970209, 3.4020062506215503, 5.570403043561555, 4.318262309877024, 5.8181346365282955]\n",
            "[24.222802919857003, 18.014944033118244, 20.31341704719013, 22.246499768297486, 22.188752090288773, 22.374411968516135, 22.85705857572857, 23.910377325245502, 21.50870805596726, 21.551185429969017, 23.424637030064687, 26.035503681483085, 20.324727951197623, 20.475716694124856, 21.720734131517375, 20.577475824097448, 21.684855308956095, 22.368674798938997, 23.682527527542746, 25.029438947713484, 22.820244243702362, 20.823785604673777, 22.555174341534595, 19.40999400403905, 21.704894444680725, 23.107155018570417, 22.03105051381111, 23.319527757005673, 22.133599016534028, 21.611732424118024, 24.04214301217214, 23.73487496649789, 22.35960312044998, 22.88420441599598, 22.376672685751338, 19.87779741255558, 24.215470305178858, 20.348851273223147, 21.677095898153368, 23.194326231398932, 21.488855446600915, 21.852706108455994, 22.279392386430334, 22.90749334861236, 23.553847687403355, 22.75208332638098, 22.28025799348222, 23.466128640962964, 23.915655905073994, 20.096296834226024, 20.518418449888088, 21.742777005674597, 20.48190218886113, 23.06914572959734, 20.934355108047882, 21.19641748154396, 22.314187748402276, 20.10999190679167, 18.50905946012944, 22.832010511638718, 19.997181735655072, 21.781947613680895, 22.86777218358477, 23.85846564327222, 20.77283448351365, 23.145562911536025, 19.709027069421534, 22.651297780384297, 23.302565216273354, 23.963381677212837, 22.357698663138457, 23.251000069243553, 23.0340678272991, 20.078478502175535, 21.962222370544126, 23.600794850439417, 22.40569741969786, 22.354002764399837, 23.491397346272997, 24.12000390624805, 23.271203028881338, 20.100853678067946, 20.600896494654705, 20.439411765880546, 22.337062467030155, 24.936159353870995, 17.352487348466845, 21.06081049762698, 21.834195890009653, 20.19006337525335, 22.92044913778746, 20.215628472173858, 22.868828087294002, 22.56903292929819, 21.33356161300673, 22.96463616817318, 21.419912414581166, 21.866401238370422, 21.186855242829097, 24.0350854705908, 19.563140977172164, 21.574832307206723, 21.477289569045638, 22.52240122779877, 23.37464535863581, 20.163288226234112, 23.13057336524438, 21.420206274634207, 20.577501671120434, 24.565633258053232, 21.31195759945056]\n",
            "[29.792497485148633, 24.278961654103533, 25.48818071131936, 29.232816158193174, 27.485157181406986, 25.838662262403794, 29.113273651444743, 29.247484667595277, 29.50477124270804, 29.46627855911649, 29.1200683319525, 27.698479810327395, 27.729183085260253, 26.10699308312421, 27.514384295545927, 25.490445130645448, 28.300704411445786, 24.826001452877687, 29.52256594968889, 28.446778183399104, 28.05825277320696, 26.609681336356076, 29.99502026425574, 27.03082166917085, 26.54292659688781, 26.939148717305716, 29.2892265177878, 29.965792552226326, 26.703839811103443, 29.896252396130564, 27.428655009546524, 28.197181198870037, 29.675506424631557, 28.288725713694532, 27.498495088865624, 25.801208225538886, 28.515610169584296, 24.96985985433139, 26.085303025880044, 27.749207254877334, 25.650747249902032, 30.001789786226762, 27.08222915759279, 28.327322998364494, 30.08843325013624, 27.027098639831316, 24.979374216774097, 25.866269446184525, 28.52421784815931, 27.63841977575322, 27.107191127864837, 27.365530363410645, 25.790441473926812, 29.844908813926153, 28.189354026593808, 27.06873738608192, 26.87859479956292, 27.101585116733734, 26.51383916765857, 28.389362457039518, 27.98689405559765, 27.81373169891877, 26.501964010081522, 28.130839285047173, 27.595101018552405, 27.164629119343225, 25.700404904533052, 28.815618004175377, 26.34034066489876, 29.46299057923494, 26.9478480362597, 28.43050989149709, 29.01686110434927, 27.366909525794373, 27.651998767781794, 28.47668677107981, 27.901341783714923, 27.14235437678118, 27.854723854374956, 29.96749112416639, 29.83621905238728, 25.543401035635153, 30.42177795827529, 25.008039466379174, 25.78065995136573, 27.37260150562296, 24.305882838029657, 25.31187427923857, 28.492904626348704, 28.60746256380564, 29.594700315883507, 24.76625513125395, 28.30673602227289, 27.572957306424254, 25.414530628211, 29.253021891294914, 26.007094794740127, 26.784679763227913, 28.039355998631486, 24.66925115366156, 26.854097498205817, 26.988477616571608, 25.92152747193524, 27.60027892727274, 27.90014846894411, 26.287148084080844, 28.40115988221459, 24.822212525255757, 26.14790471468199, 28.883895567930256, 27.130092235978857]\n",
            "5.461652281541653\n",
            "22.044432735229755\n",
            "27.50608501677141\n"
          ],
          "name": "stdout"
        }
      ]
    },
    {
      "cell_type": "markdown",
      "metadata": {
        "id": "rw6BfBjfwgkr"
      },
      "source": [
        "MODEL 2"
      ]
    },
    {
      "cell_type": "code",
      "metadata": {
        "id": "w1pC8Yqxplh1",
        "outputId": "e6513acd-0919-4381-ad9c-5387d667bcbf",
        "colab": {
          "base_uri": "https://localhost:8080/",
          "height": 935
        }
      },
      "source": [
        "model2 = Sequential()\n",
        "inp=(66,66,1)\n",
        "model2.add(Conv2D(32, (3, 3), input_shape=inp,padding=\"same\"))\n",
        "model2.add(Activation('relu'))\n",
        "#model2.add(MaxPooling2D(pool_size=(2, 2),padding=\"same\"))\n",
        "model2.add(Conv2D(32, (3, 3),padding=\"same\"))\n",
        "model2.add(Activation('relu'))\n",
        "#model2.add(MaxPooling2D(pool_size=(2, 2),padding=\"same\"))\n",
        "model2.add(Conv2D(32, (5, 5),padding=\"same\"))\n",
        "model2.add(Activation('relu'))\n",
        "model2.add(Conv2D(32, (5, 5), input_shape=inp,padding=\"same\"))\n",
        "model2.add(Activation('relu'))\n",
        "#model2.add(MaxPooling2D(pool_size=(2, 2),padding=\"same\"))\n",
        "model2.add(Conv2D(32, (7, 7),padding=\"same\"))\n",
        "model2.add(Activation('relu'))\n",
        "#model2.add(MaxPooling2D(pool_size=(2, 2),padding=\"same\"))\n",
        "model2.add(Conv2D(32, (7, 7),padding=\"same\"))\n",
        "model2.add(Activation('relu'))\n",
        "#model2.add(UpSampling2D())\n",
        "model2.add(Conv2D(1, (1, 1),padding=\"same\"))\n",
        "model2.summary()\n",
        "model2.compile(optimizer='adadelta', loss='mean_squared_error',metrics=['accuracy'])\n",
        "\n",
        "model2.fit(x_train, x_test,\n",
        "                epochs=10,\n",
        "                batch_size=1,\n",
        "                shuffle=True)\n",
        "decoded_imgs = model2.predict(x_train[901:])\n",
        "\n"
      ],
      "execution_count": null,
      "outputs": [
        {
          "output_type": "stream",
          "text": [
            "Model: \"sequential_4\"\n",
            "_________________________________________________________________\n",
            "Layer (type)                 Output Shape              Param #   \n",
            "=================================================================\n",
            "conv2d_22 (Conv2D)           (None, 66, 66, 32)        320       \n",
            "_________________________________________________________________\n",
            "activation_19 (Activation)   (None, 66, 66, 32)        0         \n",
            "_________________________________________________________________\n",
            "conv2d_23 (Conv2D)           (None, 66, 66, 32)        9248      \n",
            "_________________________________________________________________\n",
            "activation_20 (Activation)   (None, 66, 66, 32)        0         \n",
            "_________________________________________________________________\n",
            "conv2d_24 (Conv2D)           (None, 66, 66, 32)        25632     \n",
            "_________________________________________________________________\n",
            "activation_21 (Activation)   (None, 66, 66, 32)        0         \n",
            "_________________________________________________________________\n",
            "conv2d_25 (Conv2D)           (None, 66, 66, 32)        25632     \n",
            "_________________________________________________________________\n",
            "activation_22 (Activation)   (None, 66, 66, 32)        0         \n",
            "_________________________________________________________________\n",
            "conv2d_26 (Conv2D)           (None, 66, 66, 32)        50208     \n",
            "_________________________________________________________________\n",
            "activation_23 (Activation)   (None, 66, 66, 32)        0         \n",
            "_________________________________________________________________\n",
            "conv2d_27 (Conv2D)           (None, 66, 66, 32)        50208     \n",
            "_________________________________________________________________\n",
            "activation_24 (Activation)   (None, 66, 66, 32)        0         \n",
            "_________________________________________________________________\n",
            "conv2d_28 (Conv2D)           (None, 66, 66, 1)         33        \n",
            "=================================================================\n",
            "Total params: 161,281\n",
            "Trainable params: 161,281\n",
            "Non-trainable params: 0\n",
            "_________________________________________________________________\n",
            "Epoch 1/10\n",
            "900/900 [==============================] - 11s 12ms/step - loss: 0.0110 - acc: 8.2900e-05\n",
            "Epoch 2/10\n",
            "900/900 [==============================] - 10s 12ms/step - loss: 0.0017 - acc: 1.3264e-04\n",
            "Epoch 3/10\n",
            "900/900 [==============================] - 10s 12ms/step - loss: 0.0013 - acc: 1.3391e-04\n",
            "Epoch 4/10\n",
            "900/900 [==============================] - 10s 12ms/step - loss: 9.4608e-04 - acc: 1.3443e-04\n",
            "Epoch 5/10\n",
            "900/900 [==============================] - 10s 12ms/step - loss: 8.7621e-04 - acc: 1.3443e-04\n",
            "Epoch 6/10\n",
            "900/900 [==============================] - 11s 12ms/step - loss: 7.5633e-04 - acc: 1.3443e-04\n",
            "Epoch 7/10\n",
            "900/900 [==============================] - 10s 12ms/step - loss: 7.4036e-04 - acc: 1.3443e-04\n",
            "Epoch 8/10\n",
            "900/900 [==============================] - 10s 12ms/step - loss: 7.3655e-04 - acc: 1.3443e-04\n",
            "Epoch 9/10\n",
            "900/900 [==============================] - 10s 12ms/step - loss: 6.3830e-04 - acc: 1.3443e-04\n",
            "Epoch 10/10\n",
            "900/900 [==============================] - 11s 12ms/step - loss: 6.5496e-04 - acc: 1.3443e-04\n"
          ],
          "name": "stdout"
        }
      ]
    },
    {
      "cell_type": "code",
      "metadata": {
        "id": "3cXslZJ2plh-",
        "outputId": "1bf64ff6-faae-4506-ffc6-6e362622ae03",
        "colab": {
          "base_uri": "https://localhost:8080/",
          "height": 231
        }
      },
      "source": [
        "n = 100\n",
        "decoded_imgs = model2.predict(np.reshape(noise[901:], (len(noise[901:]), 66,66,1)))\n",
        "print(x_train.shape)\n",
        "plt.figure(figsize=(20, 4))\n",
        "'''\n",
        "for i in range(n):\n",
        "    plt.figure(figsize=(2,2))\n",
        "    plt.imshow(train_images[901+i].reshape(44,44))\n",
        "    plt.gray()\n",
        "    plt.show()    \n",
        "    plt.figure(figsize=(2,2))\n",
        "    plt.imshow(noise[901+i].reshape(44,44))\n",
        "    plt.gray()\n",
        "    plt.show()\n",
        "    plt.figure(figsize=(2,2))\n",
        "    plt.imshow(decoded_imgs[i].reshape(44, 44))\n",
        "    plt.gray()\n",
        "    plt.show()\n",
        "'''"
      ],
      "execution_count": null,
      "outputs": [
        {
          "output_type": "error",
          "ename": "NameError",
          "evalue": "ignored",
          "traceback": [
            "\u001b[0;31m---------------------------------------------------------------------------\u001b[0m",
            "\u001b[0;31mNameError\u001b[0m                                 Traceback (most recent call last)",
            "\u001b[0;32m<ipython-input-10-e84c6e6d2b14>\u001b[0m in \u001b[0;36m<module>\u001b[0;34m()\u001b[0m\n\u001b[1;32m      1\u001b[0m \u001b[0mn\u001b[0m \u001b[0;34m=\u001b[0m \u001b[0;36m100\u001b[0m\u001b[0;34m\u001b[0m\u001b[0;34m\u001b[0m\u001b[0m\n\u001b[0;32m----> 2\u001b[0;31m \u001b[0mdecoded_imgs\u001b[0m \u001b[0;34m=\u001b[0m \u001b[0mmodel2\u001b[0m\u001b[0;34m.\u001b[0m\u001b[0mpredict\u001b[0m\u001b[0;34m(\u001b[0m\u001b[0mnp\u001b[0m\u001b[0;34m.\u001b[0m\u001b[0mreshape\u001b[0m\u001b[0;34m(\u001b[0m\u001b[0mnoise\u001b[0m\u001b[0;34m[\u001b[0m\u001b[0;36m901\u001b[0m\u001b[0;34m:\u001b[0m\u001b[0;34m]\u001b[0m\u001b[0;34m,\u001b[0m \u001b[0;34m(\u001b[0m\u001b[0mlen\u001b[0m\u001b[0;34m(\u001b[0m\u001b[0mnoise\u001b[0m\u001b[0;34m[\u001b[0m\u001b[0;36m901\u001b[0m\u001b[0;34m:\u001b[0m\u001b[0;34m]\u001b[0m\u001b[0;34m)\u001b[0m\u001b[0;34m,\u001b[0m \u001b[0;36m66\u001b[0m\u001b[0;34m,\u001b[0m\u001b[0;36m66\u001b[0m\u001b[0;34m,\u001b[0m\u001b[0;36m1\u001b[0m\u001b[0;34m)\u001b[0m\u001b[0;34m)\u001b[0m\u001b[0;34m)\u001b[0m\u001b[0;34m\u001b[0m\u001b[0;34m\u001b[0m\u001b[0m\n\u001b[0m\u001b[1;32m      3\u001b[0m \u001b[0mprint\u001b[0m\u001b[0;34m(\u001b[0m\u001b[0mx_train\u001b[0m\u001b[0;34m.\u001b[0m\u001b[0mshape\u001b[0m\u001b[0;34m)\u001b[0m\u001b[0;34m\u001b[0m\u001b[0;34m\u001b[0m\u001b[0m\n\u001b[1;32m      4\u001b[0m \u001b[0mplt\u001b[0m\u001b[0;34m.\u001b[0m\u001b[0mfigure\u001b[0m\u001b[0;34m(\u001b[0m\u001b[0mfigsize\u001b[0m\u001b[0;34m=\u001b[0m\u001b[0;34m(\u001b[0m\u001b[0;36m20\u001b[0m\u001b[0;34m,\u001b[0m \u001b[0;36m4\u001b[0m\u001b[0;34m)\u001b[0m\u001b[0;34m)\u001b[0m\u001b[0;34m\u001b[0m\u001b[0;34m\u001b[0m\u001b[0m\n\u001b[1;32m      5\u001b[0m '''\n",
            "\u001b[0;31mNameError\u001b[0m: name 'model2' is not defined"
          ]
        }
      ]
    },
    {
      "cell_type": "code",
      "metadata": {
        "id": "8GjI7hgypliF",
        "outputId": "07c7650f-889d-4d2c-ebe4-225a0b51d6ba",
        "colab": {
          "base_uri": "https://localhost:8080/",
          "height": 156
        }
      },
      "source": [
        "import math\n",
        "import matplotlib.pyplot as pypt\n",
        "def snr5(imgarr,noisarr,reconarr):\n",
        "    imgar = []\n",
        "    noisar  = []\n",
        "    reconar = []\n",
        "    snrfinal = []\n",
        "    snr = []\n",
        "    a = []\n",
        "    b = []\n",
        "    k = []\n",
        "    l = []\n",
        "    m = []\n",
        "    snrinar = []\n",
        "    snroutar = []\n",
        "    for t in range(imgarr.shape[0]):\n",
        "        imgar = imgarr[t].reshape(66,66)\n",
        "        noisar = noisarr[t].reshape(66,66)\n",
        "        reconar = reconarr[t].reshape(66,66)\n",
        "        k = imgar[22][:]\n",
        "        l = noisar[22][:]\n",
        "        m = reconar[22][:]\n",
        "        a = np.subtract(k,l)\n",
        "        b = np.subtract(k,m)\n",
        "        diff1 = sum(map(lambda i : i * i, a))\n",
        "        diff2 = sum(map(lambda i : i * i, b))\n",
        "        img = sum(map(lambda i: i * i,imgar[22][:]))\n",
        "        snrin =  10 * math.log(img/diff1,10)\n",
        "        snrout =  10 * math.log(img/diff2,10)\n",
        "        snrimp = snrout - snrin\n",
        "        snrfinal.append(snrimp)\n",
        "        snrinar.append(snrin)\n",
        "        snroutar.append(snrout)\n",
        "        '''\n",
        "        pypt.plot(imgar[22])\n",
        "        pypt.show()\n",
        "        pypt.plot(noisar[22])\n",
        "        pypt.show()\n",
        "        pypt.plot(reconar[22])\n",
        "        pypt.show()\n",
        "        '''\n",
        "        snr = []\n",
        "        imgar = []\n",
        "        noisar  = []\n",
        "        reconar = []\n",
        "    return snrfinal,snrinar,snroutar\n",
        "snratio = []\n",
        "snrinar = []\n",
        "snroutar =  []\n",
        "snratio,snrinar,snroutar = snr5(train_images[901:],noise[901:],decoded_imgs)\n",
        "print(\"SNR 5\")\n",
        "print(snratio)\n",
        "print(snrinar)\n",
        "print(snroutar)\n",
        "print(np.mean(snratio))\n",
        "print(np.mean(snrinar))\n",
        "print(np.mean(snroutar))\n",
        "snrtablefinal.append(np.mean(snratio))"
      ],
      "execution_count": null,
      "outputs": [
        {
          "output_type": "stream",
          "text": [
            "SNR 5\n",
            "[2.496084137648797, 3.3873538951319766, 1.494705575088588, 7.129432752489393, 6.912481053639805, 3.794020115195238, 5.340305839027902, 3.0707431226518587, 5.392095757529116, 6.0651392004140625, 7.528942650345339, 2.1502672966905507, 6.981082922815762, 4.988544671918081, 6.63749727370946, 4.491601456894429, 8.061438470841885, 5.509579016257135, 7.239626623923407, 4.229862746194197, 4.780968614399864, 5.808395783580913, 3.527543990435877, 3.8838954757909896, 7.557383541872696, 2.062687057925938, 3.4465803459790756, 2.6370676964881383, 5.41265168293728, 6.138469917937616, 6.595073395482501, 6.846067741545564, 3.768312063139266, 5.655199150650663, 5.98556560035421, 5.044732372495293, 6.006782695010138, 5.382257143725798, 3.606580094506146, 5.834812734595882, 1.9164489067320538, 2.6830136278373935, 4.446188998713126, 5.969743839888878, 5.785619523462966, 3.88013213812609, 3.942090636199371, 4.9731115011253735, 3.4616885110996556, 4.386141895533857, 6.083746743256956, 2.0795173117775185, 0.7587970583700319, 1.6606886738726416, 3.191377502792548, 3.519094732884394, 4.170502409590728, 6.5746274938269025, 5.096143409248093, 4.0229944558090835, 0.8425161926713187, 2.8233161239978806, 2.5576685080727657, 3.6186663317737953, 1.434579659277901, 5.1111942883476935, 2.136464836571154, 1.773902799697261, -1.6916779192993125, 3.727309245105733, 3.525883888913434, 5.681294406792031, 3.7323829430540236, 5.146281732650209, 6.0719498054494245, 2.550881747685583, 6.322060520019459, 5.263965805877142, 3.718249208893713, 0.7599348875795613, 2.3713093639373994, 1.9598601036001106, 6.720473063425011, 6.103905504363997, 6.243500556827932, 3.465252760567914, 7.357141338129743, 5.604382799998483, 6.808552609890683, 0.3455655217633513, 6.845862104048674, 1.2580099260427176, 6.159697300163252, 8.508906611483908, 5.860780917212104, 6.7204892517397745, 2.837608909309619, 5.2310053579049125, 7.415981122762908, 3.868624721404373, 4.262474527090301, 5.606364636562937, 2.3525974070817313, 8.757395809813438, 4.38325615596418, 5.480524105432075, 6.9365503179499655, 2.269752040905587, 1.8489904834910504, 5.001211949365928, 3.657141601130604]\n",
            "[24.05101968389817, 25.25608976018445, 19.914983244984164, 20.616694185650537, 20.509035251070756, 23.777541372289544, 19.85962115744935, 23.58105052755425, 24.23754675802345, 22.673803003209553, 23.367595299784387, 24.60067095913231, 23.15051710773815, 21.440942660637965, 23.523007034427287, 23.515796217101745, 22.381458164168848, 19.652384323874525, 22.85707776035077, 23.814342662992452, 20.159392409347237, 23.86920614596699, 19.849314521082626, 23.508236303719446, 20.95663646329224, 21.046922492462606, 23.454497174789633, 21.847222839530552, 20.71878668884338, 23.331153815344948, 22.757142963040394, 20.425424283324595, 20.191325183316458, 23.51473812434883, 24.11898384384706, 21.860231466925217, 24.919336822923448, 20.290761017516736, 23.703270053151336, 22.142373286431116, 18.830136338714208, 26.27674925266602, 23.835659687842266, 23.678528563672327, 22.493697535934402, 23.106380655260455, 22.79242992196526, 19.727442283046468, 25.25604619127793, 22.886926563284593, 22.347406119500448, 19.98829580469336, 25.308649564631533, 23.592482668123317, 23.284217028785868, 21.51647875179393, 24.475991260308593, 23.06099740656979, 21.123507275733555, 23.597351158594, 22.57337471882539, 20.3923534380046, 22.69835876539247, 25.249809217603286, 19.795973803818853, 23.208408910140946, 24.144504398812458, 23.358947816112405, 24.69362058956813, 23.40978176037347, 22.977550251973014, 20.642451338660468, 25.140774394836253, 22.112073847406265, 23.328643846141297, 23.04647888299354, 24.276372523220164, 20.34564392088823, 21.321373309977474, 23.449029465115917, 23.432102367169264, 24.36403944377837, 20.046410350299855, 22.153583498723304, 21.870669685913636, 20.11617970752441, 20.174694941011747, 21.4805066078905, 23.934005072742217, 18.28984421211398, 22.45824065801297, 23.310970068900787, 23.719659614529327, 23.63222514498989, 23.29654837952934, 20.749653192730364, 20.321571165870104, 23.689086629631845, 22.427723901881937, 24.164041716872102, 23.350731363207494, 24.863906810288018, 23.765568672057494, 20.77689318043849, 21.09598094107733, 23.532258358586915, 21.14950636814475, 24.43105240932388, 24.307348763076796, 22.949167795486506, 23.87024064013481]\n",
            "[26.547103821546965, 28.643443655316428, 21.409688820072752, 27.74612693813993, 27.42151630471056, 27.571561487484782, 25.199926996477252, 26.65179365020611, 29.629642515552565, 28.738942203623616, 30.896537950129726, 26.75093825582286, 30.131600030553912, 26.429487332556047, 30.160504308136748, 28.007397673996174, 30.442896635010733, 25.16196334013166, 30.096704384274176, 28.04420540918665, 24.9403610237471, 29.677601929547905, 23.376858511518503, 27.392131779510436, 28.514020005164937, 23.109609550388544, 26.90107752076871, 24.48429053601869, 26.13143837178066, 29.469623733282564, 29.352216358522895, 27.27149202487016, 23.959637246455724, 29.169937274999494, 30.10454944420127, 26.90496383942051, 30.926119517933586, 25.673018161242535, 27.30985014765748, 27.977186021027, 20.746585245446262, 28.959762880503412, 28.281848686555392, 29.648272403561204, 28.279317059397368, 26.986512793386545, 26.734520558164633, 24.70055378417184, 28.717734702377587, 27.27306845881845, 28.431152862757404, 22.06781311647088, 26.067446623001565, 25.25317134199596, 26.475594531578416, 25.035573484678324, 28.64649366989932, 29.635624900396692, 26.219650684981648, 27.620345614403085, 23.41589091149671, 23.215669562002482, 25.256027273465236, 28.86847554937708, 21.230553463096754, 28.31960319848864, 26.280969235383612, 25.132850615809666, 23.001942670268818, 27.137091005479203, 26.503434140886448, 26.3237457454525, 28.873157337890277, 27.258355580056474, 29.40059365159072, 25.597360630679123, 30.598433043239623, 25.60960972676537, 25.039622518871187, 24.208964352695478, 25.803411731106664, 26.32389954737848, 26.766883413724866, 28.2574890030873, 28.11417024274157, 23.581432468092324, 27.53183627914149, 27.084889407888983, 30.7425576826329, 18.63540973387733, 29.304102762061643, 24.568979994943504, 29.87935691469258, 32.1411317564738, 29.157329296741445, 27.470142444470138, 23.159180075179723, 28.920091987536757, 29.843705024644844, 28.032666438276475, 27.613205890297795, 30.470271446850955, 26.118166079139225, 29.534288990251927, 25.47923709704151, 29.01278246401899, 28.086056686094715, 26.700804450229466, 26.156339246567846, 27.950379744852434, 27.527382241265414]\n",
            "4.493995449909045\n",
            "22.58122021556693\n",
            "27.075215665475973\n"
          ],
          "name": "stdout"
        }
      ]
    },
    {
      "cell_type": "markdown",
      "metadata": {
        "id": "U140WobiwcQW"
      },
      "source": [
        "MODEL 3"
      ]
    },
    {
      "cell_type": "code",
      "metadata": {
        "id": "xHyOp_8_weKj",
        "outputId": "118db94b-ac62-4140-a076-8befec2a41e5",
        "colab": {
          "base_uri": "https://localhost:8080/",
          "height": 955
        }
      },
      "source": [
        "model3 = Sequential()\n",
        "inp=(44,44,1)\n",
        "model3.add(Conv2D(32, (3, 3), input_shape=inp,padding=\"same\"))\n",
        "model3.add(Activation('relu'))\n",
        "#model3.add(MaxPooling2D(pool_size=(2, 2),padding=\"same\"))\n",
        "model3.add(Conv2D(32, (3, 3),padding=\"same\"))\n",
        "model3.add(Activation('relu'))\n",
        "#model3.add(MaxPooling2D(pool_size=(2, 2),padding=\"same\"))\n",
        "model3.add(Conv2D(32, (3, 3),padding=\"same\"))\n",
        "model3.add(Activation('relu'))\n",
        "model3.add(Conv2D(32, (5, 5), input_shape=inp,padding=\"same\"))\n",
        "model3.add(Activation('relu'))\n",
        "#model3.add(MaxPooling2D(pool_size=(2, 2),padding=\"same\"))\n",
        "model3.add(Conv2D(32, (5, 5),padding=\"same\"))\n",
        "model3.add(Activation('relu'))\n",
        "#model3.add(MaxPooling2D(pool_size=(2, 2),padding=\"same\"))\n",
        "model3.add(Conv2D(32, (5, 5),padding=\"same\"))\n",
        "model3.add(Activation('relu'))\n",
        "#model3.add(UpSampling2D())\n",
        "model3.add(Conv2D(1, (1, 1),padding=\"same\"))\n",
        "model3.summary()\n",
        "model3.compile(optimizer='adadelta', loss='mean_squared_error',metrics=['accuracy'])\n",
        "\n",
        "model3.fit(x_train, x_test,\n",
        "                epochs=10,\n",
        "                batch_size=1,\n",
        "                shuffle=True)\n",
        "decoded_imgs = model3.predict(x_train[901:])\n",
        "\n"
      ],
      "execution_count": null,
      "outputs": [
        {
          "output_type": "stream",
          "text": [
            "Model: \"sequential_29\"\n",
            "_________________________________________________________________\n",
            "Layer (type)                 Output Shape              Param #   \n",
            "=================================================================\n",
            "conv2d_179 (Conv2D)          (None, 44, 44, 32)        320       \n",
            "_________________________________________________________________\n",
            "activation_151 (Activation)  (None, 44, 44, 32)        0         \n",
            "_________________________________________________________________\n",
            "conv2d_180 (Conv2D)          (None, 44, 44, 32)        9248      \n",
            "_________________________________________________________________\n",
            "activation_152 (Activation)  (None, 44, 44, 32)        0         \n",
            "_________________________________________________________________\n",
            "conv2d_181 (Conv2D)          (None, 44, 44, 32)        9248      \n",
            "_________________________________________________________________\n",
            "activation_153 (Activation)  (None, 44, 44, 32)        0         \n",
            "_________________________________________________________________\n",
            "conv2d_182 (Conv2D)          (None, 44, 44, 32)        25632     \n",
            "_________________________________________________________________\n",
            "activation_154 (Activation)  (None, 44, 44, 32)        0         \n",
            "_________________________________________________________________\n",
            "conv2d_183 (Conv2D)          (None, 44, 44, 32)        25632     \n",
            "_________________________________________________________________\n",
            "activation_155 (Activation)  (None, 44, 44, 32)        0         \n",
            "_________________________________________________________________\n",
            "conv2d_184 (Conv2D)          (None, 44, 44, 32)        25632     \n",
            "_________________________________________________________________\n",
            "activation_156 (Activation)  (None, 44, 44, 32)        0         \n",
            "_________________________________________________________________\n",
            "conv2d_185 (Conv2D)          (None, 44, 44, 1)         33        \n",
            "=================================================================\n",
            "Total params: 95,745\n",
            "Trainable params: 95,745\n",
            "Non-trainable params: 0\n",
            "_________________________________________________________________\n",
            "Epoch 1/10\n",
            "900/900 [==============================] - 15s 17ms/step - loss: 0.0089 - acc: 3.9601e-05\n",
            "Epoch 2/10\n",
            "900/900 [==============================] - 12s 13ms/step - loss: 0.0018 - acc: 4.0174e-05\n",
            "Epoch 3/10\n",
            "900/900 [==============================] - 11s 12ms/step - loss: 0.0012 - acc: 4.0174e-05\n",
            "Epoch 4/10\n",
            "900/900 [==============================] - 11s 12ms/step - loss: 9.2794e-04 - acc: 4.0174e-05\n",
            "Epoch 5/10\n",
            "900/900 [==============================] - 11s 13ms/step - loss: 8.6964e-04 - acc: 4.0174e-05\n",
            "Epoch 6/10\n",
            "900/900 [==============================] - 11s 12ms/step - loss: 7.7907e-04 - acc: 4.0174e-05\n",
            "Epoch 7/10\n",
            "900/900 [==============================] - 11s 12ms/step - loss: 7.9680e-04 - acc: 4.0174e-05\n",
            "Epoch 8/10\n",
            "900/900 [==============================] - 11s 12ms/step - loss: 7.3002e-04 - acc: 4.0174e-05\n",
            "Epoch 9/10\n",
            "900/900 [==============================] - 12s 14ms/step - loss: 7.2348e-04 - acc: 4.0174e-05\n",
            "Epoch 10/10\n",
            "900/900 [==============================] - 11s 12ms/step - loss: 6.7573e-04 - acc: 4.0174e-05\n"
          ],
          "name": "stdout"
        }
      ]
    },
    {
      "cell_type": "code",
      "metadata": {
        "id": "WNL07F5cweKs",
        "outputId": "547f72e8-96d1-4aa7-9b84-431c488146da",
        "colab": {
          "base_uri": "https://localhost:8080/",
          "height": 88
        }
      },
      "source": [
        "n = 100\n",
        "decoded_imgs = model3.predict(np.reshape(noise[901:], (len(noise[901:]), 44,44,1)))\n",
        "print(x_train.shape)\n",
        "plt.figure(figsize=(20, 4))\n",
        "'''\n",
        "for i in range(n):\n",
        "    plt.figure(figsize=(2,2))\n",
        "    plt.imshow(train_images[901+i].reshape(44,44))\n",
        "    plt.gray()\n",
        "    plt.show()    \n",
        "    plt.figure(figsize=(2,2))\n",
        "    plt.imshow(noise[901+i].reshape(44,44))\n",
        "    plt.gray()\n",
        "    plt.show()\n",
        "    plt.figure(figsize=(2,2))\n",
        "    plt.imshow(decoded_imgs[i].reshape(44, 44))\n",
        "    plt.gray()\n",
        "    plt.show()\n",
        "'''"
      ],
      "execution_count": null,
      "outputs": [
        {
          "output_type": "stream",
          "text": [
            "(900, 44, 44, 1)\n"
          ],
          "name": "stdout"
        },
        {
          "output_type": "execute_result",
          "data": {
            "text/plain": [
              "'\\nfor i in range(n):\\n    plt.figure(figsize=(2,2))\\n    plt.imshow(train_images[901+i].reshape(44,44))\\n    plt.gray()\\n    plt.show()    \\n    plt.figure(figsize=(2,2))\\n    plt.imshow(noise[901+i].reshape(44,44))\\n    plt.gray()\\n    plt.show()\\n    plt.figure(figsize=(2,2))\\n    plt.imshow(decoded_imgs[i].reshape(44, 44))\\n    plt.gray()\\n    plt.show()\\n'"
            ]
          },
          "metadata": {
            "tags": []
          },
          "execution_count": 106
        },
        {
          "output_type": "display_data",
          "data": {
            "text/plain": [
              "<Figure size 1440x288 with 0 Axes>"
            ]
          },
          "metadata": {
            "tags": []
          }
        }
      ]
    },
    {
      "cell_type": "code",
      "metadata": {
        "id": "ldyJ7BQSweKu",
        "outputId": "1e960972-c1f4-4c10-f71f-52c292dc5004",
        "colab": {
          "base_uri": "https://localhost:8080/",
          "height": 156
        }
      },
      "source": [
        "import math\n",
        "import matplotlib.pyplot as pypt\n",
        "def snr5(imgarr,noisarr,reconarr):\n",
        "    imgar = []\n",
        "    noisar  = []\n",
        "    reconar = []\n",
        "    snrfinal = []\n",
        "    snr = []\n",
        "    a = []\n",
        "    b = []\n",
        "    k = []\n",
        "    l = []\n",
        "    m = []\n",
        "    snrinar = []\n",
        "    snroutar = []\n",
        "    for t in range(imgarr.shape[0]):\n",
        "        imgar = imgarr[t].reshape(44,44)\n",
        "        noisar = noisarr[t].reshape(44,44)\n",
        "        reconar = reconarr[t].reshape(44,44)\n",
        "        k = imgar[22][:]\n",
        "        l = noisar[22][:]\n",
        "        m = reconar[22][:]\n",
        "        a = np.subtract(k,l)\n",
        "        b = np.subtract(k,m)\n",
        "        diff1 = sum(map(lambda i : i * i, a))\n",
        "        diff2 = sum(map(lambda i : i * i, b))\n",
        "        img = sum(map(lambda i: i * i,imgar[22][:]))\n",
        "        snrin =  10 * math.log(img/diff1,10)\n",
        "        snrout =  10 * math.log(img/diff2,10)\n",
        "        snrimp = snrout - snrin\n",
        "        snrfinal.append(snrimp)\n",
        "        snrinar.append(snrin)\n",
        "        snroutar.append(snrout)\n",
        "        '''\n",
        "        pypt.plot(imgar[22])\n",
        "        pypt.show()\n",
        "        pypt.plot(noisar[22])\n",
        "        pypt.show()\n",
        "        pypt.plot(reconar[22])\n",
        "        pypt.show()\n",
        "        '''\n",
        "        snr = []\n",
        "        imgar = []\n",
        "        noisar  = []\n",
        "        reconar = []\n",
        "    return snrfinal,snrinar,snroutar\n",
        "snratio = []\n",
        "snrinar = []\n",
        "snroutar =  []\n",
        "snratio,snrinar,snroutar = snr5(train_images[901:],noise[901:],decoded_imgs)\n",
        "print(\"SNR 5\")\n",
        "print(snratio)\n",
        "print(snrinar)\n",
        "print(snroutar)\n",
        "print(np.mean(snratio))\n",
        "print(np.mean(snrinar))\n",
        "print(np.mean(snroutar))\n",
        "snrtablefinal.append(np.mean(snratio))"
      ],
      "execution_count": null,
      "outputs": [
        {
          "output_type": "stream",
          "text": [
            "SNR 5\n",
            "[6.281555373617756, 7.382760582676223, 6.299911905177552, 7.4548945128707125, 5.512760083130068, 3.70675817399993, 5.135991295333156, 6.1399184693114215, 7.709799963950012, 8.38540523408669, 6.151642211262047, 1.0280609055925858, 7.098181797490607, 5.932623877899061, 5.592647140246967, 6.255865123457475, 6.867435083040963, 3.301627443498589, 5.413833837249879, 2.7175312255747635, 5.728380193941696, 6.991447533429472, 6.076326919393715, 8.158810883290442, 5.34938957696469, 4.681891855951335, 7.291191338099992, 6.811215060780615, 4.953249959157475, 6.514087574276818, 0.9593448622098606, 5.883143303155062, 5.843409323762543, 5.78648659054792, 5.499439010508695, 7.381529447349674, 3.2483053300727995, 4.29621767562589, 5.290874551732397, 5.859066990945671, 5.0259189246992015, 8.704138173431584, 4.393269203243651, 5.430193649464982, 6.288569098968704, 4.8680678874406915, 3.72658898939644, 1.3785449736618922, 4.480090006166645, 8.311924839460218, 7.807930041208525, 6.107198949529071, 3.7170017308799927, 5.560091054520928, 8.114013508687389, 7.12795242580718, 4.131517643623603, 7.060725037108529, 5.50414981927014, 4.16743230975575, 8.027563278157633, 5.552505886037942, 4.562828341151054, 3.4245845110422977, 7.3794143155764225, 4.453995700072845, 6.815883587920009, 5.178785737327683, 2.979413218257001, 4.388683919792641, 4.596580295407016, 4.7852101698315295, 7.481954696190069, 6.848100219603623, 6.258737983178936, 5.4144990245691496, 6.500506795030905, 5.617405233838969, 4.101537714083474, 5.739512587484008, 4.778162865083409, 4.674676264515174, 9.206284916414589, 5.422394623231316, 4.9732199189536, 3.5612188660624966, 7.808055320149606, 4.526430955264857, 5.889350272836886, 6.269189169351552, 5.170660339884137, 5.877435758055679, 5.747510502106859, 5.3049248661151225, 3.9281744329656014, 6.9216166184244265, 4.456578553960572, 5.438704054531989, 5.946427719115658, 1.167871799226873, 6.9841573315511205, 6.1115678728907845, 3.6551266020956845, 4.911939995454951, 4.761344073236977, 7.0153464075948015, 6.748055900521294, 3.6750125523982895, 5.783050222817291, 3.309429004965555, 6.630909462364745]\n",
            "[24.222802919857003, 18.014944033118244, 20.31341704719013, 22.246499768297486, 22.188752090288773, 22.374411968516135, 22.85705857572857, 23.910377325245502, 21.50870805596726, 21.551185429969017, 23.424637030064687, 26.035503681483085, 20.324727951197623, 20.475716694124856, 21.720734131517375, 20.577475824097448, 21.684855308956095, 22.368674798938997, 23.682527527542746, 25.029438947713484, 22.820244243702362, 20.823785604673777, 22.555174341534595, 19.40999400403905, 21.704894444680725, 23.107155018570417, 22.03105051381111, 23.319527757005673, 22.133599016534028, 21.611732424118024, 24.04214301217214, 23.73487496649789, 22.35960312044998, 22.88420441599598, 22.376672685751338, 19.87779741255558, 24.215470305178858, 20.348851273223147, 21.677095898153368, 23.194326231398932, 21.488855446600915, 21.852706108455994, 22.279392386430334, 22.90749334861236, 23.553847687403355, 22.75208332638098, 22.28025799348222, 23.466128640962964, 23.915655905073994, 20.096296834226024, 20.518418449888088, 21.742777005674597, 20.48190218886113, 23.06914572959734, 20.934355108047882, 21.19641748154396, 22.314187748402276, 20.10999190679167, 18.50905946012944, 22.832010511638718, 19.997181735655072, 21.781947613680895, 22.86777218358477, 23.85846564327222, 20.77283448351365, 23.145562911536025, 19.709027069421534, 22.651297780384297, 23.302565216273354, 23.963381677212837, 22.357698663138457, 23.251000069243553, 23.0340678272991, 20.078478502175535, 21.962222370544126, 23.600794850439417, 22.40569741969786, 22.354002764399837, 23.491397346272997, 24.12000390624805, 23.271203028881338, 20.100853678067946, 20.600896494654705, 20.439411765880546, 22.337062467030155, 24.936159353870995, 17.352487348466845, 21.06081049762698, 21.834195890009653, 20.19006337525335, 22.92044913778746, 20.215628472173858, 22.868828087294002, 22.56903292929819, 21.33356161300673, 22.96463616817318, 21.419912414581166, 21.866401238370422, 21.186855242829097, 24.0350854705908, 19.563140977172164, 21.574832307206723, 21.477289569045638, 22.52240122779877, 23.37464535863581, 20.163288226234112, 23.13057336524438, 21.420206274634207, 20.577501671120434, 24.565633258053232, 21.31195759945056]\n",
            "[30.50435829347476, 25.397704615794467, 26.61332895236768, 29.7013942811682, 27.70151217341884, 26.081170142516065, 27.993049871061725, 30.050295794556924, 29.218508019917273, 29.936590664055707, 29.576279241326734, 27.06356458707567, 27.42290974868823, 26.408340572023917, 27.313381271764342, 26.833340947554923, 28.552290391997058, 25.670302242437586, 29.096361364792624, 27.746970173288247, 28.548624437644058, 27.81523313810325, 28.63150126092831, 27.56880488732949, 27.054284021645415, 27.789046874521752, 29.3222418519111, 30.130742817786288, 27.086848975691503, 28.125819998394842, 25.001487874382, 29.618018269652953, 28.203012444212522, 28.6706910065439, 27.876111696260033, 27.259326859905254, 27.463775635251658, 24.645068948849037, 26.967970449885765, 29.053393222344603, 26.514774371300117, 30.556844281887578, 26.672661589673986, 28.33768699807734, 29.84241678637206, 27.62015121382167, 26.00684698287866, 24.844673614624856, 28.39574591124064, 28.408221673686242, 28.326348491096613, 27.849975955203668, 24.198903919741124, 28.62923678411827, 29.04836861673527, 28.32436990735114, 26.44570539202588, 27.1707169439002, 24.01320927939958, 26.999442821394467, 28.024745013812705, 27.334453499718837, 27.430600524735823, 27.283050154314516, 28.15224879909007, 27.59955861160887, 26.524910657341543, 27.83008351771198, 26.281978434530355, 28.352065597005478, 26.954278958545473, 28.036210239075082, 30.51602252348917, 26.92657872177916, 28.22096035372306, 29.015293875008567, 28.906204214728763, 27.971407998238806, 27.59293506035647, 29.85951649373206, 28.049365893964747, 24.77552994258312, 29.807181411069294, 25.861806389111862, 27.310282385983754, 28.49737821993349, 25.16054266861645, 25.58724145289184, 27.72354616284654, 26.4592525446049, 28.091109477671598, 26.093064230229537, 28.61633858940086, 27.87395779541331, 25.26173604597233, 29.886252786597606, 25.876490968541738, 27.30510529290241, 27.133282961944754, 25.202957269817674, 26.547298308723285, 27.686400180097507, 25.132416171141323, 27.43434122325372, 28.135989431872787, 27.178634633828914, 29.878629265765674, 25.095218827032497, 26.360551893937725, 27.875062263018787, 27.942867061815306]\n",
            "5.546314062555707\n",
            "22.044432735229755\n",
            "27.59074679778546\n"
          ],
          "name": "stdout"
        }
      ]
    },
    {
      "cell_type": "markdown",
      "metadata": {
        "id": "gBgvRmbDw4yo"
      },
      "source": [
        "MODEL 4"
      ]
    },
    {
      "cell_type": "code",
      "metadata": {
        "id": "ug9pb5esw7B7",
        "outputId": "a4b91c50-f9b6-4e3d-ef1c-3367322ca7b6",
        "colab": {
          "base_uri": "https://localhost:8080/",
          "height": 955
        }
      },
      "source": [
        "model4 = Sequential()\n",
        "inp=(44,44,1)\n",
        "model4.add(Conv2D(32, (3, 3), input_shape=inp,padding=\"same\"))\n",
        "model4.add(Activation('relu'))\n",
        "#model4.add(MaxPooling2D(pool_size=(2, 2),padding=\"same\"))\n",
        "model4.add(Conv2D(32, (3, 3),padding=\"same\"))\n",
        "model4.add(Activation('relu'))\n",
        "#model4.add(MaxPooling2D(pool_size=(2, 2),padding=\"same\"))\n",
        "model4.add(Conv2D(32, (3, 3),padding=\"same\"))\n",
        "model4.add(Activation('relu'))\n",
        "model4.add(Conv2D(32, (3, 3), input_shape=inp,padding=\"same\"))\n",
        "model4.add(Activation('relu'))\n",
        "#model4.add(MaxPooling2D(pool_size=(2, 2),padding=\"same\"))\n",
        "model4.add(Conv2D(32, (3, 3),padding=\"same\"))\n",
        "model4.add(Activation('relu'))\n",
        "#model4.add(MaxPooling2D(pool_size=(2, 2),padding=\"same\"))\n",
        "model4.add(Conv2D(32, (3, 3),padding=\"same\"))\n",
        "model4.add(Activation('relu'))\n",
        "#model4.add(UpSampling2D())\n",
        "model4.add(Conv2D(1, (1, 1),padding=\"same\"))\n",
        "model4.summary()\n",
        "model4.compile(optimizer='adadelta', loss='mean_squared_error',metrics=['accuracy'])\n",
        "\n",
        "model4.fit(x_train, x_test,\n",
        "                epochs=10,\n",
        "                batch_size=1,\n",
        "                shuffle=True)\n",
        "decoded_imgs = model4.predict(x_train[901:])\n",
        "\n"
      ],
      "execution_count": null,
      "outputs": [
        {
          "output_type": "stream",
          "text": [
            "Model: \"sequential_30\"\n",
            "_________________________________________________________________\n",
            "Layer (type)                 Output Shape              Param #   \n",
            "=================================================================\n",
            "conv2d_186 (Conv2D)          (None, 44, 44, 32)        320       \n",
            "_________________________________________________________________\n",
            "activation_157 (Activation)  (None, 44, 44, 32)        0         \n",
            "_________________________________________________________________\n",
            "conv2d_187 (Conv2D)          (None, 44, 44, 32)        9248      \n",
            "_________________________________________________________________\n",
            "activation_158 (Activation)  (None, 44, 44, 32)        0         \n",
            "_________________________________________________________________\n",
            "conv2d_188 (Conv2D)          (None, 44, 44, 32)        9248      \n",
            "_________________________________________________________________\n",
            "activation_159 (Activation)  (None, 44, 44, 32)        0         \n",
            "_________________________________________________________________\n",
            "conv2d_189 (Conv2D)          (None, 44, 44, 32)        9248      \n",
            "_________________________________________________________________\n",
            "activation_160 (Activation)  (None, 44, 44, 32)        0         \n",
            "_________________________________________________________________\n",
            "conv2d_190 (Conv2D)          (None, 44, 44, 32)        9248      \n",
            "_________________________________________________________________\n",
            "activation_161 (Activation)  (None, 44, 44, 32)        0         \n",
            "_________________________________________________________________\n",
            "conv2d_191 (Conv2D)          (None, 44, 44, 32)        9248      \n",
            "_________________________________________________________________\n",
            "activation_162 (Activation)  (None, 44, 44, 32)        0         \n",
            "_________________________________________________________________\n",
            "conv2d_192 (Conv2D)          (None, 44, 44, 1)         33        \n",
            "=================================================================\n",
            "Total params: 46,593\n",
            "Trainable params: 46,593\n",
            "Non-trainable params: 0\n",
            "_________________________________________________________________\n",
            "Epoch 1/10\n",
            "900/900 [==============================] - 15s 17ms/step - loss: 0.0065 - acc: 4.0174e-05\n",
            "Epoch 2/10\n",
            "900/900 [==============================] - 10s 11ms/step - loss: 0.0018 - acc: 4.0174e-05\n",
            "Epoch 3/10\n",
            "900/900 [==============================] - 10s 11ms/step - loss: 0.0013 - acc: 4.0174e-05\n",
            "Epoch 4/10\n",
            "900/900 [==============================] - 11s 12ms/step - loss: 0.0010 - acc: 4.0174e-05\n",
            "Epoch 5/10\n",
            "900/900 [==============================] - 10s 12ms/step - loss: 9.3690e-04 - acc: 4.0174e-05\n",
            "Epoch 6/10\n",
            "900/900 [==============================] - 10s 11ms/step - loss: 8.1799e-04 - acc: 4.0174e-05\n",
            "Epoch 7/10\n",
            "900/900 [==============================] - 10s 11ms/step - loss: 7.4322e-04 - acc: 4.0174e-05\n",
            "Epoch 8/10\n",
            "900/900 [==============================] - 10s 12ms/step - loss: 7.1226e-04 - acc: 4.0174e-05\n",
            "Epoch 9/10\n",
            "900/900 [==============================] - 10s 11ms/step - loss: 6.7146e-04 - acc: 4.0174e-05\n",
            "Epoch 10/10\n",
            "900/900 [==============================] - 10s 11ms/step - loss: 6.5110e-04 - acc: 4.0174e-05\n"
          ],
          "name": "stdout"
        }
      ]
    },
    {
      "cell_type": "code",
      "metadata": {
        "id": "5fY_6PcXw7B_",
        "outputId": "c42846a9-a2db-4184-a212-34e56b701d5b",
        "colab": {
          "base_uri": "https://localhost:8080/",
          "height": 88
        }
      },
      "source": [
        "n = 100\n",
        "decoded_imgs = model4.predict(np.reshape(noise[901:], (len(noise[901:]), 44,44,1)))\n",
        "print(x_train.shape)\n",
        "plt.figure(figsize=(20, 4))\n",
        "'''\n",
        "for i in range(n):\n",
        "    plt.figure(figsize=(2,2))\n",
        "    plt.imshow(train_images[901+i].reshape(44,44))\n",
        "    plt.gray()\n",
        "    plt.show()    \n",
        "    plt.figure(figsize=(2,2))\n",
        "    plt.imshow(noise[901+i].reshape(44,44))\n",
        "    plt.gray()\n",
        "    plt.show()\n",
        "    plt.figure(figsize=(2,2))\n",
        "    plt.imshow(decoded_imgs[i].reshape(44, 44))\n",
        "    plt.gray()\n",
        "    plt.show()\n",
        "'''"
      ],
      "execution_count": null,
      "outputs": [
        {
          "output_type": "stream",
          "text": [
            "(900, 44, 44, 1)\n"
          ],
          "name": "stdout"
        },
        {
          "output_type": "execute_result",
          "data": {
            "text/plain": [
              "'\\nfor i in range(n):\\n    plt.figure(figsize=(2,2))\\n    plt.imshow(train_images[901+i].reshape(44,44))\\n    plt.gray()\\n    plt.show()    \\n    plt.figure(figsize=(2,2))\\n    plt.imshow(noise[901+i].reshape(44,44))\\n    plt.gray()\\n    plt.show()\\n    plt.figure(figsize=(2,2))\\n    plt.imshow(decoded_imgs[i].reshape(44, 44))\\n    plt.gray()\\n    plt.show()\\n'"
            ]
          },
          "metadata": {
            "tags": []
          },
          "execution_count": 109
        },
        {
          "output_type": "display_data",
          "data": {
            "text/plain": [
              "<Figure size 1440x288 with 0 Axes>"
            ]
          },
          "metadata": {
            "tags": []
          }
        }
      ]
    },
    {
      "cell_type": "code",
      "metadata": {
        "id": "Mr_DwUbGw7CC",
        "outputId": "e45a75d8-a40f-46b0-a9b2-c3f6afcc1dea",
        "colab": {
          "base_uri": "https://localhost:8080/",
          "height": 156
        }
      },
      "source": [
        "import math\n",
        "import matplotlib.pyplot as pypt\n",
        "def snr5(imgarr,noisarr,reconarr):\n",
        "    imgar = []\n",
        "    noisar  = []\n",
        "    reconar = []\n",
        "    snrfinal = []\n",
        "    snr = []\n",
        "    a = []\n",
        "    b = []\n",
        "    k = []\n",
        "    l = []\n",
        "    m = []\n",
        "    snrinar = []\n",
        "    snroutar = []\n",
        "    for t in range(imgarr.shape[0]):\n",
        "        imgar = imgarr[t].reshape(44,44)\n",
        "        noisar = noisarr[t].reshape(44,44)\n",
        "        reconar = reconarr[t].reshape(44,44)\n",
        "        k = imgar[22][:]\n",
        "        l = noisar[22][:]\n",
        "        m = reconar[22][:]\n",
        "        a = np.subtract(k,l)\n",
        "        b = np.subtract(k,m)\n",
        "        diff1 = sum(map(lambda i : i * i, a))\n",
        "        diff2 = sum(map(lambda i : i * i, b))\n",
        "        img = sum(map(lambda i: i * i,imgar[22][:]))\n",
        "        snrin =  10 * math.log(img/diff1,10)\n",
        "        snrout =  10 * math.log(img/diff2,10)\n",
        "        snrimp = snrout - snrin\n",
        "        snrfinal.append(snrimp)\n",
        "        snrinar.append(snrin)\n",
        "        snroutar.append(snrout)\n",
        "        '''\n",
        "        pypt.plot(imgar[22])\n",
        "        pypt.show()\n",
        "        pypt.plot(noisar[22])\n",
        "        pypt.show()\n",
        "        pypt.plot(reconar[22])\n",
        "        pypt.show()\n",
        "        '''\n",
        "        snr = []\n",
        "        imgar = []\n",
        "        noisar  = []\n",
        "        reconar = []\n",
        "    return snrfinal,snrinar,snroutar\n",
        "snratio = []\n",
        "snrinar = []\n",
        "snroutar =  []\n",
        "snratio,snrinar,snroutar = snr5(train_images[901:],noise[901:],decoded_imgs)\n",
        "print(\"SNR 5\")\n",
        "print(snratio)\n",
        "print(snrinar)\n",
        "print(snroutar)\n",
        "print(np.mean(snratio))\n",
        "print(np.mean(snrinar))\n",
        "print(np.mean(snroutar))\n",
        "snrtablefinal.append(np.mean(snratio))"
      ],
      "execution_count": null,
      "outputs": [
        {
          "output_type": "stream",
          "text": [
            "SNR 5\n",
            "[5.582210129592209, 7.748223823329116, 7.033329144846078, 6.7893511537579165, 6.165306855229268, 5.958808195829366, 4.985983338087234, 5.60684290941386, 9.214136722902026, 6.723074034197161, 5.413064888555837, 2.980231627333339, 8.613540346073101, 5.7088815733747715, 6.651230546780642, 5.102415705214828, 6.814901661139871, 3.2923779259662638, 5.622319083686275, 4.609911790810916, 5.1914652172375355, 6.604034787108819, 6.1022639134710275, 7.965537002839284, 5.675163765971902, 5.188011827940308, 5.760536628282903, 6.75583508981714, 5.104051112435613, 7.183284279685967, 2.9897095775554945, 7.15001754496874, 8.257096546279719, 5.95004085253635, 7.238249684920834, 7.075489058232733, 4.961374164524113, 4.5092587404368345, 5.2829340125106405, 5.8155115333414145, 5.186004963808021, 8.265226408997481, 5.105655385567793, 5.3865747656008445, 4.6277269030290995, 5.2058448498955805, 4.157186405288936, 4.012677597887141, 6.393935447384262, 8.555669051463049, 7.657658552072249, 6.045830039102984, 4.794609233932043, 6.02345721944371, 7.738101044216606, 6.73905586795826, 5.300414062871411, 7.142637238633775, 6.296688962264422, 6.421908264573094, 8.283881263730695, 5.074018375946064, 5.496645273196169, 5.9521710480313565, 6.505471839112818, 3.69216389112432, 6.913871692679741, 4.1362350950387885, 4.351031821905774, 6.659708050004802, 4.3207936270751865, 4.449200740326731, 8.814294426758668, 7.084066830790988, 7.263815656261539, 3.8760168677239903, 5.252022353406659, 6.734667176569573, 4.081689316133399, 8.464436774034219, 6.569809055244679, 4.970362975104123, 9.902667153827203, 5.434273147451663, 3.7462444337097587, 3.280341218099938, 7.607591186266674, 4.839662557730531, 5.520062979066392, 7.710356683282104, 6.044864483519376, 5.654222436731946, 5.196617291829508, 6.324962871684811, 4.074550156397336, 6.929431831836709, 3.2921371637346972, 5.75806927917775, 6.943033412410713, 2.365285134078121, 7.3059928508759455, 5.9974118385495885, 4.62767378230555, 6.353542347885455, 6.435036805790347, 6.703008603237603, 7.099260415330317, 4.110036859632071, 6.9794897583204225, 5.80364242352848, 6.2239881290671875]\n",
            "[24.222802919857003, 18.014944033118244, 20.31341704719013, 22.246499768297486, 22.188752090288773, 22.374411968516135, 22.85705857572857, 23.910377325245502, 21.50870805596726, 21.551185429969017, 23.424637030064687, 26.035503681483085, 20.324727951197623, 20.475716694124856, 21.720734131517375, 20.577475824097448, 21.684855308956095, 22.368674798938997, 23.682527527542746, 25.029438947713484, 22.820244243702362, 20.823785604673777, 22.555174341534595, 19.40999400403905, 21.704894444680725, 23.107155018570417, 22.03105051381111, 23.319527757005673, 22.133599016534028, 21.611732424118024, 24.04214301217214, 23.73487496649789, 22.35960312044998, 22.88420441599598, 22.376672685751338, 19.87779741255558, 24.215470305178858, 20.348851273223147, 21.677095898153368, 23.194326231398932, 21.488855446600915, 21.852706108455994, 22.279392386430334, 22.90749334861236, 23.553847687403355, 22.75208332638098, 22.28025799348222, 23.466128640962964, 23.915655905073994, 20.096296834226024, 20.518418449888088, 21.742777005674597, 20.48190218886113, 23.06914572959734, 20.934355108047882, 21.19641748154396, 22.314187748402276, 20.10999190679167, 18.50905946012944, 22.832010511638718, 19.997181735655072, 21.781947613680895, 22.86777218358477, 23.85846564327222, 20.77283448351365, 23.145562911536025, 19.709027069421534, 22.651297780384297, 23.302565216273354, 23.963381677212837, 22.357698663138457, 23.251000069243553, 23.0340678272991, 20.078478502175535, 21.962222370544126, 23.600794850439417, 22.40569741969786, 22.354002764399837, 23.491397346272997, 24.12000390624805, 23.271203028881338, 20.100853678067946, 20.600896494654705, 20.439411765880546, 22.337062467030155, 24.936159353870995, 17.352487348466845, 21.06081049762698, 21.834195890009653, 20.19006337525335, 22.92044913778746, 20.215628472173858, 22.868828087294002, 22.56903292929819, 21.33356161300673, 22.96463616817318, 21.419912414581166, 21.866401238370422, 21.186855242829097, 24.0350854705908, 19.563140977172164, 21.574832307206723, 21.477289569045638, 22.52240122779877, 23.37464535863581, 20.163288226234112, 23.13057336524438, 21.420206274634207, 20.577501671120434, 24.565633258053232, 21.31195759945056]\n",
            "[29.80501304944921, 25.76316785644736, 27.346746192036207, 29.035850922055403, 28.35405894551804, 28.3332201643455, 27.843041913815803, 29.517220234659362, 30.722844778869288, 28.274259464166178, 28.837701918620525, 29.015735308816424, 28.938268297270724, 26.184598267499627, 28.371964678298017, 25.679891529312275, 28.499756970095966, 25.66105272490526, 29.30484661122902, 29.6393507385244, 28.011709460939898, 27.427820391782596, 28.657438255005623, 27.375531006878333, 27.380058210652628, 28.295166846510725, 27.791587142094013, 30.075362846822813, 27.23765012896964, 28.79501670380399, 27.031852589727634, 30.88489251146663, 30.616699666729698, 28.83424526853233, 29.614922370672172, 26.953286470788314, 29.17684446970297, 24.85811001365998, 26.96002991066401, 29.009837764740347, 26.674860410408936, 30.117932517453475, 27.385047771998128, 28.294068114213204, 28.181574590432454, 27.95792817627656, 26.437444398771156, 27.478806238850105, 30.309591352458256, 28.651965885689073, 28.176077001960337, 27.78860704477758, 25.276511422793174, 29.09260294904105, 28.672456152264488, 27.93547334950222, 27.614601811273687, 27.252629145425445, 24.80574842239386, 29.253918776211812, 28.281062999385767, 26.85596598962696, 28.364417456780938, 29.810636691303575, 27.278306322626467, 26.837726802660345, 26.622898762101276, 26.787532875423086, 27.65359703817913, 30.62308972721764, 26.678492290213644, 27.700200809570283, 31.84836225405777, 27.162545332966523, 29.226038026805664, 27.476811718163408, 27.657719773104517, 29.08866994096941, 27.573086662406396, 32.58444068028227, 29.841012084126017, 25.07121665317207, 30.503563648481908, 25.87368491333221, 26.083306900739913, 28.216500571970933, 24.96007853473352, 25.900473055357512, 27.354258869076045, 27.900420058535452, 28.965313621306837, 25.869850908905804, 28.06544537912351, 28.893995800983, 25.408111769404066, 29.894068000009888, 24.712049578315863, 27.624470517548172, 28.12988865523981, 26.40037060466892, 26.86913382804811, 27.57224414575631, 26.104963351351188, 28.875943575684225, 29.809682164426157, 26.866296829471715, 30.229833780574697, 25.53024313426628, 27.556991429440856, 30.369275681581712, 27.53594572851775]\n",
            "5.942727031042939\n",
            "22.044432735229755\n",
            "27.987159766272693\n"
          ],
          "name": "stdout"
        }
      ]
    },
    {
      "cell_type": "markdown",
      "metadata": {
        "id": "pUp77v0zxLoF"
      },
      "source": [
        "MODEL 5"
      ]
    },
    {
      "cell_type": "code",
      "metadata": {
        "id": "7vkrB2JhxNGS",
        "outputId": "3540224b-c121-4c38-948a-3b4984894639",
        "colab": {
          "base_uri": "https://localhost:8080/",
          "height": 955
        }
      },
      "source": [
        "model5 = Sequential()\n",
        "inp=(44,44,1)\n",
        "model5.add(Conv2D(32, (5, 5), input_shape=inp,padding=\"same\"))\n",
        "model5.add(Activation('relu'))\n",
        "#model5.add(MaxPooling2D(pool_size=(2, 2),padding=\"same\"))\n",
        "model5.add(Conv2D(32, (5, 5),padding=\"same\"))\n",
        "model5.add(Activation('relu'))\n",
        "#model5.add(MaxPooling2D(pool_size=(2, 2),padding=\"same\"))\n",
        "model5.add(Conv2D(32, (5, 5),padding=\"same\"))\n",
        "model5.add(Activation('relu'))\n",
        "model5.add(Conv2D(32, (5, 5), input_shape=inp,padding=\"same\"))\n",
        "model5.add(Activation('relu'))\n",
        "#model5.add(MaxPooling2D(pool_size=(2, 2),padding=\"same\"))\n",
        "model5.add(Conv2D(32, (5, 5),padding=\"same\"))\n",
        "model5.add(Activation('relu'))\n",
        "#model5.add(MaxPooling2D(pool_size=(2, 2),padding=\"same\"))\n",
        "model5.add(Conv2D(32, (5, 5),padding=\"same\"))\n",
        "model5.add(Activation('relu'))\n",
        "#model5.add(UpSampling2D())\n",
        "model5.add(Conv2D(1, (1, 1),padding=\"same\"))\n",
        "model5.summary()\n",
        "model5.compile(optimizer='adadelta', loss='mean_squared_error',metrics=['accuracy'])\n",
        "\n",
        "model5.fit(x_train, x_test,\n",
        "                epochs=10,\n",
        "                batch_size=1,\n",
        "                shuffle=True)\n",
        "decoded_imgs = model5.predict(x_train[901:])\n",
        "\n"
      ],
      "execution_count": null,
      "outputs": [
        {
          "output_type": "stream",
          "text": [
            "Model: \"sequential_31\"\n",
            "_________________________________________________________________\n",
            "Layer (type)                 Output Shape              Param #   \n",
            "=================================================================\n",
            "conv2d_193 (Conv2D)          (None, 44, 44, 32)        832       \n",
            "_________________________________________________________________\n",
            "activation_163 (Activation)  (None, 44, 44, 32)        0         \n",
            "_________________________________________________________________\n",
            "conv2d_194 (Conv2D)          (None, 44, 44, 32)        25632     \n",
            "_________________________________________________________________\n",
            "activation_164 (Activation)  (None, 44, 44, 32)        0         \n",
            "_________________________________________________________________\n",
            "conv2d_195 (Conv2D)          (None, 44, 44, 32)        25632     \n",
            "_________________________________________________________________\n",
            "activation_165 (Activation)  (None, 44, 44, 32)        0         \n",
            "_________________________________________________________________\n",
            "conv2d_196 (Conv2D)          (None, 44, 44, 32)        25632     \n",
            "_________________________________________________________________\n",
            "activation_166 (Activation)  (None, 44, 44, 32)        0         \n",
            "_________________________________________________________________\n",
            "conv2d_197 (Conv2D)          (None, 44, 44, 32)        25632     \n",
            "_________________________________________________________________\n",
            "activation_167 (Activation)  (None, 44, 44, 32)        0         \n",
            "_________________________________________________________________\n",
            "conv2d_198 (Conv2D)          (None, 44, 44, 32)        25632     \n",
            "_________________________________________________________________\n",
            "activation_168 (Activation)  (None, 44, 44, 32)        0         \n",
            "_________________________________________________________________\n",
            "conv2d_199 (Conv2D)          (None, 44, 44, 1)         33        \n",
            "=================================================================\n",
            "Total params: 129,025\n",
            "Trainable params: 129,025\n",
            "Non-trainable params: 0\n",
            "_________________________________________________________________\n",
            "Epoch 1/10\n",
            "900/900 [==============================] - 15s 17ms/step - loss: 0.0133 - acc: 3.0992e-05\n",
            "Epoch 2/10\n",
            "900/900 [==============================] - 12s 13ms/step - loss: 0.0018 - acc: 4.0174e-05\n",
            "Epoch 3/10\n",
            "900/900 [==============================] - 13s 14ms/step - loss: 0.0015 - acc: 4.0174e-05\n",
            "Epoch 4/10\n",
            "900/900 [==============================] - 12s 13ms/step - loss: 0.0011 - acc: 4.0174e-05\n",
            "Epoch 5/10\n",
            "900/900 [==============================] - 12s 14ms/step - loss: 9.9086e-04 - acc: 4.0174e-05\n",
            "Epoch 6/10\n",
            "900/900 [==============================] - 11s 13ms/step - loss: 9.2070e-04 - acc: 4.0174e-05\n",
            "Epoch 7/10\n",
            "900/900 [==============================] - 12s 14ms/step - loss: 8.7094e-04 - acc: 4.0174e-05\n",
            "Epoch 8/10\n",
            "900/900 [==============================] - 12s 13ms/step - loss: 8.4948e-04 - acc: 4.0174e-05\n",
            "Epoch 9/10\n",
            "900/900 [==============================] - 12s 13ms/step - loss: 8.4282e-04 - acc: 4.0174e-05\n",
            "Epoch 10/10\n",
            "900/900 [==============================] - 12s 13ms/step - loss: 7.3872e-04 - acc: 4.0174e-05\n"
          ],
          "name": "stdout"
        }
      ]
    },
    {
      "cell_type": "code",
      "metadata": {
        "id": "FLmcdG6HxNGX",
        "outputId": "d2799b35-433a-41d7-b052-f3b715f131ca",
        "colab": {
          "base_uri": "https://localhost:8080/",
          "height": 88
        }
      },
      "source": [
        "n = 100\n",
        "decoded_imgs = model5.predict(np.reshape(noise[901:], (len(noise[901:]), 44,44,1)))\n",
        "print(x_train.shape)\n",
        "plt.figure(figsize=(20, 4))\n",
        "'''\n",
        "for i in range(n):\n",
        "    plt.figure(figsize=(2,2))\n",
        "    plt.imshow(train_images[901+i].reshape(44,44))\n",
        "    plt.gray()\n",
        "    plt.show()    \n",
        "    plt.figure(figsize=(2,2))\n",
        "    plt.imshow(noise[901+i].reshape(44,44))\n",
        "    plt.gray()\n",
        "    plt.show()\n",
        "    plt.figure(figsize=(2,2))\n",
        "    plt.imshow(decoded_imgs[i].reshape(44, 44))\n",
        "    plt.gray()\n",
        "    plt.show()\n",
        "'''"
      ],
      "execution_count": null,
      "outputs": [
        {
          "output_type": "stream",
          "text": [
            "(900, 44, 44, 1)\n"
          ],
          "name": "stdout"
        },
        {
          "output_type": "execute_result",
          "data": {
            "text/plain": [
              "'\\nfor i in range(n):\\n    plt.figure(figsize=(2,2))\\n    plt.imshow(train_images[901+i].reshape(44,44))\\n    plt.gray()\\n    plt.show()    \\n    plt.figure(figsize=(2,2))\\n    plt.imshow(noise[901+i].reshape(44,44))\\n    plt.gray()\\n    plt.show()\\n    plt.figure(figsize=(2,2))\\n    plt.imshow(decoded_imgs[i].reshape(44, 44))\\n    plt.gray()\\n    plt.show()\\n'"
            ]
          },
          "metadata": {
            "tags": []
          },
          "execution_count": 112
        },
        {
          "output_type": "display_data",
          "data": {
            "text/plain": [
              "<Figure size 1440x288 with 0 Axes>"
            ]
          },
          "metadata": {
            "tags": []
          }
        }
      ]
    },
    {
      "cell_type": "code",
      "metadata": {
        "id": "i25L29k9xNGb",
        "outputId": "249e38c9-b04a-47c1-91f7-57d7b2c78edf",
        "colab": {
          "base_uri": "https://localhost:8080/",
          "height": 156
        }
      },
      "source": [
        "import math\n",
        "import matplotlib.pyplot as pypt\n",
        "def snr5(imgarr,noisarr,reconarr):\n",
        "    imgar = []\n",
        "    noisar  = []\n",
        "    reconar = []\n",
        "    snrfinal = []\n",
        "    snr = []\n",
        "    a = []\n",
        "    b = []\n",
        "    k = []\n",
        "    l = []\n",
        "    m = []\n",
        "    snrinar = []\n",
        "    snroutar = []\n",
        "    for t in range(imgarr.shape[0]):\n",
        "        imgar = imgarr[t].reshape(44,44)\n",
        "        noisar = noisarr[t].reshape(44,44)\n",
        "        reconar = reconarr[t].reshape(44,44)\n",
        "        k = imgar[22][:]\n",
        "        l = noisar[22][:]\n",
        "        m = reconar[22][:]\n",
        "        a = np.subtract(k,l)\n",
        "        b = np.subtract(k,m)\n",
        "        diff1 = sum(map(lambda i : i * i, a))\n",
        "        diff2 = sum(map(lambda i : i * i, b))\n",
        "        img = sum(map(lambda i: i * i,imgar[22][:]))\n",
        "        snrin =  10 * math.log(img/diff1,10)\n",
        "        snrout =  10 * math.log(img/diff2,10)\n",
        "        snrimp = snrout - snrin\n",
        "        snrfinal.append(snrimp)\n",
        "        snrinar.append(snrin)\n",
        "        snroutar.append(snrout)\n",
        "        '''\n",
        "        pypt.plot(imgar[22])\n",
        "        pypt.show()\n",
        "        pypt.plot(noisar[22])\n",
        "        pypt.show()\n",
        "        pypt.plot(reconar[22])\n",
        "        pypt.show()\n",
        "        '''\n",
        "        snr = []\n",
        "        imgar = []\n",
        "        noisar  = []\n",
        "        reconar = []\n",
        "    return snrfinal,snrinar,snroutar\n",
        "snratio = []\n",
        "snrinar = []\n",
        "snroutar =  []\n",
        "snratio,snrinar,snroutar = snr5(train_images[901:],noise[901:],decoded_imgs)\n",
        "print(\"SNR 5\")\n",
        "print(snratio)\n",
        "print(snrinar)\n",
        "print(snroutar)\n",
        "print(np.mean(snratio))\n",
        "print(np.mean(snrinar))\n",
        "print(np.mean(snroutar))\n",
        "snrtablefinal.append(np.mean(snratio))"
      ],
      "execution_count": null,
      "outputs": [
        {
          "output_type": "stream",
          "text": [
            "SNR 5\n",
            "[2.8255920167699813, 3.604932242578162, 5.120818969420718, 8.815627275055235, 2.7807810960490897, 1.9902256233056086, -0.03841262033560966, 0.055240908768631414, 7.180669792718227, 3.8700247107049286, 2.8119336437846094, 1.475594882061909, 5.355537606307131, 1.768053242822159, 3.3180429201182307, 3.527354199897893, 1.855132361119363, 1.1532161941155046, 2.165244974361311, 3.650392717560404, 1.7447183621356643, 5.379704941562213, 7.887563177474014, 4.143653517745555, 2.5834480499606194, 3.5587667149451327, 4.170533292502977, 1.079710951504044, 2.604621693264793, 3.345856630392401, -0.8286863482083717, 4.580293210094332, 5.873022160889896, 2.796767226694442, 4.944563266435914, 4.21756955457942, 4.435918117411958, 3.339320664173421, 3.445901055256158, 1.536217625430229, 4.098909867874362, 4.487129841515177, 1.5770155397071903, 5.525957773845551, 2.8857518329853065, 1.6472748623173992, 0.6941761092474756, 0.9091202713069251, 5.396822365711937, 4.575532403941864, 4.4890190029300925, 5.625758169067495, -0.6839381144142216, 6.6670871234049685, 2.003294073415354, 3.75986845957274, 4.118732627390521, 4.576693605448689, 1.4472573873090155, 6.483482532821686, 3.3343494735083077, -0.4892034819016686, 2.210668587395528, 6.790850831348635, 1.267788453949926, 5.863252590896998, 6.591479979178015, 1.9401043148068702, 0.3823716100696579, 5.665152666733388, 1.2108704310891483, 2.9959547345406605, 5.821008586068871, 3.928881133023694, 5.130597607240592, 2.6328437373445404, 3.9444988377291956, 3.5145924118914422, 1.5269353030886563, 5.185924558078764, 7.8812647778517295, -0.9004569732364267, 4.158256871183632, 4.104853477069792, 1.831213512728315, -0.3284844497958055, 2.5878176071515853, 1.1596711516185643, 2.0320612403958656, 1.374821103455151, 3.1976931488405143, 2.472833474642652, 3.146269749906768, 4.7980553279064715, 1.3077199115883467, 2.6120304141225184, 1.367196616541687, 4.733170328866201, 4.670908809133746, 0.4092697272079704, 2.6148618038107827, 4.501849824947854, 1.307046291408021, 3.929250580219442, 0.9520427816098582, 4.278854667998555, 1.647636597593639, -2.088348870992075, 4.19748784298508, 4.589882695813191, 5.125451545889405]\n",
            "[24.222802919857003, 18.014944033118244, 20.31341704719013, 22.246499768297486, 22.188752090288773, 22.374411968516135, 22.85705857572857, 23.910377325245502, 21.50870805596726, 21.551185429969017, 23.424637030064687, 26.035503681483085, 20.324727951197623, 20.475716694124856, 21.720734131517375, 20.577475824097448, 21.684855308956095, 22.368674798938997, 23.682527527542746, 25.029438947713484, 22.820244243702362, 20.823785604673777, 22.555174341534595, 19.40999400403905, 21.704894444680725, 23.107155018570417, 22.03105051381111, 23.319527757005673, 22.133599016534028, 21.611732424118024, 24.04214301217214, 23.73487496649789, 22.35960312044998, 22.88420441599598, 22.376672685751338, 19.87779741255558, 24.215470305178858, 20.348851273223147, 21.677095898153368, 23.194326231398932, 21.488855446600915, 21.852706108455994, 22.279392386430334, 22.90749334861236, 23.553847687403355, 22.75208332638098, 22.28025799348222, 23.466128640962964, 23.915655905073994, 20.096296834226024, 20.518418449888088, 21.742777005674597, 20.48190218886113, 23.06914572959734, 20.934355108047882, 21.19641748154396, 22.314187748402276, 20.10999190679167, 18.50905946012944, 22.832010511638718, 19.997181735655072, 21.781947613680895, 22.86777218358477, 23.85846564327222, 20.77283448351365, 23.145562911536025, 19.709027069421534, 22.651297780384297, 23.302565216273354, 23.963381677212837, 22.357698663138457, 23.251000069243553, 23.0340678272991, 20.078478502175535, 21.962222370544126, 23.600794850439417, 22.40569741969786, 22.354002764399837, 23.491397346272997, 24.12000390624805, 23.271203028881338, 20.100853678067946, 20.600896494654705, 20.439411765880546, 22.337062467030155, 24.936159353870995, 17.352487348466845, 21.06081049762698, 21.834195890009653, 20.19006337525335, 22.92044913778746, 20.215628472173858, 22.868828087294002, 22.56903292929819, 21.33356161300673, 22.96463616817318, 21.419912414581166, 21.866401238370422, 21.186855242829097, 24.0350854705908, 19.563140977172164, 21.574832307206723, 21.477289569045638, 22.52240122779877, 23.37464535863581, 20.163288226234112, 23.13057336524438, 21.420206274634207, 20.577501671120434, 24.565633258053232, 21.31195759945056]\n",
            "[27.048394936626984, 21.619876275696406, 25.434236016610846, 31.06212704335272, 24.969533186337863, 24.364637591821744, 22.81864595539296, 23.965618234014133, 28.68937784868549, 25.421210140673946, 26.236570673849297, 27.511098563544994, 25.680265557504754, 22.243769936947015, 25.038777051635606, 24.10483002399534, 23.53998767007546, 23.5218909930545, 25.847772501904057, 28.679831665273888, 24.564962605838026, 26.20349054623599, 30.44273751900861, 23.553647521784605, 24.288342494641345, 26.66592173351555, 26.201583806314087, 24.399238708509717, 24.73822070979882, 24.957589054510425, 23.21345666396377, 28.315168176592223, 28.232625281339875, 25.680971642690423, 27.32123595218725, 24.095366967135, 28.651388422590816, 23.688171937396568, 25.122996953409526, 24.73054385682916, 25.587765314475277, 26.33983594997117, 23.856407926137525, 28.43345112245791, 26.43959952038866, 24.39935818869838, 22.974434102729695, 24.37524891226989, 29.31247827078593, 24.671829238167888, 25.00743745281818, 27.368535174742092, 19.79796407444691, 29.73623285300231, 22.937649181463236, 24.9562859411167, 26.432920375792797, 24.68668551224036, 19.956316847438455, 29.315493044460403, 23.33153120916338, 21.292744131779227, 25.078440770980297, 30.649316474620854, 22.040622937463574, 29.008815502433023, 26.30050704859955, 24.591402095191167, 23.684936826343012, 29.628534343946225, 23.568569094227605, 26.246954803784213, 28.85507641336797, 24.00735963519923, 27.092819977784718, 26.233638587783958, 26.350196257427054, 25.86859517629128, 25.018332649361653, 29.305928464326815, 31.152467806733068, 19.20039670483152, 24.759153365838337, 24.54426524295034, 24.16827597975847, 24.60767490407519, 19.94030495561843, 22.220481649245546, 23.86625713040552, 21.5648844787085, 26.118142286627975, 22.68846194681651, 26.01509783720077, 27.36708825720466, 22.641281524595076, 25.576666582295697, 22.787109031122853, 26.599571567236623, 25.857764051962842, 24.44435519779877, 22.178002780982947, 26.076682132154577, 22.78433586045366, 26.451651808018212, 24.32668814024567, 24.442142894232667, 24.77820996283802, 19.331857403642132, 24.774989514105513, 29.155515953866423, 26.437409145339966]\n",
            "3.2210046514538018\n",
            "22.044432735229755\n",
            "25.26543738668356\n"
          ],
          "name": "stdout"
        }
      ]
    },
    {
      "cell_type": "markdown",
      "metadata": {
        "id": "zl_CxBMpxkrz"
      },
      "source": [
        "MODEL 6"
      ]
    },
    {
      "cell_type": "code",
      "metadata": {
        "id": "km3IM194xmzh",
        "outputId": "5fa630d4-d228-40ea-a260-3d354ed3f2ad",
        "colab": {
          "base_uri": "https://localhost:8080/",
          "height": 1000
        }
      },
      "source": [
        "model6 = Sequential()\n",
        "inp=(44,44,1)\n",
        "model6.add(Conv2D(32, (5, 5), input_shape=inp,padding=\"same\"))\n",
        "model6.add(Activation('relu'))\n",
        "#model6.add(MaxPooling2D(pool_size=(2, 2),padding=\"same\"))\n",
        "model6.add(Conv2D(32, (5, 5),padding=\"same\"))\n",
        "model6.add(Activation('relu'))\n",
        "#model6.add(MaxPooling2D(pool_size=(2, 2),padding=\"same\"))\n",
        "model6.add(Conv2D(32, (5, 5),padding=\"same\"))\n",
        "model6.add(Activation('relu'))\n",
        "model6.add(Conv2D(32, (7, 7), input_shape=inp,padding=\"same\"))\n",
        "model6.add(Activation('relu'))\n",
        "#model6.add(MaxPooling2D(pool_size=(2, 2),padding=\"same\"))\n",
        "model6.add(Conv2D(32, (7, 7),padding=\"same\"))\n",
        "model6.add(Activation('relu'))\n",
        "#model6.add(MaxPooling2D(pool_size=(2, 2),padding=\"same\"))\n",
        "model6.add(Conv2D(32, (7, 7),padding=\"same\"))\n",
        "model6.add(Activation('relu'))\n",
        "#model6.add(UpSampling2D())\n",
        "model6.add(Conv2D(1, (1, 1),padding=\"same\"))\n",
        "model6.summary()\n",
        "model6.compile(optimizer='adadelta', loss='mean_squared_error',metrics=['accuracy'])\n",
        "\n",
        "history=model6.fit(x_train, x_test,\n",
        "                epochs=10,\n",
        "                batch_size=1,\n",
        "                shuffle=True)\n",
        "decoded_imgs = model6.predict(x_train[901:])\n",
        "\n",
        "print(history.history)\n",
        "plt.plot(history.history['loss'])\n"
      ],
      "execution_count": null,
      "outputs": [
        {
          "output_type": "stream",
          "text": [
            "Model: \"sequential_5\"\n",
            "_________________________________________________________________\n",
            "Layer (type)                 Output Shape              Param #   \n",
            "=================================================================\n",
            "conv2d_29 (Conv2D)           (None, 44, 44, 32)        832       \n",
            "_________________________________________________________________\n",
            "activation_25 (Activation)   (None, 44, 44, 32)        0         \n",
            "_________________________________________________________________\n",
            "conv2d_30 (Conv2D)           (None, 44, 44, 32)        25632     \n",
            "_________________________________________________________________\n",
            "activation_26 (Activation)   (None, 44, 44, 32)        0         \n",
            "_________________________________________________________________\n",
            "conv2d_31 (Conv2D)           (None, 44, 44, 32)        25632     \n",
            "_________________________________________________________________\n",
            "activation_27 (Activation)   (None, 44, 44, 32)        0         \n",
            "_________________________________________________________________\n",
            "conv2d_32 (Conv2D)           (None, 44, 44, 32)        50208     \n",
            "_________________________________________________________________\n",
            "activation_28 (Activation)   (None, 44, 44, 32)        0         \n",
            "_________________________________________________________________\n",
            "conv2d_33 (Conv2D)           (None, 44, 44, 32)        50208     \n",
            "_________________________________________________________________\n",
            "activation_29 (Activation)   (None, 44, 44, 32)        0         \n",
            "_________________________________________________________________\n",
            "conv2d_34 (Conv2D)           (None, 44, 44, 32)        50208     \n",
            "_________________________________________________________________\n",
            "activation_30 (Activation)   (None, 44, 44, 32)        0         \n",
            "_________________________________________________________________\n",
            "conv2d_35 (Conv2D)           (None, 44, 44, 1)         33        \n",
            "=================================================================\n",
            "Total params: 202,753\n",
            "Trainable params: 202,753\n",
            "Non-trainable params: 0\n",
            "_________________________________________________________________\n",
            "Epoch 1/10\n",
            "900/900 [==============================] - 9s 10ms/step - loss: 0.0300 - acc: 1.4922e-05\n",
            "Epoch 2/10\n",
            "900/900 [==============================] - 8s 9ms/step - loss: 0.0030 - acc: 1.8939e-05\n",
            "Epoch 3/10\n",
            "900/900 [==============================] - 8s 9ms/step - loss: 0.0013 - acc: 1.8939e-05\n",
            "Epoch 4/10\n",
            "900/900 [==============================] - 8s 9ms/step - loss: 0.0011 - acc: 1.8939e-05\n",
            "Epoch 5/10\n",
            "900/900 [==============================] - 8s 9ms/step - loss: 0.0010 - acc: 1.8939e-05\n",
            "Epoch 6/10\n",
            "900/900 [==============================] - 8s 9ms/step - loss: 8.8411e-04 - acc: 1.8939e-05\n",
            "Epoch 7/10\n",
            "900/900 [==============================] - 8s 9ms/step - loss: 8.5854e-04 - acc: 1.8939e-05\n",
            "Epoch 8/10\n",
            "900/900 [==============================] - 8s 9ms/step - loss: 7.7435e-04 - acc: 1.8939e-05\n",
            "Epoch 9/10\n",
            "900/900 [==============================] - 8s 9ms/step - loss: 7.3479e-04 - acc: 1.8939e-05\n",
            "Epoch 10/10\n",
            "900/900 [==============================] - 8s 9ms/step - loss: 7.3699e-04 - acc: 1.8939e-05\n",
            "{'loss': [0.030021383692898477, 0.0030298287431166195, 0.0012531950881627077, 0.0011117993796425354, 0.0010020140047547303, 0.0008841060437326734, 0.0008585439166280493, 0.0007743529537078252, 0.0007347936316768432, 0.0007369917973442675], 'acc': [1.4921946179432174e-05, 1.8939393404353825e-05, 1.8939393404353825e-05, 1.8939393404353825e-05, 1.8939393404353825e-05, 1.8939393404353825e-05, 1.8939393404353825e-05, 1.8939393404353825e-05, 1.8939393404353825e-05, 1.8939393404353825e-05]}\n"
          ],
          "name": "stdout"
        },
        {
          "output_type": "execute_result",
          "data": {
            "text/plain": [
              "[<matplotlib.lines.Line2D at 0x7f70a41e9278>]"
            ]
          },
          "metadata": {
            "tags": []
          },
          "execution_count": 9
        },
        {
          "output_type": "display_data",
          "data": {
            "image/png": "[encoded data removed]",
            "text/plain": [
              "<Figure size 432x288 with 1 Axes>"
            ]
          },
          "metadata": {
            "tags": []
          }
        }
      ]
    },
    {
      "cell_type": "code",
      "metadata": {
        "id": "1GOeDn4yxmzl",
        "outputId": "6014a549-4223-41c2-906f-c8122710d44e",
        "colab": {
          "base_uri": "https://localhost:8080/",
          "height": 282
        }
      },
      "source": [
        "# n = 100\n",
        "# decoded_imgs = model6.predict(np.reshape(noise[901:], (len(noise[901:]), 44,44,1)))\n",
        "# print(x_train.shape)\n",
        "# plt.figure(figsize=(20, 4))\n",
        "# for i in range(n):\n",
        "#     plt.figure(figsize=(2,2))\n",
        "#     plt.imshow(train_images[901+i].reshape(44,44))\n",
        "#     plt.gray()\n",
        "#     plt.show()    \n",
        "#     plt.figure(figsize=(2,2))\n",
        "#     plt.imshow(noise[901+i].reshape(44,44))\n",
        "#     plt.gray()\n",
        "#     plt.show()\n",
        "#     plt.figure(figsize=(2,2))\n",
        "#     plt.imshow(decoded_imgs[i].reshape(44, 44))\n",
        "#     plt.gray()\n",
        "#     plt.show()"
      ],
      "execution_count": null,
      "outputs": [
        {
          "output_type": "stream",
          "text": [
            "(854, 44, 44, 1)\n"
          ],
          "name": "stdout"
        },
        {
          "output_type": "error",
          "ename": "IndexError",
          "evalue": "ignored",
          "traceback": [
            "\u001b[0;31m---------------------------------------------------------------------------\u001b[0m",
            "\u001b[0;31mIndexError\u001b[0m                                Traceback (most recent call last)",
            "\u001b[0;32m<ipython-input-11-c4986ade4a50>\u001b[0m in \u001b[0;36m<module>\u001b[0;34m()\u001b[0m\n\u001b[1;32m      5\u001b[0m \u001b[0;32mfor\u001b[0m \u001b[0mi\u001b[0m \u001b[0;32min\u001b[0m \u001b[0mrange\u001b[0m\u001b[0;34m(\u001b[0m\u001b[0mn\u001b[0m\u001b[0;34m)\u001b[0m\u001b[0;34m:\u001b[0m\u001b[0;34m\u001b[0m\u001b[0;34m\u001b[0m\u001b[0m\n\u001b[1;32m      6\u001b[0m     \u001b[0mplt\u001b[0m\u001b[0;34m.\u001b[0m\u001b[0mfigure\u001b[0m\u001b[0;34m(\u001b[0m\u001b[0mfigsize\u001b[0m\u001b[0;34m=\u001b[0m\u001b[0;34m(\u001b[0m\u001b[0;36m2\u001b[0m\u001b[0;34m,\u001b[0m\u001b[0;36m2\u001b[0m\u001b[0;34m)\u001b[0m\u001b[0;34m)\u001b[0m\u001b[0;34m\u001b[0m\u001b[0;34m\u001b[0m\u001b[0m\n\u001b[0;32m----> 7\u001b[0;31m     \u001b[0mplt\u001b[0m\u001b[0;34m.\u001b[0m\u001b[0mimshow\u001b[0m\u001b[0;34m(\u001b[0m\u001b[0mtrain_images\u001b[0m\u001b[0;34m[\u001b[0m\u001b[0;36m901\u001b[0m\u001b[0;34m+\u001b[0m\u001b[0mi\u001b[0m\u001b[0;34m]\u001b[0m\u001b[0;34m.\u001b[0m\u001b[0mreshape\u001b[0m\u001b[0;34m(\u001b[0m\u001b[0;36m44\u001b[0m\u001b[0;34m,\u001b[0m\u001b[0;36m44\u001b[0m\u001b[0;34m)\u001b[0m\u001b[0;34m)\u001b[0m\u001b[0;34m\u001b[0m\u001b[0;34m\u001b[0m\u001b[0m\n\u001b[0m\u001b[1;32m      8\u001b[0m     \u001b[0mplt\u001b[0m\u001b[0;34m.\u001b[0m\u001b[0mgray\u001b[0m\u001b[0;34m(\u001b[0m\u001b[0;34m)\u001b[0m\u001b[0;34m\u001b[0m\u001b[0;34m\u001b[0m\u001b[0m\n\u001b[1;32m      9\u001b[0m     \u001b[0mplt\u001b[0m\u001b[0;34m.\u001b[0m\u001b[0mshow\u001b[0m\u001b[0;34m(\u001b[0m\u001b[0;34m)\u001b[0m\u001b[0;34m\u001b[0m\u001b[0;34m\u001b[0m\u001b[0m\n",
            "\u001b[0;31mIndexError\u001b[0m: index 901 is out of bounds for axis 0 with size 854"
          ]
        },
        {
          "output_type": "display_data",
          "data": {
            "text/plain": [
              "<Figure size 1440x288 with 0 Axes>"
            ]
          },
          "metadata": {
            "tags": []
          }
        },
        {
          "output_type": "display_data",
          "data": {
            "text/plain": [
              "<Figure size 144x144 with 0 Axes>"
            ]
          },
          "metadata": {
            "tags": []
          }
        }
      ]
    },
    {
      "cell_type": "code",
      "metadata": {
        "id": "oYlUk6gHxmzo",
        "outputId": "2c9825f9-4c50-4f88-f42a-a9d3955f7f6d",
        "colab": {
          "base_uri": "https://localhost:8080/",
          "height": 156
        }
      },
      "source": [
        "import math\n",
        "import matplotlib.pyplot as pypt\n",
        "def snr5(imgarr,noisarr,reconarr):\n",
        "    imgar = []\n",
        "    noisar  = []\n",
        "    reconar = []\n",
        "    snrfinal = []\n",
        "    snr = []\n",
        "    a = []\n",
        "    b = []\n",
        "    k = []\n",
        "    l = []\n",
        "    m = []\n",
        "    snrinar = []\n",
        "    snroutar = []\n",
        "    for t in range(imgarr.shape[0]):\n",
        "        imgar = imgarr[t].reshape(44,44)\n",
        "        noisar = noisarr[t].reshape(44,44)\n",
        "        reconar = reconarr[t].reshape(44,44)\n",
        "        k = imgar[22][:]\n",
        "        l = noisar[22][:]\n",
        "        m = reconar[22][:]\n",
        "        a = np.subtract(k,l)\n",
        "        b = np.subtract(k,m)\n",
        "        diff1 = sum(map(lambda i : i * i, a))\n",
        "        diff2 = sum(map(lambda i : i * i, b))\n",
        "        img = sum(map(lambda i: i * i,imgar[22][:]))\n",
        "        snrin =  10 * math.log(img/diff1,10)\n",
        "        snrout =  10 * math.log(img/diff2,10)\n",
        "        snrimp = snrout - snrin\n",
        "        snrfinal.append(snrimp)\n",
        "        snrinar.append(snrin)\n",
        "        snroutar.append(snrout)\n",
        "        '''\n",
        "        pypt.plot(imgar[22])\n",
        "        pypt.show()\n",
        "        pypt.plot(noisar[22])\n",
        "        pypt.show()\n",
        "        pypt.plot(reconar[22])\n",
        "        pypt.show()\n",
        "        '''\n",
        "        snr = []\n",
        "        imgar = []\n",
        "        noisar  = []\n",
        "        reconar = []\n",
        "    return snrfinal,snrinar,snroutar\n",
        "snratio = []\n",
        "snrinar = []\n",
        "snroutar =  []\n",
        "snratio,snrinar,snroutar = snr5(train_images[901:],noise[901:],decoded_imgs)\n",
        "print(\"SNR 5\")\n",
        "print(snratio)\n",
        "print(snrinar)\n",
        "print(snroutar)\n",
        "print(np.mean(snratio))\n",
        "print(np.mean(snrinar))\n",
        "print(np.mean(snroutar))\n",
        "snrtablefinal.append(np.mean(snratio))"
      ],
      "execution_count": null,
      "outputs": [
        {
          "output_type": "stream",
          "text": [
            "SNR 5\n",
            "[2.333605218469927, 6.175361547786274, 4.080554603336889, 2.125175106170051, 2.0297296797709805, 3.4590200539197298, 6.016949080981977, 4.252879011845142, 5.251356465508923, 7.212409357930056, 5.186741126825016, -3.772842456583362, 6.515565173465806, 4.679698954842326, 4.960138326912009, 6.057993837438268, 7.667660040107155, 2.97709320026512, 2.815930018742634, -2.511312919373058, 5.160312722734439, 4.336337327389451, 1.4525083252104487, 7.943209107278282, 6.318594611540949, 1.5306334981359804, 6.1119382202619015, 4.153014078540746, 5.621650894399082, 4.1156884957372775, -3.339990970507447, 2.9350581078581435, 1.3464377755044374, 3.5007661608141625, 1.340336491105404, 6.678661800040821, -0.8807370691507295, 4.714787691622487, 3.459050735725505, 3.2062945585513134, 2.082451515821379, 7.5572781401396405, 4.172157638681352, 0.3640574588059202, 3.77853918871908, 5.699787102270175, 2.2397666087743318, -2.8312843770592586, 2.6507153219419166, 7.655835475376772, 5.580872711758232, 5.579315983903243, 4.842813489013178, 4.444245639977602, 7.923831866244267, 5.4810045610914955, 0.7034472415227953, 4.548400477572464, 7.702425920173024, 1.4221234053527319, 7.489375868369304, 5.7744684033570195, 4.1560756385257065, -0.16401227094237214, 7.411686748312071, 2.26481437543643, 5.380825349510388, 6.42246711830694, 0.9574544938229401, -0.41775102447253687, 2.966903448243354, 2.285767581060753, 0.9574147799048056, 6.719934041022867, 4.546045299710073, 3.2440402925172442, 2.6824759160447087, 2.707331662551084, -0.9359635048044623, -0.4563881186563705, 0.18376704523861065, 4.953904770605643, 8.792517604607696, 5.132554959357055, 1.549520655610717, 0.37472225340174603, 8.194970453547327, 4.249375363960084, 5.419402686237682, 8.536228853219093, 4.491990991871429, 6.553790340769172, 2.0120353624080387, 0.5845200503474324, 5.06037027623217, 2.11670406362083, 5.6146675689735055, 2.3586067120172487, 5.621280270684487, -2.2620154594178743, 7.550075898968085, 4.312580226253232, 1.4287371942497913, 2.0246316588702093, -0.03902176018767989, 7.0317355398508745, 5.78174375854276, 2.1613847762461447, 5.251554184079183, -2.138098862935365, 3.8165584414022504]\n",
            "[24.222802919857003, 18.014944033118244, 20.31341704719013, 22.246499768297486, 22.188752090288773, 22.374411968516135, 22.85705857572857, 23.910377325245502, 21.50870805596726, 21.551185429969017, 23.424637030064687, 26.035503681483085, 20.324727951197623, 20.475716694124856, 21.720734131517375, 20.577475824097448, 21.684855308956095, 22.368674798938997, 23.682527527542746, 25.029438947713484, 22.820244243702362, 20.823785604673777, 22.555174341534595, 19.40999400403905, 21.704894444680725, 23.107155018570417, 22.03105051381111, 23.319527757005673, 22.133599016534028, 21.611732424118024, 24.04214301217214, 23.73487496649789, 22.35960312044998, 22.88420441599598, 22.376672685751338, 19.87779741255558, 24.215470305178858, 20.348851273223147, 21.677095898153368, 23.194326231398932, 21.488855446600915, 21.852706108455994, 22.279392386430334, 22.90749334861236, 23.553847687403355, 22.75208332638098, 22.28025799348222, 23.466128640962964, 23.915655905073994, 20.096296834226024, 20.518418449888088, 21.742777005674597, 20.48190218886113, 23.06914572959734, 20.934355108047882, 21.19641748154396, 22.314187748402276, 20.10999190679167, 18.50905946012944, 22.832010511638718, 19.997181735655072, 21.781947613680895, 22.86777218358477, 23.85846564327222, 20.77283448351365, 23.145562911536025, 19.709027069421534, 22.651297780384297, 23.302565216273354, 23.963381677212837, 22.357698663138457, 23.251000069243553, 23.0340678272991, 20.078478502175535, 21.962222370544126, 23.600794850439417, 22.40569741969786, 22.354002764399837, 23.491397346272997, 24.12000390624805, 23.271203028881338, 20.100853678067946, 20.600896494654705, 20.439411765880546, 22.337062467030155, 24.936159353870995, 17.352487348466845, 21.06081049762698, 21.834195890009653, 20.19006337525335, 22.92044913778746, 20.215628472173858, 22.868828087294002, 22.56903292929819, 21.33356161300673, 22.96463616817318, 21.419912414581166, 21.866401238370422, 21.186855242829097, 24.0350854705908, 19.563140977172164, 21.574832307206723, 21.477289569045638, 22.52240122779877, 23.37464535863581, 20.163288226234112, 23.13057336524438, 21.420206274634207, 20.577501671120434, 24.565633258053232, 21.31195759945056]\n",
            "[26.55640813832693, 24.190305580904518, 24.393971650527018, 24.371674874467537, 24.218481770059753, 25.833432022435865, 28.874007656710546, 28.163256337090644, 26.760064521476185, 28.763594787899073, 28.611378156889703, 22.262661224899723, 26.84029312466343, 25.155415648967182, 26.680872458429384, 26.635469661535716, 29.35251534906325, 25.345767999204117, 26.49845754628538, 22.518126028340426, 27.9805569664368, 25.160122932063228, 24.007682666745044, 27.35320311131733, 28.023489056221674, 24.637788516706397, 28.14298873407301, 27.47254183554642, 27.75524991093311, 25.7274209198553, 20.702152041664693, 26.669933074356035, 23.706040895954416, 26.384970576810144, 23.71700917685674, 26.5564592125964, 23.33473323602813, 25.063638964845634, 25.136146633878873, 26.400620789950246, 23.571306962422295, 29.409984248595634, 26.451550025111686, 23.27155080741828, 27.332386876122435, 28.451870428651155, 24.52002460225655, 20.634844263903705, 26.56637122701591, 27.752132309602796, 26.09929116164632, 27.32209298957784, 25.32471567787431, 27.513391369574943, 28.85818697429215, 26.677422042635456, 23.01763498992507, 24.658392384364134, 26.211485380302463, 24.25413391699145, 27.486557604024377, 27.556416017037915, 27.023847822110476, 23.694453372329846, 28.18452123182572, 25.410377286972455, 25.089852418931923, 29.073764898691238, 24.260019710096294, 23.5456306527403, 25.32460211138181, 25.536767650304306, 23.991482607203906, 26.798412543198403, 26.5082676702542, 26.84483514295666, 25.088173335742567, 25.06133442695092, 22.555433841468535, 23.66361578759168, 23.45497007411995, 25.05475844867359, 29.3934140992624, 25.5719667252376, 23.88658312264087, 25.31088160727274, 25.547457802014172, 25.310185861587065, 27.253598576247335, 28.726292228472442, 27.41244012965889, 26.76941881294303, 24.88086344970204, 23.15355297964562, 26.3939318892389, 25.08134023179401, 27.03457998355467, 24.22500795038767, 26.808135513513584, 21.773070011172926, 27.11321687614025, 25.887412533459955, 22.90602676329543, 24.54703288666898, 23.33562359844813, 27.195023766084987, 28.91231712378714, 23.581591050880352, 25.829055855199616, 22.427534395117867, 25.128516040852812]\n",
            "3.6894577057449225\n",
            "22.044432735229755\n",
            "25.73389044097468\n"
          ],
          "name": "stdout"
        }
      ]
    },
    {
      "cell_type": "code",
      "metadata": {
        "id": "4-3sazT0BVDy",
        "outputId": "eff6b239-c732-43d4-a852-2e6239105e92",
        "colab": {
          "base_uri": "https://localhost:8080/",
          "height": 54
        }
      },
      "source": [
        "print(snrtablefinal)"
      ],
      "execution_count": null,
      "outputs": [
        {
          "output_type": "stream",
          "text": [
            "[5.461652281541653, 4.984778126308711, 5.546314062555707, 5.942727031042939, 3.2210046514538018, 3.6894577057449225]\n"
          ],
          "name": "stdout"
        }
      ]
    }
  ]
}