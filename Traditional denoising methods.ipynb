{
  "nbformat": 4,
  "nbformat_minor": 0,
  "metadata": {
    "kernelspec": {
      "display_name": "Python 3",
      "language": "python",
      "name": "python3"
    },
    "language_info": {
      "codemirror_mode": {
        "name": "ipython",
        "version": 3
      },
      "file_extension": ".py",
      "mimetype": "text/x-python",
      "name": "python",
      "nbconvert_exporter": "python",
      "pygments_lexer": "ipython3",
      "version": "3.7.6"
    },
    "colab": {
      "name": "Copy of filtering44.ipynb",
      "provenance": [],
      "collapsed_sections": []
    }
  },
  "cells": [
    {
      "cell_type": "code",
      "metadata": {
        "id": "70Pxk-6inJaY",
        "outputId": "c3be0335-3399-461a-b640-0c1661eca41f",
        "colab": {
          "base_uri": "https://localhost:8080/",
          "height": 54
        }
      },
      "source": [
        "from google.colab import drive\n",
        "drive.mount('/content/drive')"
      ],
      "execution_count": null,
      "outputs": [
        {
          "output_type": "stream",
          "text": [
            "Drive already mounted at /content/drive; to attempt to forcibly remount, call drive.mount(\"/content/drive\", force_remount=True).\n"
          ],
          "name": "stdout"
        }
      ]
    },
    {
      "cell_type": "code",
      "metadata": {
        "id": "GDULC5grxZ71",
        "outputId": "d0e72b56-8d6d-4374-bad2-86bee4944888",
        "colab": {
          "base_uri": "https://localhost:8080/",
          "height": 86
        }
      },
      "source": [
        "!pip install bm3d"
      ],
      "execution_count": null,
      "outputs": [
        {
          "output_type": "stream",
          "text": [
            "Requirement already satisfied: bm3d in /usr/local/lib/python3.6/dist-packages (3.0.6)\n",
            "Requirement already satisfied: numpy in /usr/local/lib/python3.6/dist-packages (from bm3d) (1.18.4)\n",
            "Requirement already satisfied: PyWavelets in /usr/local/lib/python3.6/dist-packages (from bm3d) (1.1.1)\n",
            "Requirement already satisfied: scipy in /usr/local/lib/python3.6/dist-packages (from bm3d) (1.4.1)\n"
          ],
          "name": "stdout"
        }
      ]
    },
    {
      "cell_type": "code",
      "metadata": {
        "id": "sThS7FsMxcBf"
      },
      "source": [
        "import bm3d"
      ],
      "execution_count": null,
      "outputs": []
    },
    {
      "cell_type": "code",
      "metadata": {
        "id": "cwxLojEkJNm8"
      },
      "source": [
        "import numpy as np\n",
        "import cv2 as cv\n",
        "import glob\n",
        "import cv2\n",
        "from google.colab.patches import cv2_imshow\n",
        "import numpy as np\n",
        "import matplotlib.pyplot as plt"
      ],
      "execution_count": null,
      "outputs": []
    },
    {
      "cell_type": "code",
      "metadata": {
        "id": "_JMnWv9-QEC2"
      },
      "source": [
        "sz=50\n",
        "xc=8\n",
        "yc=58\n",
        "input_nodes=sz*sz\n",
        "output_nodes =sz*sz\n",
        "\n",
        "def noisy(image):\n",
        "      row,col= image.shape\n",
        "      mean = 0\n",
        "      var = 100\n",
        "      sigma = var**0.5\n",
        "      gauss = np.random.normal(mean,sigma,(row,col))\n",
        "      gauss = gauss.reshape(row,col)\n",
        "      noisy = image + gauss\n",
        "      return noisy"
      ],
      "execution_count": null,
      "outputs": []
    },
    {
      "cell_type": "code",
      "metadata": {
        "id": "0-0O6CFGJNnK"
      },
      "source": [
        "#compare with denoised using ur specific SNR function or pre-defined PSNR \n",
        "def noise_removal(img):\n",
        "    imgs=[]\n",
        "    cv2_imshow( img)\n",
        "\n",
        "    #gaussian blur/filter\n",
        "    gaussblur = cv.GaussianBlur(img,(3,3),0)\n",
        "    imgs.append(gaussblur)\n",
        "    plt.figure(figsize=(2,2))\n",
        "    plt.imshow(np.resize(gaussblur,(sz,sz)),cmap=\"gray\")\n",
        "    plt.show()\n",
        "    #cv.waitKey(0)\n",
        "    gausspsnr = cv.PSNR(img, gaussblur)\n",
        "    print(\"Gauss PSNR\",gausspsnr)\n",
        "    \n",
        "    #averaging\n",
        "    avgblur = cv.blur(img,(3,3))\n",
        "    imgs.append(avgblur)\n",
        "    cv2_imshow( avgblur)\n",
        "    #cv.waitKey(0)\n",
        "    avgpsnr = cv.PSNR(img, avgblur)\n",
        "    print(\"avg PSNR\",avgpsnr)\n",
        "    \n",
        "    # covolve with custom filter\n",
        "    # kernel = np.ones((5,5),np.float32)/25\n",
        "    # dst = cv.filter2D(img,-1,kernel)\n",
        "    dst=1\n",
        "    medianblur = cv.medianBlur(img,dst,3)\n",
        "    imgs.append(medianblur)\n",
        "    cv2_imshow( medianblur)\n",
        "    cv.waitKey(0)\n",
        "    #medpsnr = cv.PSNR(img, dst)\n",
        "    #print(\"median PSNR\",medpsnr)\n",
        "\n",
        "    arr = np.uint8(img)\n",
        "    h, w = arr.shape\n",
        "\n",
        "    bilatblur = cv.bilateralFilter(arr,3,3,3)\n",
        "    imgs.append(bilatblur)\n",
        "    cv2_imshow( bilatblur)\n",
        "    #cv.waitKey(0)\n",
        "    bilatpsnr = cv.PSNR(arr, bilatblur)\n",
        "    print(\"bilateral PSNR\", bilatpsnr)\n",
        "    \n",
        "    \n",
        "    #save rotated image on pc\n",
        "    #cv.imwrite(\"imgrot\"+str(angle)+\".png\", final)\n",
        "    \n",
        "    #save flattened img into csv\n",
        "    #finalflat= final.flatten()/255.0\n",
        "    #write this to excel\n",
        "    #den=cv.fastNlMeansDenoising(arr)\n",
        "    #imgs.append(den)\n",
        "    #cv2_imshow(arr)\n",
        "    den=bm3d.bm3d(img,15)\n",
        "    imgs.append(den)\n",
        "    cv.waitKey(0)\n",
        "    cv.destroyAllWindows()\n",
        "    return np.asarray(imgs)"
      ],
      "execution_count": null,
      "outputs": []
    },
    {
      "cell_type": "code",
      "metadata": {
        "id": "huALErSj-gxn",
        "outputId": "59b88268-150b-40b4-93f2-e31cc5c3a25b",
        "colab": {
          "base_uri": "https://localhost:8080/",
          "height": 132
        }
      },
      "source": [
        "sz=50\n",
        "xc=8\n",
        "yc=58\n",
        "input_nodes=sz*sz\n",
        "hidden_nodes=2300\n",
        "output_nodes =sz*sz\n",
        "train_x_list=['drive/My Drive/tdata/rbc/5 (315).png',\n",
        " 'drive/My Drive/tdata/rbc/5 (319).png',\n",
        " 'drive/My Drive/tdata/rbc/5 (46).png',\n",
        " 'drive/My Drive/tdata/rbc/5 (50).png',\n",
        " 'drive/My Drive/tdata/rbc/5 (80).png',\n",
        " 'drive/My Drive/tdata/rbc/5 (289).png',\n",
        " 'drive/My Drive/tdata/rbc/5 (101).png',\n",
        " 'drive/My Drive/tdata/rbc/5 (128).png',\n",
        " 'drive/My Drive/tdata/rbc/5 (14).png',\n",
        " 'drive/My Drive/tdata/rbc/5 (163).png',\n",
        " 'drive/My Drive/tdata/rbc/5 (177).png',\n",
        " 'drive/My Drive/tdata/rbc/5 (193).png',\n",
        " 'drive/My Drive/tdata/rbc/5 (216).png',\n",
        " 'drive/My Drive/tdata/rbc/5 (229).png',\n",
        " 'drive/My Drive/tdata/rbc/5 (251).png',\n",
        " 'drive/My Drive/tdata/rbc/5 (265).png',\n",
        " 'drive/My Drive/tdata/rbc/5 (292).png',\n",
        " 'drive/My Drive/tdata/HepG2/3 (23).png',\n",
        " 'drive/My Drive/tdata/HepG2/3 (41).png',\n",
        " 'drive/My Drive/tdata/HepG2/3 (58).png',\n",
        " 'drive/My Drive/tdata/MCF7/4 (18).png',\n",
        " 'drive/My Drive/tdata/MCF7/4 (40).png',\n",
        " 'drive/My Drive/tdata/MCF7/4 (54).png',\n",
        " 'drive/My Drive/tdata/10/1 (116).png',\n",
        " 'drive/My Drive/tdata/10/1 (134).png',\n",
        " 'drive/My Drive/tdata/10/1 (147).png',\n",
        " 'drive/My Drive/tdata/10/1 (163).png',\n",
        " 'drive/My Drive/tdata/10/1 (184).png',\n",
        " 'drive/My Drive/tdata/10/1 (30).png',\n",
        " 'drive/My Drive/tdata/10/1 (53).png',\n",
        " 'drive/My Drive/tdata/10/1 (68).png',\n",
        " 'drive/My Drive/tdata/10/1 (9).png',\n",
        " 'drive/My Drive/tdata/20/2 (100).png',\n",
        " 'drive/My Drive/tdata/20/2 (122).png',\n",
        " 'drive/My Drive/tdata/20/2 (142).png',\n",
        " 'drive/My Drive/tdata/20/2 (161).png',\n",
        " 'drive/My Drive/tdata/20/2 (173).png',\n",
        " 'drive/My Drive/tdata/20/2 (191).png',\n",
        " 'drive/My Drive/tdata/20/2 (212).png',\n",
        " 'drive/My Drive/tdata/20/2 (230).png',\n",
        " 'drive/My Drive/tdata/20/2 (38).png',\n",
        " 'drive/My Drive/tdata/20/2 (50).png',\n",
        " 'drive/My Drive/tdata/20/2 (71).png',\n",
        " 'drive/My Drive/tdata/20/2 (9).png',\n",
        " 'drive/My Drive/tdata/cd4/6 (106).png',\n",
        " 'drive/My Drive/tdata/cd4/6 (122).png',\n",
        " 'drive/My Drive/tdata/cd4/6 (146).png',\n",
        " 'drive/My Drive/tdata/cd4/6 (16).png',\n",
        " 'drive/My Drive/tdata/cd4/6 (18).png',\n",
        " 'drive/My Drive/tdata/cd4/6 (198).png',\n",
        " 'drive/My Drive/tdata/cd4/6 (212).png',\n",
        " 'drive/My Drive/tdata/cd4/6 (233).png',\n",
        " 'drive/My Drive/tdata/cd4/6 (251).png',\n",
        " 'drive/My Drive/tdata/cd4/6 (267).png',\n",
        " 'drive/My Drive/tdata/cd4/6 (291).png',\n",
        " 'drive/My Drive/tdata/cd4/6 (309).png',\n",
        " 'drive/My Drive/tdata/cd4/6 (323).png',\n",
        " 'drive/My Drive/tdata/cd4/6 (344).png',\n",
        " 'drive/My Drive/tdata/cd4/6 (359).png',\n",
        " 'drive/My Drive/tdata/cd4/6 (55).png',\n",
        " 'drive/My Drive/tdata/cd4/6 (72).png',\n",
        " 'drive/My Drive/tdata/cd4/6 (88).png',\n",
        " 'drive/My Drive/tdata/cd8/7 (107).png',\n",
        " 'drive/My Drive/tdata/cd8/7 (127).png',\n",
        " 'drive/My Drive/tdata/cd8/7 (146).png',\n",
        " 'drive/My Drive/tdata/cd8/7 (162).png',\n",
        " 'drive/My Drive/tdata/cd8/7 (177).png',\n",
        " 'drive/My Drive/tdata/cd8/7 (201).png',\n",
        " 'drive/My Drive/tdata/cd8/7 (217).png',\n",
        " 'drive/My Drive/tdata/cd8/7 (233).png',\n",
        " 'drive/My Drive/tdata/cd8/7 (4).png',\n",
        " 'drive/My Drive/tdata/cd8/7 (61).png',\n",
        " 'drive/My Drive/tdata/cd8/7 (8).png',\n",
        " 'drive/My Drive/tdata/cd8/7 (95).png']\n",
        "#random.shuffle(train_x_list)\n",
        "'''print(train_x_list)\n",
        "train_images=[]\n",
        "train_lis = []\n",
        "x_list = []\n",
        "train_lis_auginp = []\n",
        "noise=[]\n",
        "noise_test = []\n",
        "for i in range(len(train_x_list)):\n",
        "  if(i%10==0):\n",
        "    x_list.append(cv2.imread(train_x_list[i],0)[xc:yc,xc:yc].flatten())'''\n",
        "'''  #else:\n",
        "    #a = cv2.imread(train_x_list[i],0)\n",
        "if(train_x_list[i].split('/')[3]=='HepG2' or train_x_list[i].split('/')[3]=='MCF7'):\n",
        "      for ag in img_augmentor(a):\n",
        "        #train_lis_auginp.append(ag[xc:yc,xc:yc])\n",
        "        train_images.append(ag[xc:yc,xc:yc].flatten())\n",
        "    else:\n",
        "      train_lis_auginp.append(a[xc:yc,xc:yc])\n",
        "      train_images.append(a[xc:yc,xc:yc].flatten())'''\n",
        "'''#noise.append(noisy(cv2.imread(train_x_list[i],0))[11:55,11:55].flatten())\n",
        "    #cv2_imshow(np.resize(noise[i],(44,44)))'''\n",
        "#saving input list before conv to np array\n",
        "#train_lis = train_images\n",
        "#train_images=np.array(train_images)\n",
        "#x_list contains test images and train_lis contains train images\n",
        "#print(train_images.shape)\n",
        "\n",
        "#print(train_images)"
      ],
      "execution_count": null,
      "outputs": [
        {
          "output_type": "error",
          "ename": "IndentationError",
          "evalue": "ignored",
          "traceback": [
            "\u001b[0;36m  File \u001b[0;32m\"<ipython-input-162-87f624987d12>\"\u001b[0;36m, line \u001b[0;32m94\u001b[0m\n\u001b[0;31m    '''if(train_x_list[i].split('/')[3]=='HepG2' or train_x_list[i].split('/')[3]=='MCF7'):\u001b[0m\n\u001b[0m    ^\u001b[0m\n\u001b[0;31mIndentationError\u001b[0m\u001b[0;31m:\u001b[0m unexpected indent\n"
          ]
        }
      ]
    },
    {
      "cell_type": "code",
      "metadata": {
        "id": "MdqaqK0kJNnc"
      },
      "source": [
        "\n",
        "noise_test_out = np.array(x_list)\n",
        "print(noise_test_out.shape[0])\n",
        "noise_test = []\n",
        "for j in range(noise_test_out.shape[0]):\n",
        "  #print(j)\n",
        "  noise_test.append(noisy(np.reshape(noise_test_out[j],(sz,sz))).flatten())\n",
        "noise_test = np.array(noise_test)\n",
        "\n",
        "recon=[]\n",
        "for each in noise_test:\n",
        "  each.resize(sz,sz)\n",
        "  each.shape\n",
        "  recon.append(noise_removal(each))\n",
        "  # plt.figure(figsize=(2,2))\n",
        "  # plt.imshow(np.resize(den,(sz,sz)),cmap=\"gray\")\n",
        "  # plt.show()\n",
        "    \n"
      ],
      "execution_count": null,
      "outputs": []
    },
    {
      "cell_type": "code",
      "metadata": {
        "id": "U7ub0ijCVP4L"
      },
      "source": [
        "np.asarray(recon).shape"
      ],
      "execution_count": null,
      "outputs": []
    },
    {
      "cell_type": "code",
      "metadata": {
        "id": "jfOYSXFsrI-u"
      },
      "source": [
        "import scipy\n",
        "import matplotlib.pyplot as plt\n",
        "\n",
        "#print(noise_test.shape)\n",
        "#x_test=np.true_divide(noise_test,255)\n",
        "#print(x_test.shape)\n",
        "# recon = []\n",
        "for j in range(noise_test.shape[0]):\n",
        "#   y1=np.matmul(w1,noise_test[j])\n",
        "#   #print(\"y1-\",y1)\n",
        "#   theta1=relu(y1)\n",
        "#   #print(\"theta3-\",theta3)\n",
        "#   out=np.matmul(w2,theta1)\n",
        "#   #print(out)\n",
        "#   theta2=relu(out)\n",
        "#   recon.append(theta2)\n",
        "            \n",
        "  if(j%1==0):\n",
        "    print(\"orig\")\n",
        "    #plt.figure(figsize=(3,3))\n",
        "    #plt.imshow(np.resize(np.multiply(noise_test[j],255),(44,44)), origin=\"upper\",cmap=\"gray\")\n",
        "    #plt.show()\n",
        "    plt.figure(figsize=(2,2))\n",
        "    plt.imshow(np.resize(recon[j][0],(sz,sz)),cmap=\"gray\")\n",
        "    plt.imsave(\"drive/My Drive/elma/gaus/gaus \"+str(train_x_list[j].split('/')[-2]+train_x_list[j].split('/')[-1])+\".png\",np.resize(recon[j][0],(sz,sz)),cmap='gray')\n",
        "    plt.show()\n",
        "    plt.figure(figsize=(2,2))\n",
        "    plt.imshow(np.resize(recon[j][1],(sz,sz)),cmap=\"gray\")\n",
        "    plt.imsave(\"drive/My Drive/elma/avg/avg  \"+str(train_x_list[j].split('/')[-2]+train_x_list[j].split('/')[-1])+\".png\",np.resize(recon[j][1],(sz,sz)),cmap='gray')\n",
        "    plt.show()\n",
        "    plt.figure(figsize=(2,2))\n",
        "    plt.imshow(np.resize(recon[j][3],(sz,sz)),cmap=\"gray\")\n",
        "    plt.imsave(\"drive/My Drive/elma/bilat/bilat \"+str(train_x_list[j].split('/')[-2]+train_x_list[j].split('/')[-1])+\".png\",np.resize(recon[j][3],(sz,sz)),cmap='gray')\n",
        "    plt.show()\n",
        "    plt.figure(figsize=(2,2))\n",
        "    plt.imshow(np.resize(recon[j][4],(sz,sz)),cmap=\"gray\")\n",
        "    plt.imsave(\"drive/My Drive/elma/mean/mean \"+str(train_x_list[j].split('/')[-2]+train_x_list[j].split('/')[-1])+\".png\",np.resize(recon[j][4],(sz,sz)),cmap='gray')\n",
        "    plt.show()\n",
        "    plt.figure(figsize=(2,2))\n",
        "    plt.imshow(np.resize(recon[j][5],(sz,sz)),cmap=\"gray\")\n",
        "    plt.imsave(\"drive/My Drive/elma/bmd/bmd \"+str(train_x_list[j].split('/')[-2]+train_x_list[j].split('/')[-1])+\".png\",np.resize(recon[j][5],(sz,sz)),cmap='gray')\n",
        "    plt.show()\n",
        "    plt.figure(figsize=(2,2))\n",
        "    plt.imshow(np.resize(noise_test[j],(sz,sz)),cmap=\"gray\")\n",
        "    plt.imsave(\"drive/My Drive/elma/elmnsy/elmnsy \"+str(train_x_list[j].split('/')[-2]+train_x_list[j].split('/')[-1])+\".png\",np.resize(noise_test[j],(sz,sz)),cmap='gray')\n",
        "    plt.show()\n",
        "    print(\"expected\")\n",
        "    #plt.figure(figsize=(3,3))\n",
        "    #plt.imshow(np.resize(np.multiply(noise_test_out[j],255),(44,44)), origin=\"upper\",cmap=\"gray\")\n",
        "    #plt.show()\n",
        "    plt.figure(figsize=(2,2))\n",
        "    plt.imshow(np.resize(noise_test_out[j],(sz,sz)),cmap=\"gray\")\n",
        "    plt.imsave(\"drive/My Drive/elma/elminp/elminp \"+str(train_x_list[j].split('/')[-2]+train_x_list[j].split('/')[-1])+\".png\",np.resize(noise_test_out[j],(sz,sz)),cmap='gray')\n",
        "    plt.show()\n",
        "    #cv2_imshow(np.resize(np.multiply(noise_test[j],255),(44,44)))\n",
        "    # print(\"recon \")\n",
        "    # #cv2_imshow(np.resize(np.multiply(theta2,255),(44,44)))\n",
        "    # plt.figure(figsize=(2,2))\n",
        "    # plt.imshow(np.resize(np.multiply(theta2,255),(sz,sz)),cmap=\"gray\")\n",
        "    # plt.imsave(\"drive/My Drive/elma/elmop/elmop\"+str(j)+\".png\",np.resize(np.multiply(theta2,255),(44,44)),cmap='gray')\n",
        "    # plt.show()"
      ],
      "execution_count": null,
      "outputs": []
    },
    {
      "cell_type": "code",
      "metadata": {
        "id": "CpvD9iTggNt0"
      },
      "source": [
        "recon=np.array(recon)"
      ],
      "execution_count": null,
      "outputs": []
    },
    {
      "cell_type": "code",
      "metadata": {
        "id": "Va7hYSLYg3hS"
      },
      "source": [
        "recon.shape"
      ],
      "execution_count": null,
      "outputs": []
    },
    {
      "cell_type": "code",
      "metadata": {
        "id": "6M9HxAeOrYpd"
      },
      "source": [
        "#a = noise_test_out\n",
        "#b = np.true_divide(noise_test,255)\n",
        "gs=[i[0] for i in recon]\n",
        "avg=[i[1] for i in recon]\n",
        "med=[i[2] for i in recon]\n",
        "bilat=[i[3] for i in recon]\n",
        "men=[i[4] for i in recon]\n",
        "bmd=[i[5] for i in recon]\n",
        "def find(nsy,nor,rec):\n",
        "\n",
        "  aa = []\n",
        "  bb = []\n",
        "  cc = []\n",
        "  print(np.array(nsy).shape,np.array(nor).shape,np.array(rec).shape)\n",
        "  for lk in range(nor.shape[0]):\n",
        "    a = nor[lk]\n",
        "    a  = (a - np.amin(a))/(np.amax(a)-np.amin(a))\n",
        "    aa.append(a)\n",
        "    b = nsy[lk]\n",
        "    b  = (b - np.amin(b))/(np.amax(b)-np.amin(b))\n",
        "    bb.append(b)\n",
        "    c = rec[lk]\n",
        "    #c = np.true_divide(recon,255)\n",
        "    c  = (c - np.amin(c))/(np.amax(c)-np.amin(c))\n",
        "    cc.append(c)\n",
        "  aa = np.array(aa)\n",
        "  bb = np.array(bb)\n",
        "  cc = np.array(cc)\n",
        "  return aa,bb,cc\n",
        "  print(np.amax(bb))\n",
        "\n",
        "gsa,gsb,gsc=find(noise_test,noise_test_out,gs)\n",
        "avga,avgb,avgc=find(noise_test,noise_test_out,avg)\n",
        "meda,medb,medc=find(noise_test,noise_test_out,med)\n",
        "bilata,bilatb,bilatc=find(noise_test,noise_test_out,bilat)\n",
        "mena,menb,menc=find(noise_test,noise_test_out,men)\n",
        "bmda,bmdb,bmdc=find(noise_test,noise_test_out,bmd)"
      ],
      "execution_count": null,
      "outputs": []
    },
    {
      "cell_type": "code",
      "metadata": {
        "id": "Qih73ByYmFQf"
      },
      "source": [
        "!pip install xlsxwriter"
      ],
      "execution_count": null,
      "outputs": []
    },
    {
      "cell_type": "code",
      "metadata": {
        "id": "UU1jZHFiADWG"
      },
      "source": [
        "import xlsxwriter\n",
        "\n",
        "new_list = [['first', 'second'], ['third', 'four'], [1, 2, 3, 4, 5, 6]]\n",
        "\n",
        "with xlsxwriter.Workbook('test.xlsx') as workbook:\n",
        "    worksheet = workbook.add_worksheet()\n",
        "\n",
        "    for row_num, data in enumerate(new_list):\n",
        "        worksheet.write_row(row_num, 0, data)"
      ],
      "execution_count": null,
      "outputs": []
    },
    {
      "cell_type": "code",
      "metadata": {
        "id": "MUPKUFWRJi7q"
      },
      "source": [
        "import math\n",
        "import matplotlib.pyplot as pypt\n",
        "def snr5(imgarr,noisarr,reconarr):\n",
        "    imgar = []\n",
        "    noisar  = []\n",
        "    reconar = []\n",
        "    snrfinal = []\n",
        "    snr = []\n",
        "    a = []\n",
        "    b = []\n",
        "    k = []\n",
        "    l = []\n",
        "    m = []\n",
        "    snrinar = []\n",
        "    snroutar = []\n",
        "    for t in range(imgarr.shape[0]):\n",
        "        imgar = imgarr[t].reshape(sz,sz)\n",
        "        noisar = noisarr[t].reshape(sz,sz)\n",
        "        reconar = reconarr[t].reshape(sz,sz)\n",
        "        k = imgar[25][:]\n",
        "        l = noisar[25][:]\n",
        "        m = reconar[25][:]\n",
        "        a = np.subtract(k,l)\n",
        "        b = np.subtract(k,m)\n",
        "        diff1 = sum(map(lambda i : i * i, a))\n",
        "        diff2 = sum(map(lambda i : i * i, b))\n",
        "        img = sum(map(lambda i: i * i,imgar[sz//2][:]))\n",
        "        snrin =  10 * math.log(img/diff1,10)\n",
        "        snrout =  10 * math.log(img/diff2,10)\n",
        "        snrimp = snrout - snrin\n",
        "        #if(snrimp>0):\n",
        "        snrfinal.append(snrimp)\n",
        "        snrinar.append(snrin)\n",
        "        snroutar.append(snrout)\n",
        "        snr = []\n",
        "        imgar = []\n",
        "        noisar  = []\n",
        "        reconar = []\n",
        "    return snrfinal,snrinar,snroutar\n",
        "snratio = []\n",
        "snrinar = []\n",
        "snroutar =  []\n",
        "snratio,snrinar,snroutar = snr5(gsa,gsb,gsc)\n",
        "print(\"SNR 5\")\n",
        "print(snratio)\n",
        "print(snrinar)\n",
        "print(snroutar)\n",
        "print(np.mean(snratio))\n",
        "print(np.mean(snrinar))\n",
        "print(np.mean(snroutar))\n",
        "print(np.std(snratio))\n",
        "print(np.std(snrinar))\n",
        "print(np.std(snroutar))\n",
        "snrlist=[[\"Gaussian\"],[\"snratio\"],snratio,[\"snrinar\"],snrinar,[\"snroutar\"],snroutar,[\"snratiomean\",np.mean(snratio)],[\"snrinarmean\",np.mean(snrinar)],[\"snroutarmean\",np.mean(snroutar)],[\"snratiostd\",np.std(snratio)],[\"snrinarstd\",np.std(snrinar)],[\"snroutarstd\",np.std(snroutar)]]\n",
        "\n",
        "\n",
        "\n",
        "snratio,snrinar,snroutar = snr5(avga,avgb,avgc)\n",
        "print(\"SNR 5\")\n",
        "print(snratio)\n",
        "print(snrinar)\n",
        "print(snroutar)\n",
        "print(np.mean(snratio))\n",
        "print(np.mean(snrinar))\n",
        "print(np.mean(snroutar))\n",
        "print(np.std(snratio))\n",
        "print(np.std(snrinar))\n",
        "print(np.std(snroutar))\n",
        "snrlist.extend([[\"average\"],[\"snratio\"],snratio,[\"snrinar\"],snrinar,[\"snroutar\"],snroutar,[\"snratiomean\",np.mean(snratio)],[\"snrinarmean\",np.mean(snrinar)],[\"snroutarmean\",np.mean(snroutar)],[\"snratiostd\",np.std(snratio)],[\"snrinarstd\",np.std(snrinar)],[\"snroutarstd\",np.std(snroutar)]])\n",
        "\n",
        "\n",
        "snratio,snrinar,snroutar = snr5(meda,medb,medc)\n",
        "print(\"SNR 5\")\n",
        "print(snratio)\n",
        "print(snrinar)\n",
        "print(snroutar)\n",
        "print(np.mean(snratio))\n",
        "print(np.mean(snrinar))\n",
        "print(np.mean(snroutar))\n",
        "print(np.std(snratio))\n",
        "print(np.std(snrinar))\n",
        "print(np.std(snroutar))\n",
        "snrlist.extend([[\"median\"],[\"snratio\"],snratio,[\"snrinar\"],snrinar,[\"snroutar\"],snroutar,[\"snratiomean\",np.mean(snratio)],[\"snrinarmean\",np.mean(snrinar)],[\"snroutarmean\",np.mean(snroutar)],[\"snratiostd\",np.std(snratio)],[\"snrinarstd\",np.std(snrinar)],[\"snroutarstd\",np.std(snroutar)]])\n",
        "\n",
        "\n",
        "snratio,snrinar,snroutar = snr5(bilata,bilatb,bilatc)\n",
        "print(\"SNR 5\")\n",
        "print(snratio)\n",
        "print(snrinar)\n",
        "print(snroutar)\n",
        "print(np.mean(snratio))\n",
        "print(np.mean(snrinar))\n",
        "print(np.mean(snroutar))\n",
        "print(np.std(snratio))\n",
        "print(np.std(snrinar))\n",
        "print(np.std(snroutar))\n",
        "snrlist.extend([[\"bilateral\"],[\"snratio\"],snratio,[\"snrinar\"],snrinar,[\"snroutar\"],snroutar,[\"snratiomean\",np.mean(snratio)],[\"snrinarmean\",np.mean(snrinar)],[\"snroutarmean\",np.mean(snroutar)],[\"snratiostd\",np.std(snratio)],[\"snrinarstd\",np.std(snrinar)],[\"snroutarstd\",np.std(snroutar)]])\n",
        "\n",
        "\n",
        "snratio,snrinar,snroutar = snr5(mena,menb,menc)\n",
        "print(\"SNR 5\")\n",
        "print(snratio)\n",
        "print(snrinar)\n",
        "print(snroutar)\n",
        "print(np.mean(snratio))\n",
        "print(np.mean(snrinar))\n",
        "print(np.mean(snroutar))\n",
        "print(np.std(snratio))\n",
        "print(np.std(snrinar))\n",
        "print(np.std(snroutar))\n",
        "snrlist.extend([[\"meannl\"],[\"snratio\"],snratio,[\"snrinar\"],snrinar,[\"snroutar\"],snroutar,[\"snratiomean\",np.mean(snratio)],[\"snrinarmean\",np.mean(snrinar)],[\"snroutarmean\",np.mean(snroutar)],[\"snratiostd\",np.std(snratio)],[\"snrinarstd\",np.std(snrinar)],[\"snroutarstd\",np.std(snroutar)]])\n",
        "\n",
        "\n",
        "snratio,snrinar,snroutar = snr5(bmda,bmdb,bmdc)\n",
        "print(\"SNR 5\")\n",
        "print(snratio)\n",
        "print(snrinar)\n",
        "print(snroutar)\n",
        "print(np.mean(snratio))\n",
        "print(np.mean(snrinar))\n",
        "print(np.mean(snroutar))\n",
        "print(np.std(snratio))\n",
        "print(np.std(snrinar))\n",
        "print(np.std(snroutar))\n",
        "snrlist.extend([[\"bm3d\"],[\"snratio\"],snratio,[\"snrinar\"],snrinar,[\"snroutar\"],snroutar,[\"snratiomean\",np.mean(snratio)],[\"snrinarmean\",np.mean(snrinar)],[\"snroutarmean\",np.mean(snroutar)],[\"snratiostd\",np.std(snratio)],[\"snrinarstd\",np.std(snrinar)],[\"snroutarstd\",np.std(snroutar)]])\n",
        "print(snrlist)\n",
        "with xlsxwriter.Workbook('test.xlsx') as workbook:\n",
        "    worksheet = workbook.add_worksheet()\n",
        "\n",
        "    for row_num, data in enumerate(snrlist):\n",
        "        worksheet.write_row(row_num, 0, data)"
      ],
      "execution_count": null,
      "outputs": []
    },
    {
      "cell_type": "code",
      "metadata": {
        "id": "N2sPsdH7avvK"
      },
      "source": [
        "dfg=[3,4,6,7,8]\n",
        "ne=open('sd','w')\n",
        "ne.write(str(dfg))\n",
        "ne.close()"
      ],
      "execution_count": null,
      "outputs": []
    }
  ]
}